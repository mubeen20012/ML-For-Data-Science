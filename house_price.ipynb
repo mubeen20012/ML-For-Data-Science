{
  "nbformat": 4,
  "nbformat_minor": 0,
  "metadata": {
    "colab": {
      "provenance": []
    },
    "kernelspec": {
      "name": "python3",
      "display_name": "Python 3"
    },
    "language_info": {
      "name": "python"
    }
  },
  "cells": [
    {
      "cell_type": "code",
      "execution_count": null,
      "metadata": {
        "colab": {
          "base_uri": "https://localhost:8080/"
        },
        "id": "Lm2k0eheEhl7",
        "outputId": "6cc706d3-6b3f-4e6b-df9e-7fb23b171dac"
      },
      "outputs": [
        {
          "output_type": "stream",
          "name": "stdout",
          "text": [
            "Requirement already satisfied: pandas in /usr/local/lib/python3.12/dist-packages (2.2.2)\n",
            "Requirement already satisfied: numpy>=1.26.0 in /usr/local/lib/python3.12/dist-packages (from pandas) (2.0.2)\n",
            "Requirement already satisfied: python-dateutil>=2.8.2 in /usr/local/lib/python3.12/dist-packages (from pandas) (2.9.0.post0)\n",
            "Requirement already satisfied: pytz>=2020.1 in /usr/local/lib/python3.12/dist-packages (from pandas) (2025.2)\n",
            "Requirement already satisfied: tzdata>=2022.7 in /usr/local/lib/python3.12/dist-packages (from pandas) (2025.2)\n",
            "Requirement already satisfied: six>=1.5 in /usr/local/lib/python3.12/dist-packages (from python-dateutil>=2.8.2->pandas) (1.17.0)\n"
          ]
        }
      ],
      "source": [
        "!pip install pandas"
      ]
    },
    {
      "cell_type": "code",
      "source": [
        "import pandas as pd\n",
        "print(pd.__version__)"
      ],
      "metadata": {
        "colab": {
          "base_uri": "https://localhost:8080/"
        },
        "id": "XYGNGecfEu7s",
        "outputId": "a7a1ea58-e7dc-45a0-fb8a-2efa9f359848"
      },
      "execution_count": null,
      "outputs": [
        {
          "output_type": "stream",
          "name": "stdout",
          "text": [
            "2.2.2\n"
          ]
        }
      ]
    },
    {
      "cell_type": "code",
      "source": [
        "from google.colab import files\n",
        "files.upload()"
      ],
      "metadata": {
        "colab": {
          "base_uri": "https://localhost:8080/",
          "height": 1000
        },
        "id": "b2kGrkffFCsj",
        "outputId": "091a397d-133a-4446-dc6e-594aaf3816fe"
      },
      "execution_count": null,
      "outputs": [
        {
          "output_type": "display_data",
          "data": {
            "text/plain": [
              "<IPython.core.display.HTML object>"
            ],
            "text/html": [
              "\n",
              "     <input type=\"file\" id=\"files-d02b8b5c-b28e-4027-966e-5e6f5d2779c4\" name=\"files[]\" multiple disabled\n",
              "        style=\"border:none\" />\n",
              "     <output id=\"result-d02b8b5c-b28e-4027-966e-5e6f5d2779c4\">\n",
              "      Upload widget is only available when the cell has been executed in the\n",
              "      current browser session. Please rerun this cell to enable.\n",
              "      </output>\n",
              "      <script>// Copyright 2017 Google LLC\n",
              "//\n",
              "// Licensed under the Apache License, Version 2.0 (the \"License\");\n",
              "// you may not use this file except in compliance with the License.\n",
              "// You may obtain a copy of the License at\n",
              "//\n",
              "//      http://www.apache.org/licenses/LICENSE-2.0\n",
              "//\n",
              "// Unless required by applicable law or agreed to in writing, software\n",
              "// distributed under the License is distributed on an \"AS IS\" BASIS,\n",
              "// WITHOUT WARRANTIES OR CONDITIONS OF ANY KIND, either express or implied.\n",
              "// See the License for the specific language governing permissions and\n",
              "// limitations under the License.\n",
              "\n",
              "/**\n",
              " * @fileoverview Helpers for google.colab Python module.\n",
              " */\n",
              "(function(scope) {\n",
              "function span(text, styleAttributes = {}) {\n",
              "  const element = document.createElement('span');\n",
              "  element.textContent = text;\n",
              "  for (const key of Object.keys(styleAttributes)) {\n",
              "    element.style[key] = styleAttributes[key];\n",
              "  }\n",
              "  return element;\n",
              "}\n",
              "\n",
              "// Max number of bytes which will be uploaded at a time.\n",
              "const MAX_PAYLOAD_SIZE = 100 * 1024;\n",
              "\n",
              "function _uploadFiles(inputId, outputId) {\n",
              "  const steps = uploadFilesStep(inputId, outputId);\n",
              "  const outputElement = document.getElementById(outputId);\n",
              "  // Cache steps on the outputElement to make it available for the next call\n",
              "  // to uploadFilesContinue from Python.\n",
              "  outputElement.steps = steps;\n",
              "\n",
              "  return _uploadFilesContinue(outputId);\n",
              "}\n",
              "\n",
              "// This is roughly an async generator (not supported in the browser yet),\n",
              "// where there are multiple asynchronous steps and the Python side is going\n",
              "// to poll for completion of each step.\n",
              "// This uses a Promise to block the python side on completion of each step,\n",
              "// then passes the result of the previous step as the input to the next step.\n",
              "function _uploadFilesContinue(outputId) {\n",
              "  const outputElement = document.getElementById(outputId);\n",
              "  const steps = outputElement.steps;\n",
              "\n",
              "  const next = steps.next(outputElement.lastPromiseValue);\n",
              "  return Promise.resolve(next.value.promise).then((value) => {\n",
              "    // Cache the last promise value to make it available to the next\n",
              "    // step of the generator.\n",
              "    outputElement.lastPromiseValue = value;\n",
              "    return next.value.response;\n",
              "  });\n",
              "}\n",
              "\n",
              "/**\n",
              " * Generator function which is called between each async step of the upload\n",
              " * process.\n",
              " * @param {string} inputId Element ID of the input file picker element.\n",
              " * @param {string} outputId Element ID of the output display.\n",
              " * @return {!Iterable<!Object>} Iterable of next steps.\n",
              " */\n",
              "function* uploadFilesStep(inputId, outputId) {\n",
              "  const inputElement = document.getElementById(inputId);\n",
              "  inputElement.disabled = false;\n",
              "\n",
              "  const outputElement = document.getElementById(outputId);\n",
              "  outputElement.innerHTML = '';\n",
              "\n",
              "  const pickedPromise = new Promise((resolve) => {\n",
              "    inputElement.addEventListener('change', (e) => {\n",
              "      resolve(e.target.files);\n",
              "    });\n",
              "  });\n",
              "\n",
              "  const cancel = document.createElement('button');\n",
              "  inputElement.parentElement.appendChild(cancel);\n",
              "  cancel.textContent = 'Cancel upload';\n",
              "  const cancelPromise = new Promise((resolve) => {\n",
              "    cancel.onclick = () => {\n",
              "      resolve(null);\n",
              "    };\n",
              "  });\n",
              "\n",
              "  // Wait for the user to pick the files.\n",
              "  const files = yield {\n",
              "    promise: Promise.race([pickedPromise, cancelPromise]),\n",
              "    response: {\n",
              "      action: 'starting',\n",
              "    }\n",
              "  };\n",
              "\n",
              "  cancel.remove();\n",
              "\n",
              "  // Disable the input element since further picks are not allowed.\n",
              "  inputElement.disabled = true;\n",
              "\n",
              "  if (!files) {\n",
              "    return {\n",
              "      response: {\n",
              "        action: 'complete',\n",
              "      }\n",
              "    };\n",
              "  }\n",
              "\n",
              "  for (const file of files) {\n",
              "    const li = document.createElement('li');\n",
              "    li.append(span(file.name, {fontWeight: 'bold'}));\n",
              "    li.append(span(\n",
              "        `(${file.type || 'n/a'}) - ${file.size} bytes, ` +\n",
              "        `last modified: ${\n",
              "            file.lastModifiedDate ? file.lastModifiedDate.toLocaleDateString() :\n",
              "                                    'n/a'} - `));\n",
              "    const percent = span('0% done');\n",
              "    li.appendChild(percent);\n",
              "\n",
              "    outputElement.appendChild(li);\n",
              "\n",
              "    const fileDataPromise = new Promise((resolve) => {\n",
              "      const reader = new FileReader();\n",
              "      reader.onload = (e) => {\n",
              "        resolve(e.target.result);\n",
              "      };\n",
              "      reader.readAsArrayBuffer(file);\n",
              "    });\n",
              "    // Wait for the data to be ready.\n",
              "    let fileData = yield {\n",
              "      promise: fileDataPromise,\n",
              "      response: {\n",
              "        action: 'continue',\n",
              "      }\n",
              "    };\n",
              "\n",
              "    // Use a chunked sending to avoid message size limits. See b/62115660.\n",
              "    let position = 0;\n",
              "    do {\n",
              "      const length = Math.min(fileData.byteLength - position, MAX_PAYLOAD_SIZE);\n",
              "      const chunk = new Uint8Array(fileData, position, length);\n",
              "      position += length;\n",
              "\n",
              "      const base64 = btoa(String.fromCharCode.apply(null, chunk));\n",
              "      yield {\n",
              "        response: {\n",
              "          action: 'append',\n",
              "          file: file.name,\n",
              "          data: base64,\n",
              "        },\n",
              "      };\n",
              "\n",
              "      let percentDone = fileData.byteLength === 0 ?\n",
              "          100 :\n",
              "          Math.round((position / fileData.byteLength) * 100);\n",
              "      percent.textContent = `${percentDone}% done`;\n",
              "\n",
              "    } while (position < fileData.byteLength);\n",
              "  }\n",
              "\n",
              "  // All done.\n",
              "  yield {\n",
              "    response: {\n",
              "      action: 'complete',\n",
              "    }\n",
              "  };\n",
              "}\n",
              "\n",
              "scope.google = scope.google || {};\n",
              "scope.google.colab = scope.google.colab || {};\n",
              "scope.google.colab._files = {\n",
              "  _uploadFiles,\n",
              "  _uploadFilesContinue,\n",
              "};\n",
              "})(self);\n",
              "</script> "
            ]
          },
          "metadata": {}
        },
        {
          "output_type": "stream",
          "name": "stdout",
          "text": [
            "Saving Housing.csv to Housing.csv\n"
          ]
        },
        {
          "output_type": "execute_result",
          "data": {
            "text/plain": [
              "{'Housing.csv': b'price,area,bedrooms,bathrooms,stories,mainroad,guestroom,basement,hotwaterheating,airconditioning,parking,prefarea,furnishingstatus\\r\\n13300000,7420,4,2,3,yes,no,no,no,yes,2,yes,furnished\\r\\n12250000,8960,4,4,4,yes,no,no,no,yes,3,no,furnished\\r\\n12250000,9960,3,2,2,yes,no,yes,no,no,2,yes,semi-furnished\\r\\n12215000,7500,4,2,2,yes,no,yes,no,yes,3,yes,furnished\\r\\n11410000,7420,4,1,2,yes,yes,yes,no,yes,2,no,furnished\\r\\n10850000,7500,3,3,1,yes,no,yes,no,yes,2,yes,semi-furnished\\r\\n10150000,8580,4,3,4,yes,no,no,no,yes,2,yes,semi-furnished\\r\\n10150000,16200,5,3,2,yes,no,no,no,no,0,no,unfurnished\\r\\n9870000,8100,4,1,2,yes,yes,yes,no,yes,2,yes,furnished\\r\\n9800000,5750,3,2,4,yes,yes,no,no,yes,1,yes,unfurnished\\r\\n9800000,13200,3,1,2,yes,no,yes,no,yes,2,yes,furnished\\r\\n9681000,6000,4,3,2,yes,yes,yes,yes,no,2,no,semi-furnished\\r\\n9310000,6550,4,2,2,yes,no,no,no,yes,1,yes,semi-furnished\\r\\n9240000,3500,4,2,2,yes,no,no,yes,no,2,no,furnished\\r\\n9240000,7800,3,2,2,yes,no,no,no,no,0,yes,semi-furnished\\r\\n9100000,6000,4,1,2,yes,no,yes,no,no,2,no,semi-furnished\\r\\n9100000,6600,4,2,2,yes,yes,yes,no,yes,1,yes,unfurnished\\r\\n8960000,8500,3,2,4,yes,no,no,no,yes,2,no,furnished\\r\\n8890000,4600,3,2,2,yes,yes,no,no,yes,2,no,furnished\\r\\n8855000,6420,3,2,2,yes,no,no,no,yes,1,yes,semi-furnished\\r\\n8750000,4320,3,1,2,yes,no,yes,yes,no,2,no,semi-furnished\\r\\n8680000,7155,3,2,1,yes,yes,yes,no,yes,2,no,unfurnished\\r\\n8645000,8050,3,1,1,yes,yes,yes,no,yes,1,no,furnished\\r\\n8645000,4560,3,2,2,yes,yes,yes,no,yes,1,no,furnished\\r\\n8575000,8800,3,2,2,yes,no,no,no,yes,2,no,furnished\\r\\n8540000,6540,4,2,2,yes,yes,yes,no,yes,2,yes,furnished\\r\\n8463000,6000,3,2,4,yes,yes,yes,no,yes,0,yes,semi-furnished\\r\\n8400000,8875,3,1,1,yes,no,no,no,no,1,no,semi-furnished\\r\\n8400000,7950,5,2,2,yes,no,yes,yes,no,2,no,unfurnished\\r\\n8400000,5500,4,2,2,yes,no,yes,no,yes,1,yes,semi-furnished\\r\\n8400000,7475,3,2,4,yes,no,no,no,yes,2,no,unfurnished\\r\\n8400000,7000,3,1,4,yes,no,no,no,yes,2,no,semi-furnished\\r\\n8295000,4880,4,2,2,yes,no,no,no,yes,1,yes,furnished\\r\\n8190000,5960,3,3,2,yes,yes,yes,no,no,1,no,unfurnished\\r\\n8120000,6840,5,1,2,yes,yes,yes,no,yes,1,no,furnished\\r\\n8080940,7000,3,2,4,yes,no,no,no,yes,2,no,furnished\\r\\n8043000,7482,3,2,3,yes,no,no,yes,no,1,yes,furnished\\r\\n7980000,9000,4,2,4,yes,no,no,no,yes,2,no,furnished\\r\\n7962500,6000,3,1,4,yes,yes,no,no,yes,2,no,unfurnished\\r\\n7910000,6000,4,2,4,yes,no,no,no,yes,1,no,semi-furnished\\r\\n7875000,6550,3,1,2,yes,no,yes,no,yes,0,yes,furnished\\r\\n7840000,6360,3,2,4,yes,no,no,no,yes,0,yes,furnished\\r\\n7700000,6480,3,2,4,yes,no,no,no,yes,2,no,unfurnished\\r\\n7700000,6000,4,2,4,yes,no,no,no,no,2,no,semi-furnished\\r\\n7560000,6000,4,2,4,yes,no,no,no,yes,1,no,furnished\\r\\n7560000,6000,3,2,3,yes,no,no,no,yes,0,no,semi-furnished\\r\\n7525000,6000,3,2,4,yes,no,no,no,yes,1,no,furnished\\r\\n7490000,6600,3,1,4,yes,no,no,no,yes,3,yes,furnished\\r\\n7455000,4300,3,2,2,yes,no,yes,no,no,1,no,unfurnished\\r\\n7420000,7440,3,2,1,yes,yes,yes,no,yes,0,yes,semi-furnished\\r\\n7420000,7440,3,2,4,yes,no,no,no,no,1,yes,unfurnished\\r\\n7420000,6325,3,1,4,yes,no,no,no,yes,1,no,unfurnished\\r\\n7350000,6000,4,2,4,yes,yes,no,no,yes,1,no,furnished\\r\\n7350000,5150,3,2,4,yes,no,no,no,yes,2,no,semi-furnished\\r\\n7350000,6000,3,2,2,yes,yes,no,no,yes,1,no,semi-furnished\\r\\n7350000,6000,3,1,2,yes,no,no,no,yes,1,no,unfurnished\\r\\n7343000,11440,4,1,2,yes,no,yes,no,no,1,yes,semi-furnished\\r\\n7245000,9000,4,2,4,yes,yes,no,no,yes,1,yes,furnished\\r\\n7210000,7680,4,2,4,yes,yes,no,no,yes,1,no,semi-furnished\\r\\n7210000,6000,3,2,4,yes,yes,no,no,yes,1,no,furnished\\r\\n7140000,6000,3,2,2,yes,yes,no,no,no,1,no,semi-furnished\\r\\n7070000,8880,2,1,1,yes,no,no,no,yes,1,no,semi-furnished\\r\\n7070000,6240,4,2,2,yes,no,no,no,yes,1,no,furnished\\r\\n7035000,6360,4,2,3,yes,no,no,no,yes,2,yes,furnished\\r\\n7000000,11175,3,1,1,yes,no,yes,no,yes,1,yes,furnished\\r\\n6930000,8880,3,2,2,yes,no,yes,no,yes,1,no,furnished\\r\\n6930000,13200,2,1,1,yes,no,yes,yes,no,1,no,furnished\\r\\n6895000,7700,3,2,1,yes,no,no,no,no,2,no,unfurnished\\r\\n6860000,6000,3,1,1,yes,no,no,no,yes,1,no,furnished\\r\\n6790000,12090,4,2,2,yes,no,no,no,no,2,yes,furnished\\r\\n6790000,4000,3,2,2,yes,no,yes,no,yes,0,yes,semi-furnished\\r\\n6755000,6000,4,2,4,yes,no,no,no,yes,0,no,unfurnished\\r\\n6720000,5020,3,1,4,yes,no,no,no,yes,0,yes,unfurnished\\r\\n6685000,6600,2,2,4,yes,no,yes,no,no,0,yes,furnished\\r\\n6650000,4040,3,1,2,yes,no,yes,yes,no,1,no,furnished\\r\\n6650000,4260,4,2,2,yes,no,no,yes,no,0,no,semi-furnished\\r\\n6650000,6420,3,2,3,yes,no,no,no,yes,0,yes,furnished\\r\\n6650000,6500,3,2,3,yes,no,no,no,yes,0,yes,furnished\\r\\n6650000,5700,3,1,1,yes,yes,yes,no,yes,2,yes,furnished\\r\\n6650000,6000,3,2,3,yes,yes,no,no,yes,0,no,furnished\\r\\n6629000,6000,3,1,2,yes,no,no,yes,no,1,yes,semi-furnished\\r\\n6615000,4000,3,2,2,yes,no,yes,no,yes,1,no,semi-furnished\\r\\n6615000,10500,3,2,1,yes,no,yes,no,yes,1,yes,furnished\\r\\n6580000,6000,3,2,4,yes,no,no,no,yes,0,no,semi-furnished\\r\\n6510000,3760,3,1,2,yes,no,no,yes,no,2,no,semi-furnished\\r\\n6510000,8250,3,2,3,yes,no,no,no,yes,0,no,furnished\\r\\n6510000,6670,3,1,3,yes,no,yes,no,no,0,yes,unfurnished\\r\\n6475000,3960,3,1,1,yes,no,yes,no,no,2,no,semi-furnished\\r\\n6475000,7410,3,1,1,yes,yes,yes,no,yes,2,yes,unfurnished\\r\\n6440000,8580,5,3,2,yes,no,no,no,no,2,no,furnished\\r\\n6440000,5000,3,1,2,yes,no,no,no,yes,0,no,semi-furnished\\r\\n6419000,6750,2,1,1,yes,yes,yes,no,no,2,yes,furnished\\r\\n6405000,4800,3,2,4,yes,yes,no,no,yes,0,no,furnished\\r\\n6300000,7200,3,2,1,yes,no,yes,no,yes,3,no,semi-furnished\\r\\n6300000,6000,4,2,4,yes,no,no,no,no,1,no,semi-furnished\\r\\n6300000,4100,3,2,3,yes,no,no,no,yes,2,no,semi-furnished\\r\\n6300000,9000,3,1,1,yes,no,yes,no,no,1,yes,furnished\\r\\n6300000,6400,3,1,1,yes,yes,yes,no,yes,1,yes,semi-furnished\\r\\n6293000,6600,3,2,3,yes,no,no,no,yes,0,yes,unfurnished\\r\\n6265000,6000,4,1,3,yes,yes,yes,no,no,0,yes,unfurnished\\r\\n6230000,6600,3,2,1,yes,no,yes,no,yes,0,yes,unfurnished\\r\\n6230000,5500,3,1,3,yes,no,no,no,no,1,yes,unfurnished\\r\\n6195000,5500,3,2,4,yes,yes,no,no,yes,1,no,semi-furnished\\r\\n6195000,6350,3,2,3,yes,yes,no,no,yes,0,no,furnished\\r\\n6195000,5500,3,2,1,yes,yes,yes,no,no,2,yes,furnished\\r\\n6160000,4500,3,1,4,yes,no,no,no,yes,0,no,unfurnished\\r\\n6160000,5450,4,2,1,yes,no,yes,no,yes,0,yes,semi-furnished\\r\\n6125000,6420,3,1,3,yes,no,yes,no,no,0,yes,unfurnished\\r\\n6107500,3240,4,1,3,yes,no,no,no,no,1,no,semi-furnished\\r\\n6090000,6615,4,2,2,yes,yes,no,yes,no,1,no,semi-furnished\\r\\n6090000,6600,3,1,1,yes,yes,yes,no,no,2,yes,semi-furnished\\r\\n6090000,8372,3,1,3,yes,no,no,no,yes,2,no,unfurnished\\r\\n6083000,4300,6,2,2,yes,no,no,no,no,0,no,furnished\\r\\n6083000,9620,3,1,1,yes,no,yes,no,no,2,yes,furnished\\r\\n6020000,6800,2,1,1,yes,yes,yes,no,no,2,no,furnished\\r\\n6020000,8000,3,1,1,yes,yes,yes,no,yes,2,yes,semi-furnished\\r\\n6020000,6900,3,2,1,yes,yes,yes,no,no,0,yes,unfurnished\\r\\n5950000,3700,4,1,2,yes,yes,no,no,yes,0,no,furnished\\r\\n5950000,6420,3,1,1,yes,no,yes,no,yes,0,yes,furnished\\r\\n5950000,7020,3,1,1,yes,no,yes,no,yes,2,yes,semi-furnished\\r\\n5950000,6540,3,1,1,yes,yes,yes,no,no,2,yes,furnished\\r\\n5950000,7231,3,1,2,yes,yes,yes,no,yes,0,yes,semi-furnished\\r\\n5950000,6254,4,2,1,yes,no,yes,no,no,1,yes,semi-furnished\\r\\n5950000,7320,4,2,2,yes,no,no,no,no,0,no,furnished\\r\\n5950000,6525,3,2,4,yes,no,no,no,no,1,no,furnished\\r\\n5943000,15600,3,1,1,yes,no,no,no,yes,2,no,semi-furnished\\r\\n5880000,7160,3,1,1,yes,no,yes,no,no,2,yes,unfurnished\\r\\n5880000,6500,3,2,3,yes,no,no,no,yes,0,no,unfurnished\\r\\n5873000,5500,3,1,3,yes,yes,no,no,yes,1,no,furnished\\r\\n5873000,11460,3,1,3,yes,no,no,no,no,2,yes,semi-furnished\\r\\n5866000,4800,3,1,1,yes,yes,yes,no,no,0,no,unfurnished\\r\\n5810000,5828,4,1,4,yes,yes,no,no,no,0,no,semi-furnished\\r\\n5810000,5200,3,1,3,yes,no,no,no,yes,0,no,semi-furnished\\r\\n5810000,4800,3,1,3,yes,no,no,no,yes,0,no,unfurnished\\r\\n5803000,7000,3,1,1,yes,no,yes,no,no,2,yes,semi-furnished\\r\\n5775000,6000,3,2,4,yes,no,no,no,yes,0,no,unfurnished\\r\\n5740000,5400,4,2,2,yes,no,no,no,yes,2,no,unfurnished\\r\\n5740000,4640,4,1,2,yes,no,no,no,no,1,no,semi-furnished\\r\\n5740000,5000,3,1,3,yes,no,no,no,yes,0,no,semi-furnished\\r\\n5740000,6360,3,1,1,yes,yes,yes,no,yes,2,yes,furnished\\r\\n5740000,5800,3,2,4,yes,no,no,no,yes,0,no,unfurnished\\r\\n5652500,6660,4,2,2,yes,yes,yes,no,no,1,yes,semi-furnished\\r\\n5600000,10500,4,2,2,yes,no,no,no,no,1,no,semi-furnished\\r\\n5600000,4800,5,2,3,no,no,yes,yes,no,0,no,unfurnished\\r\\n5600000,4700,4,1,2,yes,yes,yes,no,yes,1,no,furnished\\r\\n5600000,5000,3,1,4,yes,no,no,no,no,0,no,furnished\\r\\n5600000,10500,2,1,1,yes,no,no,no,no,1,no,semi-furnished\\r\\n5600000,5500,3,2,2,yes,no,no,no,no,1,no,semi-furnished\\r\\n5600000,6360,3,1,3,yes,no,no,no,no,0,yes,semi-furnished\\r\\n5600000,6600,4,2,1,yes,no,yes,no,no,0,yes,semi-furnished\\r\\n5600000,5136,3,1,2,yes,yes,yes,no,yes,0,yes,unfurnished\\r\\n5565000,4400,4,1,2,yes,no,no,no,yes,2,yes,semi-furnished\\r\\n5565000,5400,5,1,2,yes,yes,yes,no,yes,0,yes,furnished\\r\\n5530000,3300,3,3,2,yes,no,yes,no,no,0,no,semi-furnished\\r\\n5530000,3650,3,2,2,yes,no,no,no,no,2,no,semi-furnished\\r\\n5530000,6100,3,2,1,yes,no,yes,no,no,2,yes,furnished\\r\\n5523000,6900,3,1,1,yes,yes,yes,no,no,0,yes,semi-furnished\\r\\n5495000,2817,4,2,2,no,yes,yes,no,no,1,no,furnished\\r\\n5495000,7980,3,1,1,yes,no,no,no,no,2,no,semi-furnished\\r\\n5460000,3150,3,2,1,yes,yes,yes,no,yes,0,no,furnished\\r\\n5460000,6210,4,1,4,yes,yes,no,no,yes,0,no,furnished\\r\\n5460000,6100,3,1,3,yes,yes,no,no,yes,0,yes,semi-furnished\\r\\n5460000,6600,4,2,2,yes,yes,yes,no,no,0,yes,semi-furnished\\r\\n5425000,6825,3,1,1,yes,yes,yes,no,yes,0,yes,semi-furnished\\r\\n5390000,6710,3,2,2,yes,yes,yes,no,no,1,yes,furnished\\r\\n5383000,6450,3,2,1,yes,yes,yes,yes,no,0,no,unfurnished\\r\\n5320000,7800,3,1,1,yes,no,yes,no,yes,2,yes,unfurnished\\r\\n5285000,4600,2,2,1,yes,no,no,no,yes,2,no,semi-furnished\\r\\n5250000,4260,4,1,2,yes,no,yes,no,yes,0,no,furnished\\r\\n5250000,6540,4,2,2,no,no,no,no,yes,0,no,semi-furnished\\r\\n5250000,5500,3,2,1,yes,no,yes,no,no,0,no,semi-furnished\\r\\n5250000,10269,3,1,1,yes,no,no,no,no,1,yes,semi-furnished\\r\\n5250000,8400,3,1,2,yes,yes,yes,no,yes,2,yes,unfurnished\\r\\n5250000,5300,4,2,1,yes,no,no,no,yes,0,yes,unfurnished\\r\\n5250000,3800,3,1,2,yes,yes,yes,no,no,1,yes,unfurnished\\r\\n5250000,9800,4,2,2,yes,yes,no,no,no,2,no,semi-furnished\\r\\n5250000,8520,3,1,1,yes,no,no,no,yes,2,no,furnished\\r\\n5243000,6050,3,1,1,yes,no,yes,no,no,0,yes,semi-furnished\\r\\n5229000,7085,3,1,1,yes,yes,yes,no,no,2,yes,semi-furnished\\r\\n5215000,3180,3,2,2,yes,no,no,no,no,2,no,semi-furnished\\r\\n5215000,4500,4,2,1,no,no,yes,no,yes,2,no,semi-furnished\\r\\n5215000,7200,3,1,2,yes,yes,yes,no,no,1,yes,furnished\\r\\n5145000,3410,3,1,2,no,no,no,no,yes,0,no,semi-furnished\\r\\n5145000,7980,3,1,1,yes,no,no,no,no,1,yes,semi-furnished\\r\\n5110000,3000,3,2,2,yes,yes,yes,no,no,0,no,furnished\\r\\n5110000,3000,3,1,2,yes,no,yes,no,no,0,no,unfurnished\\r\\n5110000,11410,2,1,2,yes,no,no,no,no,0,yes,furnished\\r\\n5110000,6100,3,1,1,yes,no,yes,no,yes,0,yes,semi-furnished\\r\\n5075000,5720,2,1,2,yes,no,no,no,yes,0,yes,unfurnished\\r\\n5040000,3540,2,1,1,no,yes,yes,no,no,0,no,semi-furnished\\r\\n5040000,7600,4,1,2,yes,no,no,no,yes,2,no,furnished\\r\\n5040000,10700,3,1,2,yes,yes,yes,no,no,0,no,semi-furnished\\r\\n5040000,6600,3,1,1,yes,yes,yes,no,no,0,yes,furnished\\r\\n5033000,4800,2,1,1,yes,yes,yes,no,no,0,no,semi-furnished\\r\\n5005000,8150,3,2,1,yes,yes,yes,no,no,0,no,semi-furnished\\r\\n4970000,4410,4,3,2,yes,no,yes,no,no,2,no,semi-furnished\\r\\n4970000,7686,3,1,1,yes,yes,yes,yes,no,0,no,semi-furnished\\r\\n4956000,2800,3,2,2,no,no,yes,no,yes,1,no,semi-furnished\\r\\n4935000,5948,3,1,2,yes,no,no,no,yes,0,no,semi-furnished\\r\\n4907000,4200,3,1,2,yes,no,no,no,no,1,no,furnished\\r\\n4900000,4520,3,1,2,yes,no,yes,no,yes,0,no,semi-furnished\\r\\n4900000,4095,3,1,2,no,yes,yes,no,yes,0,no,semi-furnished\\r\\n4900000,4120,2,1,1,yes,no,yes,no,no,1,no,semi-furnished\\r\\n4900000,5400,4,1,2,yes,no,no,no,no,0,no,semi-furnished\\r\\n4900000,4770,3,1,1,yes,yes,yes,no,no,0,no,semi-furnished\\r\\n4900000,6300,3,1,1,yes,no,no,no,yes,2,no,semi-furnished\\r\\n4900000,5800,2,1,1,yes,yes,yes,no,yes,0,no,semi-furnished\\r\\n4900000,3000,3,1,2,yes,no,yes,no,yes,0,no,semi-furnished\\r\\n4900000,2970,3,1,3,yes,no,no,no,no,0,no,semi-furnished\\r\\n4900000,6720,3,1,1,yes,no,no,no,no,0,no,unfurnished\\r\\n4900000,4646,3,1,2,yes,yes,yes,no,no,2,no,semi-furnished\\r\\n4900000,12900,3,1,1,yes,no,no,no,no,2,no,furnished\\r\\n4893000,3420,4,2,2,yes,no,yes,no,yes,2,no,semi-furnished\\r\\n4893000,4995,4,2,1,yes,no,yes,no,no,0,no,semi-furnished\\r\\n4865000,4350,2,1,1,yes,no,yes,no,no,0,no,unfurnished\\r\\n4830000,4160,3,1,3,yes,no,no,no,no,0,no,unfurnished\\r\\n4830000,6040,3,1,1,yes,no,no,no,no,2,yes,semi-furnished\\r\\n4830000,6862,3,1,2,yes,no,no,no,yes,2,yes,furnished\\r\\n4830000,4815,2,1,1,yes,no,no,no,yes,0,yes,semi-furnished\\r\\n4795000,7000,3,1,2,yes,no,yes,no,no,0,no,unfurnished\\r\\n4795000,8100,4,1,4,yes,no,yes,no,yes,2,no,semi-furnished\\r\\n4767000,3420,4,2,2,yes,no,no,no,no,0,no,semi-furnished\\r\\n4760000,9166,2,1,1,yes,no,yes,no,yes,2,no,semi-furnished\\r\\n4760000,6321,3,1,2,yes,no,yes,no,yes,1,no,furnished\\r\\n4760000,10240,2,1,1,yes,no,no,no,yes,2,yes,unfurnished\\r\\n4753000,6440,2,1,1,yes,no,no,no,yes,3,no,semi-furnished\\r\\n4690000,5170,3,1,4,yes,no,no,no,yes,0,no,semi-furnished\\r\\n4690000,6000,2,1,1,yes,no,yes,no,yes,1,no,furnished\\r\\n4690000,3630,3,1,2,yes,no,no,no,no,2,no,semi-furnished\\r\\n4690000,9667,4,2,2,yes,yes,yes,no,no,1,no,semi-furnished\\r\\n4690000,5400,2,1,2,yes,no,no,no,no,0,yes,semi-furnished\\r\\n4690000,4320,3,1,1,yes,no,no,no,no,0,yes,semi-furnished\\r\\n4655000,3745,3,1,2,yes,no,yes,no,no,0,no,furnished\\r\\n4620000,4160,3,1,1,yes,yes,yes,no,yes,0,no,unfurnished\\r\\n4620000,3880,3,2,2,yes,no,yes,no,no,2,no,semi-furnished\\r\\n4620000,5680,3,1,2,yes,yes,no,no,yes,1,no,semi-furnished\\r\\n4620000,2870,2,1,2,yes,yes,yes,no,no,0,yes,semi-furnished\\r\\n4620000,5010,3,1,2,yes,no,yes,no,no,0,no,semi-furnished\\r\\n4613000,4510,4,2,2,yes,no,yes,no,no,0,no,semi-furnished\\r\\n4585000,4000,3,1,2,yes,no,no,no,no,1,no,furnished\\r\\n4585000,3840,3,1,2,yes,no,no,no,no,1,yes,semi-furnished\\r\\n4550000,3760,3,1,1,yes,no,no,no,no,2,no,semi-furnished\\r\\n4550000,3640,3,1,2,yes,no,no,no,yes,0,no,furnished\\r\\n4550000,2550,3,1,2,yes,no,yes,no,no,0,no,furnished\\r\\n4550000,5320,3,1,2,yes,yes,yes,no,no,0,yes,semi-furnished\\r\\n4550000,5360,3,1,2,yes,no,no,no,no,2,yes,unfurnished\\r\\n4550000,3520,3,1,1,yes,no,no,no,no,0,yes,semi-furnished\\r\\n4550000,8400,4,1,4,yes,no,no,no,no,3,no,unfurnished\\r\\n4543000,4100,2,2,1,yes,yes,yes,no,no,0,no,semi-furnished\\r\\n4543000,4990,4,2,2,yes,yes,yes,no,no,0,yes,furnished\\r\\n4515000,3510,3,1,3,yes,no,no,no,no,0,no,semi-furnished\\r\\n4515000,3450,3,1,2,yes,no,yes,no,no,1,no,semi-furnished\\r\\n4515000,9860,3,1,1,yes,no,no,no,no,0,no,semi-furnished\\r\\n4515000,3520,2,1,2,yes,no,no,no,no,0,yes,furnished\\r\\n4480000,4510,4,1,2,yes,no,no,no,yes,2,no,semi-furnished\\r\\n4480000,5885,2,1,1,yes,no,no,no,yes,1,no,unfurnished\\r\\n4480000,4000,3,1,2,yes,no,no,no,no,2,no,furnished\\r\\n4480000,8250,3,1,1,yes,no,no,no,no,0,no,furnished\\r\\n4480000,4040,3,1,2,yes,no,no,no,no,1,no,semi-furnished\\r\\n4473000,6360,2,1,1,yes,no,yes,no,yes,1,no,furnished\\r\\n4473000,3162,3,1,2,yes,no,no,no,yes,1,no,furnished\\r\\n4473000,3510,3,1,2,yes,no,no,no,no,0,no,semi-furnished\\r\\n4445000,3750,2,1,1,yes,yes,yes,no,no,0,no,semi-furnished\\r\\n4410000,3968,3,1,2,no,no,no,no,no,0,no,semi-furnished\\r\\n4410000,4900,2,1,2,yes,no,yes,no,no,0,no,semi-furnished\\r\\n4403000,2880,3,1,2,yes,no,no,no,no,0,yes,semi-furnished\\r\\n4403000,4880,3,1,1,yes,no,no,no,no,2,yes,unfurnished\\r\\n4403000,4920,3,1,2,yes,no,no,no,no,1,no,semi-furnished\\r\\n4382000,4950,4,1,2,yes,no,no,no,yes,0,no,semi-furnished\\r\\n4375000,3900,3,1,2,yes,no,no,no,no,0,no,unfurnished\\r\\n4340000,4500,3,2,3,yes,no,no,yes,no,1,no,furnished\\r\\n4340000,1905,5,1,2,no,no,yes,no,no,0,no,semi-furnished\\r\\n4340000,4075,3,1,1,yes,yes,yes,no,no,2,no,semi-furnished\\r\\n4340000,3500,4,1,2,yes,no,no,no,no,2,no,furnished\\r\\n4340000,6450,4,1,2,yes,no,no,no,no,0,no,semi-furnished\\r\\n4319000,4032,2,1,1,yes,no,yes,no,no,0,no,furnished\\r\\n4305000,4400,2,1,1,yes,no,no,no,no,1,no,semi-furnished\\r\\n4305000,10360,2,1,1,yes,no,no,no,no,1,yes,semi-furnished\\r\\n4277000,3400,3,1,2,yes,no,yes,no,no,2,yes,semi-furnished\\r\\n4270000,6360,2,1,1,yes,no,no,no,no,0,no,furnished\\r\\n4270000,6360,2,1,2,yes,no,no,no,no,0,no,unfurnished\\r\\n4270000,4500,2,1,1,yes,no,no,no,yes,2,no,furnished\\r\\n4270000,2175,3,1,2,no,yes,yes,no,yes,0,no,unfurnished\\r\\n4270000,4360,4,1,2,yes,no,no,no,no,0,no,furnished\\r\\n4270000,7770,2,1,1,yes,no,no,no,no,1,no,furnished\\r\\n4235000,6650,3,1,2,yes,yes,no,no,no,0,no,semi-furnished\\r\\n4235000,2787,3,1,1,yes,no,yes,no,no,0,yes,furnished\\r\\n4200000,5500,3,1,2,yes,no,no,no,yes,0,no,unfurnished\\r\\n4200000,5040,3,1,2,yes,no,yes,no,yes,0,no,unfurnished\\r\\n4200000,5850,2,1,1,yes,yes,yes,no,no,2,no,semi-furnished\\r\\n4200000,2610,4,3,2,no,no,no,no,no,0,no,semi-furnished\\r\\n4200000,2953,3,1,2,yes,no,yes,no,yes,0,no,unfurnished\\r\\n4200000,2747,4,2,2,no,no,no,no,no,0,no,semi-furnished\\r\\n4200000,4410,2,1,1,no,no,no,no,no,1,no,unfurnished\\r\\n4200000,4000,4,2,2,no,no,no,no,no,0,no,semi-furnished\\r\\n4200000,2325,3,1,2,no,no,no,no,no,0,no,semi-furnished\\r\\n4200000,4600,3,2,2,yes,no,no,no,yes,1,no,semi-furnished\\r\\n4200000,3640,3,2,2,yes,no,yes,no,no,0,no,unfurnished\\r\\n4200000,5800,3,1,1,yes,no,no,yes,no,2,no,semi-furnished\\r\\n4200000,7000,3,1,1,yes,no,no,no,no,3,no,furnished\\r\\n4200000,4079,3,1,3,yes,no,no,no,no,0,no,semi-furnished\\r\\n4200000,3520,3,1,2,yes,no,no,no,no,0,yes,semi-furnished\\r\\n4200000,2145,3,1,3,yes,no,no,no,no,1,yes,unfurnished\\r\\n4200000,4500,3,1,1,yes,no,yes,no,no,0,no,furnished\\r\\n4193000,8250,3,1,1,yes,no,yes,no,no,3,no,semi-furnished\\r\\n4193000,3450,3,1,2,yes,no,no,no,no,1,no,semi-furnished\\r\\n4165000,4840,3,1,2,yes,no,no,no,no,1,no,semi-furnished\\r\\n4165000,4080,3,1,2,yes,no,no,no,no,2,no,semi-furnished\\r\\n4165000,4046,3,1,2,yes,no,yes,no,no,1,no,semi-furnished\\r\\n4130000,4632,4,1,2,yes,no,no,no,yes,0,no,semi-furnished\\r\\n4130000,5985,3,1,1,yes,no,yes,no,no,0,no,semi-furnished\\r\\n4123000,6060,2,1,1,yes,no,yes,no,no,1,no,semi-furnished\\r\\n4098500,3600,3,1,1,yes,no,yes,no,yes,0,yes,furnished\\r\\n4095000,3680,3,2,2,yes,no,no,no,no,0,no,semi-furnished\\r\\n4095000,4040,2,1,2,yes,no,no,no,no,1,no,semi-furnished\\r\\n4095000,5600,2,1,1,yes,no,no,no,yes,0,no,semi-furnished\\r\\n4060000,5900,4,2,2,no,no,yes,no,no,1,no,unfurnished\\r\\n4060000,4992,3,2,2,yes,no,no,no,no,2,no,unfurnished\\r\\n4060000,4340,3,1,1,yes,no,no,no,no,0,no,semi-furnished\\r\\n4060000,3000,4,1,3,yes,no,yes,no,yes,2,no,semi-furnished\\r\\n4060000,4320,3,1,2,yes,no,no,no,no,2,yes,furnished\\r\\n4025000,3630,3,2,2,yes,no,no,yes,no,2,no,semi-furnished\\r\\n4025000,3460,3,2,1,yes,no,yes,no,yes,1,no,furnished\\r\\n4025000,5400,3,1,1,yes,no,no,no,no,3,no,semi-furnished\\r\\n4007500,4500,3,1,2,no,no,yes,no,yes,0,no,semi-furnished\\r\\n4007500,3460,4,1,2,yes,no,no,no,yes,0,no,semi-furnished\\r\\n3990000,4100,4,1,1,no,no,yes,no,no,0,no,unfurnished\\r\\n3990000,6480,3,1,2,no,no,no,no,yes,1,no,semi-furnished\\r\\n3990000,4500,3,2,2,no,no,yes,no,yes,0,no,semi-furnished\\r\\n3990000,3960,3,1,2,yes,no,no,no,no,0,no,furnished\\r\\n3990000,4050,2,1,2,yes,yes,yes,no,no,0,yes,unfurnished\\r\\n3920000,7260,3,2,1,yes,yes,yes,no,no,3,no,furnished\\r\\n3920000,5500,4,1,2,yes,yes,yes,no,no,0,no,semi-furnished\\r\\n3920000,3000,3,1,2,yes,no,no,no,no,0,no,semi-furnished\\r\\n3920000,3290,2,1,1,yes,no,no,yes,no,1,no,furnished\\r\\n3920000,3816,2,1,1,yes,no,yes,no,yes,2,no,furnished\\r\\n3920000,8080,3,1,1,yes,no,no,no,yes,2,no,semi-furnished\\r\\n3920000,2145,4,2,1,yes,no,yes,no,no,0,yes,unfurnished\\r\\n3885000,3780,2,1,2,yes,yes,yes,no,no,0,no,semi-furnished\\r\\n3885000,3180,4,2,2,yes,no,no,no,no,0,no,furnished\\r\\n3850000,5300,5,2,2,yes,no,no,no,no,0,no,semi-furnished\\r\\n3850000,3180,2,2,1,yes,no,yes,no,no,2,no,semi-furnished\\r\\n3850000,7152,3,1,2,yes,no,no,no,yes,0,no,furnished\\r\\n3850000,4080,2,1,1,yes,no,no,no,no,0,no,semi-furnished\\r\\n3850000,3850,2,1,1,yes,no,no,no,no,0,no,semi-furnished\\r\\n3850000,2015,3,1,2,yes,no,yes,no,no,0,yes,semi-furnished\\r\\n3850000,2176,2,1,2,yes,yes,no,no,no,0,yes,semi-furnished\\r\\n3836000,3350,3,1,2,yes,no,no,no,no,0,no,unfurnished\\r\\n3815000,3150,2,2,1,no,no,yes,no,no,0,no,semi-furnished\\r\\n3780000,4820,3,1,2,yes,no,no,no,no,0,no,semi-furnished\\r\\n3780000,3420,2,1,2,yes,no,no,yes,no,1,no,semi-furnished\\r\\n3780000,3600,2,1,1,yes,no,no,no,no,0,no,semi-furnished\\r\\n3780000,5830,2,1,1,yes,no,no,no,no,2,no,unfurnished\\r\\n3780000,2856,3,1,3,yes,no,no,no,no,0,yes,furnished\\r\\n3780000,8400,2,1,1,yes,no,no,no,no,1,no,furnished\\r\\n3773000,8250,3,1,1,yes,no,no,no,no,2,no,furnished\\r\\n3773000,2520,5,2,1,no,no,yes,no,yes,1,no,furnished\\r\\n3773000,6930,4,1,2,no,no,no,no,no,1,no,furnished\\r\\n3745000,3480,2,1,1,yes,no,no,no,no,0,yes,semi-furnished\\r\\n3710000,3600,3,1,1,yes,no,no,no,no,1,no,unfurnished\\r\\n3710000,4040,2,1,1,yes,no,no,no,no,0,no,semi-furnished\\r\\n3710000,6020,3,1,1,yes,no,no,no,no,0,no,semi-furnished\\r\\n3710000,4050,2,1,1,yes,no,no,no,no,0,no,furnished\\r\\n3710000,3584,2,1,1,yes,no,no,yes,no,0,no,semi-furnished\\r\\n3703000,3120,3,1,2,no,no,yes,yes,no,0,no,semi-furnished\\r\\n3703000,5450,2,1,1,yes,no,no,no,no,0,no,furnished\\r\\n3675000,3630,2,1,1,yes,no,yes,no,no,0,no,furnished\\r\\n3675000,3630,2,1,1,yes,no,no,no,yes,0,no,unfurnished\\r\\n3675000,5640,2,1,1,no,no,no,no,no,0,no,semi-furnished\\r\\n3675000,3600,2,1,1,yes,no,no,no,no,0,no,furnished\\r\\n3640000,4280,2,1,1,yes,no,no,no,yes,2,no,semi-furnished\\r\\n3640000,3570,3,1,2,yes,no,yes,no,no,0,no,semi-furnished\\r\\n3640000,3180,3,1,2,no,no,yes,no,no,0,no,semi-furnished\\r\\n3640000,3000,2,1,2,yes,no,no,no,yes,0,no,furnished\\r\\n3640000,3520,2,2,1,yes,no,yes,no,no,0,no,semi-furnished\\r\\n3640000,5960,3,1,2,yes,yes,yes,no,no,0,no,unfurnished\\r\\n3640000,4130,3,2,2,yes,no,no,no,no,2,no,semi-furnished\\r\\n3640000,2850,3,2,2,no,no,yes,no,no,0,yes,unfurnished\\r\\n3640000,2275,3,1,3,yes,no,no,yes,yes,0,yes,semi-furnished\\r\\n3633000,3520,3,1,1,yes,no,no,no,no,2,yes,unfurnished\\r\\n3605000,4500,2,1,1,yes,no,no,no,no,0,no,semi-furnished\\r\\n3605000,4000,2,1,1,yes,no,no,no,no,0,yes,semi-furnished\\r\\n3570000,3150,3,1,2,yes,no,yes,no,no,0,no,furnished\\r\\n3570000,4500,4,2,2,yes,no,yes,no,no,2,no,furnished\\r\\n3570000,4500,2,1,1,no,no,no,no,no,0,no,furnished\\r\\n3570000,3640,2,1,1,yes,no,no,no,no,0,no,unfurnished\\r\\n3535000,3850,3,1,1,yes,no,no,no,no,2,no,unfurnished\\r\\n3500000,4240,3,1,2,yes,no,no,no,yes,0,no,semi-furnished\\r\\n3500000,3650,3,1,2,yes,no,no,no,no,0,no,unfurnished\\r\\n3500000,4600,4,1,2,yes,no,no,no,no,0,no,semi-furnished\\r\\n3500000,2135,3,2,2,no,no,no,no,no,0,no,unfurnished\\r\\n3500000,3036,3,1,2,yes,no,yes,no,no,0,no,semi-furnished\\r\\n3500000,3990,3,1,2,yes,no,no,no,no,0,no,semi-furnished\\r\\n3500000,7424,3,1,1,no,no,no,no,no,0,no,unfurnished\\r\\n3500000,3480,3,1,1,no,no,no,no,yes,0,no,unfurnished\\r\\n3500000,3600,6,1,2,yes,no,no,no,no,1,no,unfurnished\\r\\n3500000,3640,2,1,1,yes,no,no,no,no,1,no,semi-furnished\\r\\n3500000,5900,2,1,1,yes,no,no,no,no,1,no,furnished\\r\\n3500000,3120,3,1,2,yes,no,no,no,no,1,no,unfurnished\\r\\n3500000,7350,2,1,1,yes,no,no,no,no,1,no,semi-furnished\\r\\n3500000,3512,2,1,1,yes,no,no,no,no,1,yes,unfurnished\\r\\n3500000,9500,3,1,2,yes,no,no,no,no,3,yes,unfurnished\\r\\n3500000,5880,2,1,1,yes,no,no,no,no,0,no,unfurnished\\r\\n3500000,12944,3,1,1,yes,no,no,no,no,0,no,unfurnished\\r\\n3493000,4900,3,1,2,no,no,no,no,no,0,no,unfurnished\\r\\n3465000,3060,3,1,1,yes,no,no,no,no,0,no,unfurnished\\r\\n3465000,5320,2,1,1,yes,no,no,no,no,1,yes,unfurnished\\r\\n3465000,2145,3,1,3,yes,no,no,no,no,0,yes,furnished\\r\\n3430000,4000,2,1,1,yes,no,no,no,no,0,no,unfurnished\\r\\n3430000,3185,2,1,1,yes,no,no,no,no,2,no,unfurnished\\r\\n3430000,3850,3,1,1,yes,no,no,no,no,0,no,unfurnished\\r\\n3430000,2145,3,1,3,yes,no,no,no,no,0,yes,furnished\\r\\n3430000,2610,3,1,2,yes,no,yes,no,no,0,yes,unfurnished\\r\\n3430000,1950,3,2,2,yes,no,yes,no,no,0,yes,unfurnished\\r\\n3423000,4040,2,1,1,yes,no,no,no,no,0,no,unfurnished\\r\\n3395000,4785,3,1,2,yes,yes,yes,no,yes,1,no,furnished\\r\\n3395000,3450,3,1,1,yes,no,yes,no,no,2,no,unfurnished\\r\\n3395000,3640,2,1,1,yes,no,no,no,no,0,no,furnished\\r\\n3360000,3500,4,1,2,yes,no,no,no,yes,2,no,unfurnished\\r\\n3360000,4960,4,1,3,no,no,no,no,no,0,no,semi-furnished\\r\\n3360000,4120,2,1,2,yes,no,no,no,no,0,no,unfurnished\\r\\n3360000,4750,2,1,1,yes,no,no,no,no,0,no,unfurnished\\r\\n3360000,3720,2,1,1,no,no,no,no,yes,0,no,unfurnished\\r\\n3360000,3750,3,1,1,yes,no,no,no,no,0,no,unfurnished\\r\\n3360000,3100,3,1,2,no,no,yes,no,no,0,no,semi-furnished\\r\\n3360000,3185,2,1,1,yes,no,yes,no,no,2,no,furnished\\r\\n3353000,2700,3,1,1,no,no,no,no,no,0,no,furnished\\r\\n3332000,2145,3,1,2,yes,no,yes,no,no,0,yes,furnished\\r\\n3325000,4040,2,1,1,yes,no,no,no,no,1,no,unfurnished\\r\\n3325000,4775,4,1,2,yes,no,no,no,no,0,no,unfurnished\\r\\n3290000,2500,2,1,1,no,no,no,no,yes,0,no,unfurnished\\r\\n3290000,3180,4,1,2,yes,no,yes,no,yes,0,no,unfurnished\\r\\n3290000,6060,3,1,1,yes,yes,yes,no,no,0,no,furnished\\r\\n3290000,3480,4,1,2,no,no,no,no,no,1,no,semi-furnished\\r\\n3290000,3792,4,1,2,yes,no,no,no,no,0,no,semi-furnished\\r\\n3290000,4040,2,1,1,yes,no,no,no,no,0,no,unfurnished\\r\\n3290000,2145,3,1,2,yes,no,yes,no,no,0,yes,furnished\\r\\n3290000,5880,3,1,1,yes,no,no,no,no,1,no,unfurnished\\r\\n3255000,4500,2,1,1,no,no,no,no,no,0,no,semi-furnished\\r\\n3255000,3930,2,1,1,no,no,no,no,no,0,no,unfurnished\\r\\n3234000,3640,4,1,2,yes,no,yes,no,no,0,no,unfurnished\\r\\n3220000,4370,3,1,2,yes,no,no,no,no,0,no,unfurnished\\r\\n3220000,2684,2,1,1,yes,no,no,no,yes,1,no,unfurnished\\r\\n3220000,4320,3,1,1,no,no,no,no,no,1,no,unfurnished\\r\\n3220000,3120,3,1,2,no,no,no,no,no,0,no,furnished\\r\\n3150000,3450,1,1,1,yes,no,no,no,no,0,no,furnished\\r\\n3150000,3986,2,2,1,no,yes,yes,no,no,1,no,unfurnished\\r\\n3150000,3500,2,1,1,no,no,yes,no,no,0,no,semi-furnished\\r\\n3150000,4095,2,1,1,yes,no,no,no,no,2,no,semi-furnished\\r\\n3150000,1650,3,1,2,no,no,yes,no,no,0,no,unfurnished\\r\\n3150000,3450,3,1,2,yes,no,yes,no,no,0,no,semi-furnished\\r\\n3150000,6750,2,1,1,yes,no,no,no,no,0,no,semi-furnished\\r\\n3150000,9000,3,1,2,yes,no,no,no,no,2,no,semi-furnished\\r\\n3150000,3069,2,1,1,yes,no,no,no,no,1,no,unfurnished\\r\\n3143000,4500,3,1,2,yes,no,no,no,yes,0,no,unfurnished\\r\\n3129000,5495,3,1,1,yes,no,yes,no,no,0,no,unfurnished\\r\\n3118850,2398,3,1,1,yes,no,no,no,no,0,yes,semi-furnished\\r\\n3115000,3000,3,1,1,no,no,no,no,yes,0,no,unfurnished\\r\\n3115000,3850,3,1,2,yes,no,no,no,no,0,no,unfurnished\\r\\n3115000,3500,2,1,1,yes,no,no,no,no,0,no,unfurnished\\r\\n3087000,8100,2,1,1,yes,no,no,no,no,1,no,unfurnished\\r\\n3080000,4960,2,1,1,yes,no,yes,no,yes,0,no,unfurnished\\r\\n3080000,2160,3,1,2,no,no,yes,no,no,0,no,semi-furnished\\r\\n3080000,3090,2,1,1,yes,yes,yes,no,no,0,no,unfurnished\\r\\n3080000,4500,2,1,2,yes,no,no,yes,no,1,no,semi-furnished\\r\\n3045000,3800,2,1,1,yes,no,no,no,no,0,no,unfurnished\\r\\n3010000,3090,3,1,2,no,no,no,no,no,0,no,semi-furnished\\r\\n3010000,3240,3,1,2,yes,no,no,no,no,2,no,semi-furnished\\r\\n3010000,2835,2,1,1,yes,no,no,no,no,0,no,semi-furnished\\r\\n3010000,4600,2,1,1,yes,no,no,no,no,0,no,furnished\\r\\n3010000,5076,3,1,1,no,no,no,no,no,0,no,unfurnished\\r\\n3010000,3750,3,1,2,yes,no,no,no,no,0,no,unfurnished\\r\\n3010000,3630,4,1,2,yes,no,no,no,no,3,no,semi-furnished\\r\\n3003000,8050,2,1,1,yes,no,no,no,no,0,no,unfurnished\\r\\n2975000,4352,4,1,2,no,no,no,no,no,1,no,unfurnished\\r\\n2961000,3000,2,1,2,yes,no,no,no,no,0,no,semi-furnished\\r\\n2940000,5850,3,1,2,yes,no,yes,no,no,1,no,unfurnished\\r\\n2940000,4960,2,1,1,yes,no,no,no,no,0,no,unfurnished\\r\\n2940000,3600,3,1,2,no,no,no,no,no,1,no,unfurnished\\r\\n2940000,3660,4,1,2,no,no,no,no,no,0,no,unfurnished\\r\\n2940000,3480,3,1,2,no,no,no,no,no,1,no,semi-furnished\\r\\n2940000,2700,2,1,1,no,no,no,no,no,0,no,furnished\\r\\n2940000,3150,3,1,2,no,no,no,no,no,0,no,unfurnished\\r\\n2940000,6615,3,1,2,yes,no,no,no,no,0,no,semi-furnished\\r\\n2870000,3040,2,1,1,no,no,no,no,no,0,no,unfurnished\\r\\n2870000,3630,2,1,1,yes,no,no,no,no,0,no,unfurnished\\r\\n2870000,6000,2,1,1,yes,no,no,no,no,0,no,semi-furnished\\r\\n2870000,5400,4,1,2,yes,no,no,no,no,0,no,unfurnished\\r\\n2852500,5200,4,1,3,yes,no,no,no,no,0,no,unfurnished\\r\\n2835000,3300,3,1,2,no,no,no,no,no,1,no,semi-furnished\\r\\n2835000,4350,3,1,2,no,no,no,yes,no,1,no,unfurnished\\r\\n2835000,2640,2,1,1,no,no,no,no,no,1,no,furnished\\r\\n2800000,2650,3,1,2,yes,no,yes,no,no,1,no,unfurnished\\r\\n2800000,3960,3,1,1,yes,no,no,no,no,0,no,furnished\\r\\n2730000,6800,2,1,1,yes,no,no,no,no,0,no,unfurnished\\r\\n2730000,4000,3,1,2,yes,no,no,no,no,1,no,unfurnished\\r\\n2695000,4000,2,1,1,yes,no,no,no,no,0,no,unfurnished\\r\\n2660000,3934,2,1,1,yes,no,no,no,no,0,no,unfurnished\\r\\n2660000,2000,2,1,2,yes,no,no,no,no,0,no,semi-furnished\\r\\n2660000,3630,3,3,2,no,yes,no,no,no,0,no,unfurnished\\r\\n2660000,2800,3,1,1,yes,no,no,no,no,0,no,unfurnished\\r\\n2660000,2430,3,1,1,no,no,no,no,no,0,no,unfurnished\\r\\n2660000,3480,2,1,1,yes,no,no,no,no,1,no,semi-furnished\\r\\n2660000,4000,3,1,1,yes,no,no,no,no,0,no,semi-furnished\\r\\n2653000,3185,2,1,1,yes,no,no,no,yes,0,no,unfurnished\\r\\n2653000,4000,3,1,2,yes,no,no,no,yes,0,no,unfurnished\\r\\n2604000,2910,2,1,1,no,no,no,no,no,0,no,unfurnished\\r\\n2590000,3600,2,1,1,yes,no,no,no,no,0,no,unfurnished\\r\\n2590000,4400,2,1,1,yes,no,no,no,no,0,no,unfurnished\\r\\n2590000,3600,2,2,2,yes,no,yes,no,no,1,no,furnished\\r\\n2520000,2880,3,1,1,no,no,no,no,no,0,no,unfurnished\\r\\n2520000,3180,3,1,1,no,no,no,no,no,0,no,unfurnished\\r\\n2520000,3000,2,1,2,yes,no,no,no,no,0,no,furnished\\r\\n2485000,4400,3,1,2,yes,no,no,no,no,0,no,unfurnished\\r\\n2485000,3000,3,1,2,no,no,no,no,no,0,no,semi-furnished\\r\\n2450000,3210,3,1,2,yes,no,yes,no,no,0,no,unfurnished\\r\\n2450000,3240,2,1,1,no,yes,no,no,no,1,no,unfurnished\\r\\n2450000,3000,2,1,1,yes,no,no,no,no,1,no,unfurnished\\r\\n2450000,3500,2,1,1,yes,yes,no,no,no,0,no,unfurnished\\r\\n2450000,4840,2,1,2,yes,no,no,no,no,0,no,unfurnished\\r\\n2450000,7700,2,1,1,yes,no,no,no,no,0,no,unfurnished\\r\\n2408000,3635,2,1,1,no,no,no,no,no,0,no,unfurnished\\r\\n2380000,2475,3,1,2,yes,no,no,no,no,0,no,furnished\\r\\n2380000,2787,4,2,2,yes,no,no,no,no,0,no,furnished\\r\\n2380000,3264,2,1,1,yes,no,no,no,no,0,no,unfurnished\\r\\n2345000,3640,2,1,1,yes,no,no,no,no,0,no,unfurnished\\r\\n2310000,3180,2,1,1,yes,no,no,no,no,0,no,unfurnished\\r\\n2275000,1836,2,1,1,no,no,yes,no,no,0,no,semi-furnished\\r\\n2275000,3970,1,1,1,no,no,no,no,no,0,no,unfurnished\\r\\n2275000,3970,3,1,2,yes,no,yes,no,no,0,no,unfurnished\\r\\n2240000,1950,3,1,1,no,no,no,yes,no,0,no,unfurnished\\r\\n2233000,5300,3,1,1,no,no,no,no,yes,0,yes,unfurnished\\r\\n2135000,3000,2,1,1,no,no,no,no,no,0,no,unfurnished\\r\\n2100000,2400,3,1,2,yes,no,no,no,no,0,no,unfurnished\\r\\n2100000,3000,4,1,2,yes,no,no,no,no,0,no,unfurnished\\r\\n2100000,3360,2,1,1,yes,no,no,no,no,1,no,unfurnished\\r\\n1960000,3420,5,1,2,no,no,no,no,no,0,no,unfurnished\\r\\n1890000,1700,3,1,2,yes,no,no,no,no,0,no,unfurnished\\r\\n1890000,3649,2,1,1,yes,no,no,no,no,0,no,unfurnished\\r\\n1855000,2990,2,1,1,no,no,no,no,no,1,no,unfurnished\\r\\n1820000,3000,2,1,1,yes,no,yes,no,no,2,no,unfurnished\\r\\n1767150,2400,3,1,1,no,no,no,no,no,0,no,semi-furnished\\r\\n1750000,3620,2,1,1,yes,no,no,no,no,0,no,unfurnished\\r\\n1750000,2910,3,1,1,no,no,no,no,no,0,no,furnished\\r\\n1750000,3850,3,1,2,yes,no,no,no,no,0,no,unfurnished\\r\\n'}"
            ]
          },
          "metadata": {},
          "execution_count": 5
        }
      ]
    },
    {
      "cell_type": "markdown",
      "source": [
        "#Exploratory Data Analysis"
      ],
      "metadata": {
        "id": "bFhVSWT8FLa3"
      }
    },
    {
      "cell_type": "code",
      "source": [
        "df=pd.read_csv(\"/content/Housing.csv\")\n",
        "print(df.head())"
      ],
      "metadata": {
        "colab": {
          "base_uri": "https://localhost:8080/"
        },
        "id": "3KuSQ-XtFK9e",
        "outputId": "0a289130-8189-443a-99e4-28f77dd1c729"
      },
      "execution_count": null,
      "outputs": [
        {
          "output_type": "stream",
          "name": "stdout",
          "text": [
            "      price  area  bedrooms  bathrooms  stories mainroad guestroom basement  \\\n",
            "0  13300000  7420         4          2        3      yes        no       no   \n",
            "1  12250000  8960         4          4        4      yes        no       no   \n",
            "2  12250000  9960         3          2        2      yes        no      yes   \n",
            "3  12215000  7500         4          2        2      yes        no      yes   \n",
            "4  11410000  7420         4          1        2      yes       yes      yes   \n",
            "\n",
            "  hotwaterheating airconditioning  parking prefarea furnishingstatus  \n",
            "0              no             yes        2      yes        furnished  \n",
            "1              no             yes        3       no        furnished  \n",
            "2              no              no        2      yes   semi-furnished  \n",
            "3              no             yes        3      yes        furnished  \n",
            "4              no             yes        2       no        furnished  \n"
          ]
        }
      ]
    },
    {
      "cell_type": "code",
      "source": [
        "#check missing Values\n",
        "print(\"\\nMissing Values\\n\")\n",
        "print(df.isnull().sum())"
      ],
      "metadata": {
        "colab": {
          "base_uri": "https://localhost:8080/"
        },
        "id": "VZfRRX5DFhtD",
        "outputId": "7ed2d35f-b469-4b21-e023-fc1c3a6d25a5"
      },
      "execution_count": null,
      "outputs": [
        {
          "output_type": "stream",
          "name": "stdout",
          "text": [
            "\n",
            "Missing Values\n",
            "\n",
            "price               0\n",
            "area                0\n",
            "bedrooms            0\n",
            "bathrooms           0\n",
            "stories             0\n",
            "mainroad            0\n",
            "guestroom           0\n",
            "basement            0\n",
            "hotwaterheating     0\n",
            "airconditioning     0\n",
            "parking             0\n",
            "prefarea            0\n",
            "furnishingstatus    0\n",
            "dtype: int64\n"
          ]
        }
      ]
    },
    {
      "cell_type": "markdown",
      "source": [
        "#feature Engineering\n"
      ],
      "metadata": {
        "id": "aNh5a9pwFx5S"
      }
    },
    {
      "cell_type": "code",
      "source": [
        "print(df.head())"
      ],
      "metadata": {
        "colab": {
          "base_uri": "https://localhost:8080/"
        },
        "id": "c-zdUHmnFxWy",
        "outputId": "fdc4552d-0818-4964-ee11-dd588f2d5752"
      },
      "execution_count": null,
      "outputs": [
        {
          "output_type": "stream",
          "name": "stdout",
          "text": [
            "      price  area  bedrooms  bathrooms  stories mainroad guestroom basement  \\\n",
            "0  13300000  7420         4          2        3      yes        no       no   \n",
            "1  12250000  8960         4          4        4      yes        no       no   \n",
            "2  12250000  9960         3          2        2      yes        no      yes   \n",
            "3  12215000  7500         4          2        2      yes        no      yes   \n",
            "4  11410000  7420         4          1        2      yes       yes      yes   \n",
            "\n",
            "  hotwaterheating airconditioning  parking prefarea furnishingstatus  \n",
            "0              no             yes        2      yes        furnished  \n",
            "1              no             yes        3       no        furnished  \n",
            "2              no              no        2      yes   semi-furnished  \n",
            "3              no             yes        3      yes        furnished  \n",
            "4              no             yes        2       no        furnished  \n"
          ]
        }
      ]
    },
    {
      "cell_type": "code",
      "source": [
        "df['mainroad']=df['mainroad'].map({'yes':1,'no':0})"
      ],
      "metadata": {
        "id": "wEBGI_UaFwdW"
      },
      "execution_count": null,
      "outputs": []
    },
    {
      "cell_type": "code",
      "source": [
        "df['guestroom']=df['guestroom'].map({'yes':1,'no':0})"
      ],
      "metadata": {
        "id": "Dte_22kSGVFf"
      },
      "execution_count": null,
      "outputs": []
    },
    {
      "cell_type": "code",
      "source": [
        "df['basement']=df['basement'].map({'yes':1,'no':0})"
      ],
      "metadata": {
        "id": "juasV5lyGapw"
      },
      "execution_count": null,
      "outputs": []
    },
    {
      "cell_type": "code",
      "source": [
        "df['hotwaterheating']=df['hotwaterheating'].map({'yes':1,'no':0})"
      ],
      "metadata": {
        "id": "WiikxGeCGj6S"
      },
      "execution_count": null,
      "outputs": []
    },
    {
      "cell_type": "code",
      "source": [
        "df['airconditioning']=df['airconditioning'].map({'yes':1,'no':0})"
      ],
      "metadata": {
        "id": "RPt81z46GpR9"
      },
      "execution_count": null,
      "outputs": []
    },
    {
      "cell_type": "code",
      "source": [
        "df['prefarea']=df['prefarea'].map({'yes':1,'no':0})"
      ],
      "metadata": {
        "id": "KzlA2cdUG03J"
      },
      "execution_count": null,
      "outputs": []
    },
    {
      "cell_type": "code",
      "source": [
        "df['furnishingstatus']=df['furnishingstatus'].map({'furnished':1,'semi-furnished':0})"
      ],
      "metadata": {
        "id": "odFV8LFaG1tA"
      },
      "execution_count": null,
      "outputs": []
    },
    {
      "cell_type": "code",
      "source": [
        "df['Total_rooms']=df['bedrooms']+ df['bathrooms']"
      ],
      "metadata": {
        "id": "iXp8cyYOIyCB"
      },
      "execution_count": null,
      "outputs": []
    },
    {
      "cell_type": "code",
      "source": [
        "df['Area_per_room']=df['area']/df['Total_rooms']"
      ],
      "metadata": {
        "id": "Zh0ILtj1JFtd"
      },
      "execution_count": null,
      "outputs": []
    },
    {
      "cell_type": "code",
      "source": [
        "df['Luxury_index']=df['stories'] + df['parking'] + df['airconditioning'] + df['furnishingstatus']"
      ],
      "metadata": {
        "id": "MC0BhtxbJWG8"
      },
      "execution_count": null,
      "outputs": []
    },
    {
      "cell_type": "code",
      "source": [
        "print(df.head())"
      ],
      "metadata": {
        "colab": {
          "base_uri": "https://localhost:8080/"
        },
        "id": "sbzV4434HJE7",
        "outputId": "022b8ba1-a913-43b6-d46f-5cab55dd58bb"
      },
      "execution_count": null,
      "outputs": [
        {
          "output_type": "stream",
          "name": "stdout",
          "text": [
            "      price  area  bedrooms  bathrooms  stories  mainroad  guestroom  \\\n",
            "0  13300000  7420         4          2        3         1          0   \n",
            "1  12250000  8960         4          4        4         1          0   \n",
            "2  12250000  9960         3          2        2         1          0   \n",
            "3  12215000  7500         4          2        2         1          0   \n",
            "4  11410000  7420         4          1        2         1          1   \n",
            "\n",
            "   basement  hotwaterheating  airconditioning  parking  prefarea  \\\n",
            "0         0                0                1        2         1   \n",
            "1         0                0                1        3         0   \n",
            "2         1                0                0        2         1   \n",
            "3         1                0                1        3         1   \n",
            "4         1                0                1        2         0   \n",
            "\n",
            "   furnishingstatus  Total_rooms  Area_per_room  Luxury_index  \n",
            "0               1.0            6    1236.666667           7.0  \n",
            "1               1.0            8    1120.000000           9.0  \n",
            "2               0.0            5    1992.000000           4.0  \n",
            "3               1.0            6    1250.000000           7.0  \n",
            "4               1.0            5    1484.000000           6.0  \n"
          ]
        }
      ]
    },
    {
      "cell_type": "markdown",
      "source": [
        "#feature Scaling"
      ],
      "metadata": {
        "id": "UIcPkI1cLg9f"
      }
    },
    {
      "cell_type": "code",
      "source": [
        "#feature Scaling\n",
        "from sklearn.preprocessing import StandardScaler\n",
        "scaler=StandardScaler()\n",
        "df['Area_scaled']=scaler.fit_transform(df[['area']])"
      ],
      "metadata": {
        "id": "Ipys2eTSLdGu"
      },
      "execution_count": null,
      "outputs": []
    },
    {
      "cell_type": "code",
      "source": [
        "print(df.head())"
      ],
      "metadata": {
        "colab": {
          "base_uri": "https://localhost:8080/"
        },
        "id": "7w0i6XnyL-JM",
        "outputId": "b365ebe6-0fb1-47ce-81e9-630fb195a4a7"
      },
      "execution_count": null,
      "outputs": [
        {
          "output_type": "stream",
          "name": "stdout",
          "text": [
            "      price  area  bedrooms  bathrooms  stories  mainroad  guestroom  \\\n",
            "0  13300000  7420         4          2        3         1          0   \n",
            "1  12250000  8960         4          4        4         1          0   \n",
            "2  12250000  9960         3          2        2         1          0   \n",
            "3  12215000  7500         4          2        2         1          0   \n",
            "4  11410000  7420         4          1        2         1          1   \n",
            "\n",
            "   basement  hotwaterheating  airconditioning  parking  prefarea  \\\n",
            "0         0                0                1        2         1   \n",
            "1         0                0                1        3         0   \n",
            "2         1                0                0        2         1   \n",
            "3         1                0                1        3         1   \n",
            "4         1                0                1        2         0   \n",
            "\n",
            "   furnishingstatus  Total_rooms  Area_per_room  Luxury_index  Area_scaled  \n",
            "0               1.0            6    1236.666667           7.0     1.046726  \n",
            "1               1.0            8    1120.000000           9.0     1.757010  \n",
            "2               0.0            5    1992.000000           4.0     2.218232  \n",
            "3               1.0            6    1250.000000           7.0     1.083624  \n",
            "4               1.0            5    1484.000000           6.0     1.046726  \n"
          ]
        }
      ]
    },
    {
      "cell_type": "markdown",
      "source": [
        "#Machine Learning"
      ],
      "metadata": {
        "id": "xlh1KxJXMGnG"
      }
    },
    {
      "cell_type": "code",
      "source": [
        "from sklearn.model_selection import train_test_split\n",
        "from sklearn.linear_model import LinearRegression\n",
        "from sklearn.metrics import mean_squared_error,mean_absolute_error,r2_score"
      ],
      "metadata": {
        "id": "CTnZVDEbMGPs"
      },
      "execution_count": null,
      "outputs": []
    },
    {
      "cell_type": "code",
      "source": [
        "print(df.head())"
      ],
      "metadata": {
        "colab": {
          "base_uri": "https://localhost:8080/"
        },
        "id": "m6eikG7bM2u4",
        "outputId": "70b05d0d-2f01-4e8c-cf4d-ba6d0ea24248"
      },
      "execution_count": null,
      "outputs": [
        {
          "output_type": "stream",
          "name": "stdout",
          "text": [
            "      price  area  bedrooms  bathrooms  stories  mainroad  guestroom  \\\n",
            "0  13300000  7420         4          2        3         1          0   \n",
            "1  12250000  8960         4          4        4         1          0   \n",
            "2  12250000  9960         3          2        2         1          0   \n",
            "3  12215000  7500         4          2        2         1          0   \n",
            "4  11410000  7420         4          1        2         1          1   \n",
            "\n",
            "   basement  hotwaterheating  airconditioning  parking  prefarea  \\\n",
            "0         0                0                1        2         1   \n",
            "1         0                0                1        3         0   \n",
            "2         1                0                0        2         1   \n",
            "3         1                0                1        3         1   \n",
            "4         1                0                1        2         0   \n",
            "\n",
            "   furnishingstatus  Total_rooms  Area_per_room  Luxury_index  Area_scaled  \n",
            "0               1.0            6    1236.666667           7.0     1.046726  \n",
            "1               1.0            8    1120.000000           9.0     1.757010  \n",
            "2               0.0            5    1992.000000           4.0     2.218232  \n",
            "3               1.0            6    1250.000000           7.0     1.083624  \n",
            "4               1.0            5    1484.000000           6.0     1.046726  \n"
          ]
        }
      ]
    },
    {
      "cell_type": "code",
      "source": [
        "print(df.isnull().sum())"
      ],
      "metadata": {
        "colab": {
          "base_uri": "https://localhost:8080/"
        },
        "id": "hjfGt_j_O_5e",
        "outputId": "c13a1df7-1f92-4c79-ebb6-082f944aba54"
      },
      "execution_count": null,
      "outputs": [
        {
          "output_type": "stream",
          "name": "stdout",
          "text": [
            "price                 0\n",
            "area                  0\n",
            "bedrooms              0\n",
            "bathrooms             0\n",
            "stories               0\n",
            "mainroad              0\n",
            "guestroom             0\n",
            "basement              0\n",
            "hotwaterheating       0\n",
            "airconditioning       0\n",
            "parking               0\n",
            "prefarea              0\n",
            "furnishingstatus    178\n",
            "Total_rooms           0\n",
            "Area_per_room         0\n",
            "Luxury_index        178\n",
            "Area_scaled           0\n",
            "dtype: int64\n"
          ]
        }
      ]
    },
    {
      "cell_type": "code",
      "source": [
        "df['furnishingstatus'].fillna(df['furnishingstatus'].mean(),inplace=True)"
      ],
      "metadata": {
        "colab": {
          "base_uri": "https://localhost:8080/"
        },
        "id": "npIbr9fFPG2e",
        "outputId": "4c4d099b-6790-4d4e-af09-0577edd33835"
      },
      "execution_count": null,
      "outputs": [
        {
          "output_type": "stream",
          "name": "stderr",
          "text": [
            "/tmp/ipython-input-281756769.py:1: FutureWarning: A value is trying to be set on a copy of a DataFrame or Series through chained assignment using an inplace method.\n",
            "The behavior will change in pandas 3.0. This inplace method will never work because the intermediate object on which we are setting values always behaves as a copy.\n",
            "\n",
            "For example, when doing 'df[col].method(value, inplace=True)', try using 'df.method({col: value}, inplace=True)' or df[col] = df[col].method(value) instead, to perform the operation inplace on the original object.\n",
            "\n",
            "\n",
            "  df['furnishingstatus'].fillna(df['furnishingstatus'].mean(),inplace=True)\n"
          ]
        }
      ]
    },
    {
      "cell_type": "code",
      "source": [
        "df['Luxury_index'].fillna(df['Luxury_index'].mean(),inplace=True)"
      ],
      "metadata": {
        "colab": {
          "base_uri": "https://localhost:8080/"
        },
        "id": "xBXoN_XsQtwU",
        "outputId": "5b658490-4fd7-4549-9ecc-8bb8bf295165"
      },
      "execution_count": null,
      "outputs": [
        {
          "output_type": "stream",
          "name": "stderr",
          "text": [
            "/tmp/ipython-input-3257734006.py:1: FutureWarning: A value is trying to be set on a copy of a DataFrame or Series through chained assignment using an inplace method.\n",
            "The behavior will change in pandas 3.0. This inplace method will never work because the intermediate object on which we are setting values always behaves as a copy.\n",
            "\n",
            "For example, when doing 'df[col].method(value, inplace=True)', try using 'df.method({col: value}, inplace=True)' or df[col] = df[col].method(value) instead, to perform the operation inplace on the original object.\n",
            "\n",
            "\n",
            "  df['Luxury_index'].fillna(df['Luxury_index'].mean(),inplace=True)\n"
          ]
        }
      ]
    },
    {
      "cell_type": "code",
      "source": [
        "print(df.isnull().sum())"
      ],
      "metadata": {
        "colab": {
          "base_uri": "https://localhost:8080/"
        },
        "id": "ZNHxTjLEQaX4",
        "outputId": "ed2ad64a-985a-4baa-8b9e-23a9371c47e9"
      },
      "execution_count": null,
      "outputs": [
        {
          "output_type": "stream",
          "name": "stdout",
          "text": [
            "price               0\n",
            "area                0\n",
            "bedrooms            0\n",
            "bathrooms           0\n",
            "stories             0\n",
            "mainroad            0\n",
            "guestroom           0\n",
            "basement            0\n",
            "hotwaterheating     0\n",
            "airconditioning     0\n",
            "parking             0\n",
            "prefarea            0\n",
            "furnishingstatus    0\n",
            "Total_rooms         0\n",
            "Area_per_room       0\n",
            "Luxury_index        0\n",
            "Area_scaled         0\n",
            "dtype: int64\n"
          ]
        }
      ]
    },
    {
      "cell_type": "code",
      "source": [
        "#select feature for training\n",
        "x=df[['Area_scaled','Total_rooms','Area_per_room','Luxury_index']]\n",
        "y=df['price']"
      ],
      "metadata": {
        "id": "B5AD3UB7ME9g"
      },
      "execution_count": null,
      "outputs": []
    },
    {
      "cell_type": "code",
      "source": [
        "#Train Model\n",
        "x_train,x_test,y_train,y_test=train_test_split(x,y,test_size=0.2,random_state=42)"
      ],
      "metadata": {
        "id": "8iEfWb5LNhsh"
      },
      "execution_count": null,
      "outputs": []
    },
    {
      "cell_type": "code",
      "source": [
        "model=LinearRegression()\n",
        "model.fit(x_train,y_train)"
      ],
      "metadata": {
        "colab": {
          "base_uri": "https://localhost:8080/",
          "height": 80
        },
        "id": "UIluT8nQN9cH",
        "outputId": "6225ed79-c4a4-412d-f6d2-86264d6e789b"
      },
      "execution_count": null,
      "outputs": [
        {
          "output_type": "execute_result",
          "data": {
            "text/plain": [
              "LinearRegression()"
            ],
            "text/html": [
              "<style>#sk-container-id-1 {\n",
              "  /* Definition of color scheme common for light and dark mode */\n",
              "  --sklearn-color-text: #000;\n",
              "  --sklearn-color-text-muted: #666;\n",
              "  --sklearn-color-line: gray;\n",
              "  /* Definition of color scheme for unfitted estimators */\n",
              "  --sklearn-color-unfitted-level-0: #fff5e6;\n",
              "  --sklearn-color-unfitted-level-1: #f6e4d2;\n",
              "  --sklearn-color-unfitted-level-2: #ffe0b3;\n",
              "  --sklearn-color-unfitted-level-3: chocolate;\n",
              "  /* Definition of color scheme for fitted estimators */\n",
              "  --sklearn-color-fitted-level-0: #f0f8ff;\n",
              "  --sklearn-color-fitted-level-1: #d4ebff;\n",
              "  --sklearn-color-fitted-level-2: #b3dbfd;\n",
              "  --sklearn-color-fitted-level-3: cornflowerblue;\n",
              "\n",
              "  /* Specific color for light theme */\n",
              "  --sklearn-color-text-on-default-background: var(--sg-text-color, var(--theme-code-foreground, var(--jp-content-font-color1, black)));\n",
              "  --sklearn-color-background: var(--sg-background-color, var(--theme-background, var(--jp-layout-color0, white)));\n",
              "  --sklearn-color-border-box: var(--sg-text-color, var(--theme-code-foreground, var(--jp-content-font-color1, black)));\n",
              "  --sklearn-color-icon: #696969;\n",
              "\n",
              "  @media (prefers-color-scheme: dark) {\n",
              "    /* Redefinition of color scheme for dark theme */\n",
              "    --sklearn-color-text-on-default-background: var(--sg-text-color, var(--theme-code-foreground, var(--jp-content-font-color1, white)));\n",
              "    --sklearn-color-background: var(--sg-background-color, var(--theme-background, var(--jp-layout-color0, #111)));\n",
              "    --sklearn-color-border-box: var(--sg-text-color, var(--theme-code-foreground, var(--jp-content-font-color1, white)));\n",
              "    --sklearn-color-icon: #878787;\n",
              "  }\n",
              "}\n",
              "\n",
              "#sk-container-id-1 {\n",
              "  color: var(--sklearn-color-text);\n",
              "}\n",
              "\n",
              "#sk-container-id-1 pre {\n",
              "  padding: 0;\n",
              "}\n",
              "\n",
              "#sk-container-id-1 input.sk-hidden--visually {\n",
              "  border: 0;\n",
              "  clip: rect(1px 1px 1px 1px);\n",
              "  clip: rect(1px, 1px, 1px, 1px);\n",
              "  height: 1px;\n",
              "  margin: -1px;\n",
              "  overflow: hidden;\n",
              "  padding: 0;\n",
              "  position: absolute;\n",
              "  width: 1px;\n",
              "}\n",
              "\n",
              "#sk-container-id-1 div.sk-dashed-wrapped {\n",
              "  border: 1px dashed var(--sklearn-color-line);\n",
              "  margin: 0 0.4em 0.5em 0.4em;\n",
              "  box-sizing: border-box;\n",
              "  padding-bottom: 0.4em;\n",
              "  background-color: var(--sklearn-color-background);\n",
              "}\n",
              "\n",
              "#sk-container-id-1 div.sk-container {\n",
              "  /* jupyter's `normalize.less` sets `[hidden] { display: none; }`\n",
              "     but bootstrap.min.css set `[hidden] { display: none !important; }`\n",
              "     so we also need the `!important` here to be able to override the\n",
              "     default hidden behavior on the sphinx rendered scikit-learn.org.\n",
              "     See: https://github.com/scikit-learn/scikit-learn/issues/21755 */\n",
              "  display: inline-block !important;\n",
              "  position: relative;\n",
              "}\n",
              "\n",
              "#sk-container-id-1 div.sk-text-repr-fallback {\n",
              "  display: none;\n",
              "}\n",
              "\n",
              "div.sk-parallel-item,\n",
              "div.sk-serial,\n",
              "div.sk-item {\n",
              "  /* draw centered vertical line to link estimators */\n",
              "  background-image: linear-gradient(var(--sklearn-color-text-on-default-background), var(--sklearn-color-text-on-default-background));\n",
              "  background-size: 2px 100%;\n",
              "  background-repeat: no-repeat;\n",
              "  background-position: center center;\n",
              "}\n",
              "\n",
              "/* Parallel-specific style estimator block */\n",
              "\n",
              "#sk-container-id-1 div.sk-parallel-item::after {\n",
              "  content: \"\";\n",
              "  width: 100%;\n",
              "  border-bottom: 2px solid var(--sklearn-color-text-on-default-background);\n",
              "  flex-grow: 1;\n",
              "}\n",
              "\n",
              "#sk-container-id-1 div.sk-parallel {\n",
              "  display: flex;\n",
              "  align-items: stretch;\n",
              "  justify-content: center;\n",
              "  background-color: var(--sklearn-color-background);\n",
              "  position: relative;\n",
              "}\n",
              "\n",
              "#sk-container-id-1 div.sk-parallel-item {\n",
              "  display: flex;\n",
              "  flex-direction: column;\n",
              "}\n",
              "\n",
              "#sk-container-id-1 div.sk-parallel-item:first-child::after {\n",
              "  align-self: flex-end;\n",
              "  width: 50%;\n",
              "}\n",
              "\n",
              "#sk-container-id-1 div.sk-parallel-item:last-child::after {\n",
              "  align-self: flex-start;\n",
              "  width: 50%;\n",
              "}\n",
              "\n",
              "#sk-container-id-1 div.sk-parallel-item:only-child::after {\n",
              "  width: 0;\n",
              "}\n",
              "\n",
              "/* Serial-specific style estimator block */\n",
              "\n",
              "#sk-container-id-1 div.sk-serial {\n",
              "  display: flex;\n",
              "  flex-direction: column;\n",
              "  align-items: center;\n",
              "  background-color: var(--sklearn-color-background);\n",
              "  padding-right: 1em;\n",
              "  padding-left: 1em;\n",
              "}\n",
              "\n",
              "\n",
              "/* Toggleable style: style used for estimator/Pipeline/ColumnTransformer box that is\n",
              "clickable and can be expanded/collapsed.\n",
              "- Pipeline and ColumnTransformer use this feature and define the default style\n",
              "- Estimators will overwrite some part of the style using the `sk-estimator` class\n",
              "*/\n",
              "\n",
              "/* Pipeline and ColumnTransformer style (default) */\n",
              "\n",
              "#sk-container-id-1 div.sk-toggleable {\n",
              "  /* Default theme specific background. It is overwritten whether we have a\n",
              "  specific estimator or a Pipeline/ColumnTransformer */\n",
              "  background-color: var(--sklearn-color-background);\n",
              "}\n",
              "\n",
              "/* Toggleable label */\n",
              "#sk-container-id-1 label.sk-toggleable__label {\n",
              "  cursor: pointer;\n",
              "  display: flex;\n",
              "  width: 100%;\n",
              "  margin-bottom: 0;\n",
              "  padding: 0.5em;\n",
              "  box-sizing: border-box;\n",
              "  text-align: center;\n",
              "  align-items: start;\n",
              "  justify-content: space-between;\n",
              "  gap: 0.5em;\n",
              "}\n",
              "\n",
              "#sk-container-id-1 label.sk-toggleable__label .caption {\n",
              "  font-size: 0.6rem;\n",
              "  font-weight: lighter;\n",
              "  color: var(--sklearn-color-text-muted);\n",
              "}\n",
              "\n",
              "#sk-container-id-1 label.sk-toggleable__label-arrow:before {\n",
              "  /* Arrow on the left of the label */\n",
              "  content: \"▸\";\n",
              "  float: left;\n",
              "  margin-right: 0.25em;\n",
              "  color: var(--sklearn-color-icon);\n",
              "}\n",
              "\n",
              "#sk-container-id-1 label.sk-toggleable__label-arrow:hover:before {\n",
              "  color: var(--sklearn-color-text);\n",
              "}\n",
              "\n",
              "/* Toggleable content - dropdown */\n",
              "\n",
              "#sk-container-id-1 div.sk-toggleable__content {\n",
              "  max-height: 0;\n",
              "  max-width: 0;\n",
              "  overflow: hidden;\n",
              "  text-align: left;\n",
              "  /* unfitted */\n",
              "  background-color: var(--sklearn-color-unfitted-level-0);\n",
              "}\n",
              "\n",
              "#sk-container-id-1 div.sk-toggleable__content.fitted {\n",
              "  /* fitted */\n",
              "  background-color: var(--sklearn-color-fitted-level-0);\n",
              "}\n",
              "\n",
              "#sk-container-id-1 div.sk-toggleable__content pre {\n",
              "  margin: 0.2em;\n",
              "  border-radius: 0.25em;\n",
              "  color: var(--sklearn-color-text);\n",
              "  /* unfitted */\n",
              "  background-color: var(--sklearn-color-unfitted-level-0);\n",
              "}\n",
              "\n",
              "#sk-container-id-1 div.sk-toggleable__content.fitted pre {\n",
              "  /* unfitted */\n",
              "  background-color: var(--sklearn-color-fitted-level-0);\n",
              "}\n",
              "\n",
              "#sk-container-id-1 input.sk-toggleable__control:checked~div.sk-toggleable__content {\n",
              "  /* Expand drop-down */\n",
              "  max-height: 200px;\n",
              "  max-width: 100%;\n",
              "  overflow: auto;\n",
              "}\n",
              "\n",
              "#sk-container-id-1 input.sk-toggleable__control:checked~label.sk-toggleable__label-arrow:before {\n",
              "  content: \"▾\";\n",
              "}\n",
              "\n",
              "/* Pipeline/ColumnTransformer-specific style */\n",
              "\n",
              "#sk-container-id-1 div.sk-label input.sk-toggleable__control:checked~label.sk-toggleable__label {\n",
              "  color: var(--sklearn-color-text);\n",
              "  background-color: var(--sklearn-color-unfitted-level-2);\n",
              "}\n",
              "\n",
              "#sk-container-id-1 div.sk-label.fitted input.sk-toggleable__control:checked~label.sk-toggleable__label {\n",
              "  background-color: var(--sklearn-color-fitted-level-2);\n",
              "}\n",
              "\n",
              "/* Estimator-specific style */\n",
              "\n",
              "/* Colorize estimator box */\n",
              "#sk-container-id-1 div.sk-estimator input.sk-toggleable__control:checked~label.sk-toggleable__label {\n",
              "  /* unfitted */\n",
              "  background-color: var(--sklearn-color-unfitted-level-2);\n",
              "}\n",
              "\n",
              "#sk-container-id-1 div.sk-estimator.fitted input.sk-toggleable__control:checked~label.sk-toggleable__label {\n",
              "  /* fitted */\n",
              "  background-color: var(--sklearn-color-fitted-level-2);\n",
              "}\n",
              "\n",
              "#sk-container-id-1 div.sk-label label.sk-toggleable__label,\n",
              "#sk-container-id-1 div.sk-label label {\n",
              "  /* The background is the default theme color */\n",
              "  color: var(--sklearn-color-text-on-default-background);\n",
              "}\n",
              "\n",
              "/* On hover, darken the color of the background */\n",
              "#sk-container-id-1 div.sk-label:hover label.sk-toggleable__label {\n",
              "  color: var(--sklearn-color-text);\n",
              "  background-color: var(--sklearn-color-unfitted-level-2);\n",
              "}\n",
              "\n",
              "/* Label box, darken color on hover, fitted */\n",
              "#sk-container-id-1 div.sk-label.fitted:hover label.sk-toggleable__label.fitted {\n",
              "  color: var(--sklearn-color-text);\n",
              "  background-color: var(--sklearn-color-fitted-level-2);\n",
              "}\n",
              "\n",
              "/* Estimator label */\n",
              "\n",
              "#sk-container-id-1 div.sk-label label {\n",
              "  font-family: monospace;\n",
              "  font-weight: bold;\n",
              "  display: inline-block;\n",
              "  line-height: 1.2em;\n",
              "}\n",
              "\n",
              "#sk-container-id-1 div.sk-label-container {\n",
              "  text-align: center;\n",
              "}\n",
              "\n",
              "/* Estimator-specific */\n",
              "#sk-container-id-1 div.sk-estimator {\n",
              "  font-family: monospace;\n",
              "  border: 1px dotted var(--sklearn-color-border-box);\n",
              "  border-radius: 0.25em;\n",
              "  box-sizing: border-box;\n",
              "  margin-bottom: 0.5em;\n",
              "  /* unfitted */\n",
              "  background-color: var(--sklearn-color-unfitted-level-0);\n",
              "}\n",
              "\n",
              "#sk-container-id-1 div.sk-estimator.fitted {\n",
              "  /* fitted */\n",
              "  background-color: var(--sklearn-color-fitted-level-0);\n",
              "}\n",
              "\n",
              "/* on hover */\n",
              "#sk-container-id-1 div.sk-estimator:hover {\n",
              "  /* unfitted */\n",
              "  background-color: var(--sklearn-color-unfitted-level-2);\n",
              "}\n",
              "\n",
              "#sk-container-id-1 div.sk-estimator.fitted:hover {\n",
              "  /* fitted */\n",
              "  background-color: var(--sklearn-color-fitted-level-2);\n",
              "}\n",
              "\n",
              "/* Specification for estimator info (e.g. \"i\" and \"?\") */\n",
              "\n",
              "/* Common style for \"i\" and \"?\" */\n",
              "\n",
              ".sk-estimator-doc-link,\n",
              "a:link.sk-estimator-doc-link,\n",
              "a:visited.sk-estimator-doc-link {\n",
              "  float: right;\n",
              "  font-size: smaller;\n",
              "  line-height: 1em;\n",
              "  font-family: monospace;\n",
              "  background-color: var(--sklearn-color-background);\n",
              "  border-radius: 1em;\n",
              "  height: 1em;\n",
              "  width: 1em;\n",
              "  text-decoration: none !important;\n",
              "  margin-left: 0.5em;\n",
              "  text-align: center;\n",
              "  /* unfitted */\n",
              "  border: var(--sklearn-color-unfitted-level-1) 1pt solid;\n",
              "  color: var(--sklearn-color-unfitted-level-1);\n",
              "}\n",
              "\n",
              ".sk-estimator-doc-link.fitted,\n",
              "a:link.sk-estimator-doc-link.fitted,\n",
              "a:visited.sk-estimator-doc-link.fitted {\n",
              "  /* fitted */\n",
              "  border: var(--sklearn-color-fitted-level-1) 1pt solid;\n",
              "  color: var(--sklearn-color-fitted-level-1);\n",
              "}\n",
              "\n",
              "/* On hover */\n",
              "div.sk-estimator:hover .sk-estimator-doc-link:hover,\n",
              ".sk-estimator-doc-link:hover,\n",
              "div.sk-label-container:hover .sk-estimator-doc-link:hover,\n",
              ".sk-estimator-doc-link:hover {\n",
              "  /* unfitted */\n",
              "  background-color: var(--sklearn-color-unfitted-level-3);\n",
              "  color: var(--sklearn-color-background);\n",
              "  text-decoration: none;\n",
              "}\n",
              "\n",
              "div.sk-estimator.fitted:hover .sk-estimator-doc-link.fitted:hover,\n",
              ".sk-estimator-doc-link.fitted:hover,\n",
              "div.sk-label-container:hover .sk-estimator-doc-link.fitted:hover,\n",
              ".sk-estimator-doc-link.fitted:hover {\n",
              "  /* fitted */\n",
              "  background-color: var(--sklearn-color-fitted-level-3);\n",
              "  color: var(--sklearn-color-background);\n",
              "  text-decoration: none;\n",
              "}\n",
              "\n",
              "/* Span, style for the box shown on hovering the info icon */\n",
              ".sk-estimator-doc-link span {\n",
              "  display: none;\n",
              "  z-index: 9999;\n",
              "  position: relative;\n",
              "  font-weight: normal;\n",
              "  right: .2ex;\n",
              "  padding: .5ex;\n",
              "  margin: .5ex;\n",
              "  width: min-content;\n",
              "  min-width: 20ex;\n",
              "  max-width: 50ex;\n",
              "  color: var(--sklearn-color-text);\n",
              "  box-shadow: 2pt 2pt 4pt #999;\n",
              "  /* unfitted */\n",
              "  background: var(--sklearn-color-unfitted-level-0);\n",
              "  border: .5pt solid var(--sklearn-color-unfitted-level-3);\n",
              "}\n",
              "\n",
              ".sk-estimator-doc-link.fitted span {\n",
              "  /* fitted */\n",
              "  background: var(--sklearn-color-fitted-level-0);\n",
              "  border: var(--sklearn-color-fitted-level-3);\n",
              "}\n",
              "\n",
              ".sk-estimator-doc-link:hover span {\n",
              "  display: block;\n",
              "}\n",
              "\n",
              "/* \"?\"-specific style due to the `<a>` HTML tag */\n",
              "\n",
              "#sk-container-id-1 a.estimator_doc_link {\n",
              "  float: right;\n",
              "  font-size: 1rem;\n",
              "  line-height: 1em;\n",
              "  font-family: monospace;\n",
              "  background-color: var(--sklearn-color-background);\n",
              "  border-radius: 1rem;\n",
              "  height: 1rem;\n",
              "  width: 1rem;\n",
              "  text-decoration: none;\n",
              "  /* unfitted */\n",
              "  color: var(--sklearn-color-unfitted-level-1);\n",
              "  border: var(--sklearn-color-unfitted-level-1) 1pt solid;\n",
              "}\n",
              "\n",
              "#sk-container-id-1 a.estimator_doc_link.fitted {\n",
              "  /* fitted */\n",
              "  border: var(--sklearn-color-fitted-level-1) 1pt solid;\n",
              "  color: var(--sklearn-color-fitted-level-1);\n",
              "}\n",
              "\n",
              "/* On hover */\n",
              "#sk-container-id-1 a.estimator_doc_link:hover {\n",
              "  /* unfitted */\n",
              "  background-color: var(--sklearn-color-unfitted-level-3);\n",
              "  color: var(--sklearn-color-background);\n",
              "  text-decoration: none;\n",
              "}\n",
              "\n",
              "#sk-container-id-1 a.estimator_doc_link.fitted:hover {\n",
              "  /* fitted */\n",
              "  background-color: var(--sklearn-color-fitted-level-3);\n",
              "}\n",
              "</style><div id=\"sk-container-id-1\" class=\"sk-top-container\"><div class=\"sk-text-repr-fallback\"><pre>LinearRegression()</pre><b>In a Jupyter environment, please rerun this cell to show the HTML representation or trust the notebook. <br />On GitHub, the HTML representation is unable to render, please try loading this page with nbviewer.org.</b></div><div class=\"sk-container\" hidden><div class=\"sk-item\"><div class=\"sk-estimator fitted sk-toggleable\"><input class=\"sk-toggleable__control sk-hidden--visually\" id=\"sk-estimator-id-1\" type=\"checkbox\" checked><label for=\"sk-estimator-id-1\" class=\"sk-toggleable__label fitted sk-toggleable__label-arrow\"><div><div>LinearRegression</div></div><div><a class=\"sk-estimator-doc-link fitted\" rel=\"noreferrer\" target=\"_blank\" href=\"https://scikit-learn.org/1.6/modules/generated/sklearn.linear_model.LinearRegression.html\">?<span>Documentation for LinearRegression</span></a><span class=\"sk-estimator-doc-link fitted\">i<span>Fitted</span></span></div></label><div class=\"sk-toggleable__content fitted\"><pre>LinearRegression()</pre></div> </div></div></div></div>"
            ]
          },
          "metadata": {},
          "execution_count": 40
        }
      ]
    },
    {
      "cell_type": "code",
      "source": [
        "y_pred=model.predict(x_test)"
      ],
      "metadata": {
        "id": "19mOQXiXRZ-t"
      },
      "execution_count": null,
      "outputs": []
    },
    {
      "cell_type": "code",
      "source": [
        "print(f\"MAE: {mean_absolute_error(y_test,y_pred)}\")\n",
        "print(f\"MSE: {mean_squared_error(y_test,y_pred)}\")\n",
        "print(f\"R2_Score: {r2_score(y_test,y_pred)}\")"
      ],
      "metadata": {
        "colab": {
          "base_uri": "https://localhost:8080/"
        },
        "id": "XpaSDQEASKMG",
        "outputId": "be567bbb-4fee-4d29-a657-650f51ab33c7"
      },
      "execution_count": null,
      "outputs": [
        {
          "output_type": "stream",
          "name": "stdout",
          "text": [
            "MAE: 1207408.6424517904\n",
            "MSE: 2494798797961.1084\n",
            "R2_Score: 0.5064271191486862\n"
          ]
        }
      ]
    }
  ]
}