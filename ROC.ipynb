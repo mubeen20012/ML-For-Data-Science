{
  "nbformat": 4,
  "nbformat_minor": 0,
  "metadata": {
    "colab": {
      "provenance": []
    },
    "kernelspec": {
      "name": "python3",
      "display_name": "Python 3"
    },
    "language_info": {
      "name": "python"
    }
  },
  "cells": [
    {
      "cell_type": "code",
      "execution_count": 16,
      "metadata": {
        "colab": {
          "base_uri": "https://localhost:8080/"
        },
        "id": "KMiaG6bzCGpJ",
        "outputId": "9aae9a4e-afa1-4e78-c56a-47beab73ed19"
      },
      "outputs": [
        {
          "output_type": "stream",
          "name": "stdout",
          "text": [
            "Requirement already satisfied: pandas in /usr/local/lib/python3.12/dist-packages (2.2.2)\n",
            "Requirement already satisfied: numpy>=1.26.0 in /usr/local/lib/python3.12/dist-packages (from pandas) (2.0.2)\n",
            "Requirement already satisfied: python-dateutil>=2.8.2 in /usr/local/lib/python3.12/dist-packages (from pandas) (2.9.0.post0)\n",
            "Requirement already satisfied: pytz>=2020.1 in /usr/local/lib/python3.12/dist-packages (from pandas) (2025.2)\n",
            "Requirement already satisfied: tzdata>=2022.7 in /usr/local/lib/python3.12/dist-packages (from pandas) (2025.2)\n",
            "Requirement already satisfied: six>=1.5 in /usr/local/lib/python3.12/dist-packages (from python-dateutil>=2.8.2->pandas) (1.17.0)\n"
          ]
        }
      ],
      "source": [
        "!pip install pandas"
      ]
    },
    {
      "cell_type": "code",
      "source": [
        "import pandas as pd\n",
        "print(pd.__version__)"
      ],
      "metadata": {
        "colab": {
          "base_uri": "https://localhost:8080/"
        },
        "id": "_jnrOzSrCLlx",
        "outputId": "e3d62d23-1a61-4190-cfd3-dc6e810b366e"
      },
      "execution_count": 17,
      "outputs": [
        {
          "output_type": "stream",
          "name": "stdout",
          "text": [
            "2.2.2\n"
          ]
        }
      ]
    },
    {
      "cell_type": "code",
      "source": [
        "from google.colab import files\n",
        "files.upload()"
      ],
      "metadata": {
        "colab": {
          "base_uri": "https://localhost:8080/",
          "height": 1000
        },
        "id": "pdmfg7M_CQRu",
        "outputId": "673f9ad2-fba0-4660-d8c2-efd0bb840710"
      },
      "execution_count": 18,
      "outputs": [
        {
          "output_type": "display_data",
          "data": {
            "text/plain": [
              "<IPython.core.display.HTML object>"
            ],
            "text/html": [
              "\n",
              "     <input type=\"file\" id=\"files-9640f04d-e722-444a-a4a6-8b0402c83280\" name=\"files[]\" multiple disabled\n",
              "        style=\"border:none\" />\n",
              "     <output id=\"result-9640f04d-e722-444a-a4a6-8b0402c83280\">\n",
              "      Upload widget is only available when the cell has been executed in the\n",
              "      current browser session. Please rerun this cell to enable.\n",
              "      </output>\n",
              "      <script>// Copyright 2017 Google LLC\n",
              "//\n",
              "// Licensed under the Apache License, Version 2.0 (the \"License\");\n",
              "// you may not use this file except in compliance with the License.\n",
              "// You may obtain a copy of the License at\n",
              "//\n",
              "//      http://www.apache.org/licenses/LICENSE-2.0\n",
              "//\n",
              "// Unless required by applicable law or agreed to in writing, software\n",
              "// distributed under the License is distributed on an \"AS IS\" BASIS,\n",
              "// WITHOUT WARRANTIES OR CONDITIONS OF ANY KIND, either express or implied.\n",
              "// See the License for the specific language governing permissions and\n",
              "// limitations under the License.\n",
              "\n",
              "/**\n",
              " * @fileoverview Helpers for google.colab Python module.\n",
              " */\n",
              "(function(scope) {\n",
              "function span(text, styleAttributes = {}) {\n",
              "  const element = document.createElement('span');\n",
              "  element.textContent = text;\n",
              "  for (const key of Object.keys(styleAttributes)) {\n",
              "    element.style[key] = styleAttributes[key];\n",
              "  }\n",
              "  return element;\n",
              "}\n",
              "\n",
              "// Max number of bytes which will be uploaded at a time.\n",
              "const MAX_PAYLOAD_SIZE = 100 * 1024;\n",
              "\n",
              "function _uploadFiles(inputId, outputId) {\n",
              "  const steps = uploadFilesStep(inputId, outputId);\n",
              "  const outputElement = document.getElementById(outputId);\n",
              "  // Cache steps on the outputElement to make it available for the next call\n",
              "  // to uploadFilesContinue from Python.\n",
              "  outputElement.steps = steps;\n",
              "\n",
              "  return _uploadFilesContinue(outputId);\n",
              "}\n",
              "\n",
              "// This is roughly an async generator (not supported in the browser yet),\n",
              "// where there are multiple asynchronous steps and the Python side is going\n",
              "// to poll for completion of each step.\n",
              "// This uses a Promise to block the python side on completion of each step,\n",
              "// then passes the result of the previous step as the input to the next step.\n",
              "function _uploadFilesContinue(outputId) {\n",
              "  const outputElement = document.getElementById(outputId);\n",
              "  const steps = outputElement.steps;\n",
              "\n",
              "  const next = steps.next(outputElement.lastPromiseValue);\n",
              "  return Promise.resolve(next.value.promise).then((value) => {\n",
              "    // Cache the last promise value to make it available to the next\n",
              "    // step of the generator.\n",
              "    outputElement.lastPromiseValue = value;\n",
              "    return next.value.response;\n",
              "  });\n",
              "}\n",
              "\n",
              "/**\n",
              " * Generator function which is called between each async step of the upload\n",
              " * process.\n",
              " * @param {string} inputId Element ID of the input file picker element.\n",
              " * @param {string} outputId Element ID of the output display.\n",
              " * @return {!Iterable<!Object>} Iterable of next steps.\n",
              " */\n",
              "function* uploadFilesStep(inputId, outputId) {\n",
              "  const inputElement = document.getElementById(inputId);\n",
              "  inputElement.disabled = false;\n",
              "\n",
              "  const outputElement = document.getElementById(outputId);\n",
              "  outputElement.innerHTML = '';\n",
              "\n",
              "  const pickedPromise = new Promise((resolve) => {\n",
              "    inputElement.addEventListener('change', (e) => {\n",
              "      resolve(e.target.files);\n",
              "    });\n",
              "  });\n",
              "\n",
              "  const cancel = document.createElement('button');\n",
              "  inputElement.parentElement.appendChild(cancel);\n",
              "  cancel.textContent = 'Cancel upload';\n",
              "  const cancelPromise = new Promise((resolve) => {\n",
              "    cancel.onclick = () => {\n",
              "      resolve(null);\n",
              "    };\n",
              "  });\n",
              "\n",
              "  // Wait for the user to pick the files.\n",
              "  const files = yield {\n",
              "    promise: Promise.race([pickedPromise, cancelPromise]),\n",
              "    response: {\n",
              "      action: 'starting',\n",
              "    }\n",
              "  };\n",
              "\n",
              "  cancel.remove();\n",
              "\n",
              "  // Disable the input element since further picks are not allowed.\n",
              "  inputElement.disabled = true;\n",
              "\n",
              "  if (!files) {\n",
              "    return {\n",
              "      response: {\n",
              "        action: 'complete',\n",
              "      }\n",
              "    };\n",
              "  }\n",
              "\n",
              "  for (const file of files) {\n",
              "    const li = document.createElement('li');\n",
              "    li.append(span(file.name, {fontWeight: 'bold'}));\n",
              "    li.append(span(\n",
              "        `(${file.type || 'n/a'}) - ${file.size} bytes, ` +\n",
              "        `last modified: ${\n",
              "            file.lastModifiedDate ? file.lastModifiedDate.toLocaleDateString() :\n",
              "                                    'n/a'} - `));\n",
              "    const percent = span('0% done');\n",
              "    li.appendChild(percent);\n",
              "\n",
              "    outputElement.appendChild(li);\n",
              "\n",
              "    const fileDataPromise = new Promise((resolve) => {\n",
              "      const reader = new FileReader();\n",
              "      reader.onload = (e) => {\n",
              "        resolve(e.target.result);\n",
              "      };\n",
              "      reader.readAsArrayBuffer(file);\n",
              "    });\n",
              "    // Wait for the data to be ready.\n",
              "    let fileData = yield {\n",
              "      promise: fileDataPromise,\n",
              "      response: {\n",
              "        action: 'continue',\n",
              "      }\n",
              "    };\n",
              "\n",
              "    // Use a chunked sending to avoid message size limits. See b/62115660.\n",
              "    let position = 0;\n",
              "    do {\n",
              "      const length = Math.min(fileData.byteLength - position, MAX_PAYLOAD_SIZE);\n",
              "      const chunk = new Uint8Array(fileData, position, length);\n",
              "      position += length;\n",
              "\n",
              "      const base64 = btoa(String.fromCharCode.apply(null, chunk));\n",
              "      yield {\n",
              "        response: {\n",
              "          action: 'append',\n",
              "          file: file.name,\n",
              "          data: base64,\n",
              "        },\n",
              "      };\n",
              "\n",
              "      let percentDone = fileData.byteLength === 0 ?\n",
              "          100 :\n",
              "          Math.round((position / fileData.byteLength) * 100);\n",
              "      percent.textContent = `${percentDone}% done`;\n",
              "\n",
              "    } while (position < fileData.byteLength);\n",
              "  }\n",
              "\n",
              "  // All done.\n",
              "  yield {\n",
              "    response: {\n",
              "      action: 'complete',\n",
              "    }\n",
              "  };\n",
              "}\n",
              "\n",
              "scope.google = scope.google || {};\n",
              "scope.google.colab = scope.google.colab || {};\n",
              "scope.google.colab._files = {\n",
              "  _uploadFiles,\n",
              "  _uploadFilesContinue,\n",
              "};\n",
              "})(self);\n",
              "</script> "
            ]
          },
          "metadata": {}
        },
        {
          "output_type": "stream",
          "name": "stdout",
          "text": [
            "Saving cleaned_titanic.csv to cleaned_titanic (1).csv\n"
          ]
        },
        {
          "output_type": "execute_result",
          "data": {
            "text/plain": [
              "{'cleaned_titanic (1).csv': b'PassengerId,Survived,Pclass,Name,Sex,Age,SibSp,Parch,Ticket,Fare,Embarked,FamilySize,Title,IsAlone,AgeGroup\\n1,0,3,\"Braund, Mr. Owen Harris\",1,22.0,1,0,A/5 21171,7.25,1,2,1.0,0,young\\n2,1,1,\"Cumings, Mrs. John Bradley (Florence Briggs Thayer)\",0,38.0,1,0,PC 17599,71.2833,1,2,0.0,0,adult\\n3,1,3,\"Heikkinen, Miss. Laina\",0,26.0,0,0,STON/O2. 3101282,7.925,1,1,2.0,1,young\\n4,1,1,\"Futrelle, Mrs. Jacques Heath (Lily May Peel)\",0,35.0,1,0,113803,53.1,1,2,0.0,0,adult\\n5,0,3,\"Allen, Mr. William Henry\",1,35.0,0,0,373450,8.05,1,1,1.0,1,adult\\n6,0,3,\"Moran, Mr. James\",1,28.0,0,0,330877,8.4583,2,1,1.0,1,young\\n7,0,1,\"McCarthy, Mr. Timothy J\",1,54.0,0,0,17463,51.8625,1,1,1.0,1,old\\n8,0,3,\"Palsson, Master. Gosta Leonard\",1,2.0,3,1,349909,21.075,1,5,,0,child\\n9,1,3,\"Johnson, Mrs. Oscar W (Elisabeth Vilhelmina Berg)\",0,27.0,0,2,347742,11.1333,1,3,0.0,0,young\\n10,1,2,\"Nasser, Mrs. Nicholas (Adele Achem)\",0,14.0,1,0,237736,30.0708,1,2,0.0,0,teenager\\n11,1,3,\"Sandstrom, Miss. Marguerite Rut\",0,4.0,1,1,PP 9549,16.7,1,3,2.0,0,child\\n12,1,1,\"Bonnell, Miss. Elizabeth\",0,58.0,0,0,113783,26.55,1,1,2.0,1,old\\n13,0,3,\"Saundercock, Mr. William Henry\",1,20.0,0,0,A/5. 2151,8.05,1,1,1.0,1,young\\n14,0,3,\"Andersson, Mr. Anders Johan\",1,39.0,1,5,347082,31.275,1,7,1.0,0,adult\\n15,0,3,\"Vestrom, Miss. Hulda Amanda Adolfina\",0,14.0,0,0,350406,7.8542,1,1,2.0,1,teenager\\n16,1,2,\"Hewlett, Mrs. (Mary D Kingcome) \",0,55.0,0,0,248706,16.0,1,1,0.0,1,old\\n17,0,3,\"Rice, Master. Eugene\",1,2.0,4,1,382652,29.125,2,6,,0,child\\n18,1,2,\"Williams, Mr. Charles Eugene\",1,28.0,0,0,244373,13.0,1,1,1.0,1,young\\n19,0,3,\"Vander Planke, Mrs. Julius (Emelia Maria Vandemoortele)\",0,31.0,1,0,345763,18.0,1,2,0.0,0,adult\\n20,1,3,\"Masselmani, Mrs. Fatima\",0,28.0,0,0,2649,7.225,1,1,0.0,1,young\\n21,0,2,\"Fynney, Mr. Joseph J\",1,35.0,0,0,239865,26.0,1,1,1.0,1,adult\\n22,1,2,\"Beesley, Mr. Lawrence\",1,34.0,0,0,248698,13.0,1,1,1.0,1,adult\\n23,1,3,\"McGowan, Miss. Anna \"\"Annie\"\"\",0,15.0,0,0,330923,8.0292,2,1,2.0,1,teenager\\n24,1,1,\"Sloper, Mr. William Thompson\",1,28.0,0,0,113788,35.5,1,1,1.0,1,young\\n25,0,3,\"Palsson, Miss. Torborg Danira\",0,8.0,3,1,349909,21.075,1,5,2.0,0,child\\n26,1,3,\"Asplund, Mrs. Carl Oscar (Selma Augusta Emilia Johansson)\",0,38.0,1,5,347077,31.3875,1,7,0.0,0,adult\\n27,0,3,\"Emir, Mr. Farred Chehab\",1,28.0,0,0,2631,7.225,1,1,1.0,1,young\\n28,0,1,\"Fortune, Mr. Charles Alexander\",1,19.0,3,2,19950,263.0,1,6,1.0,0,young\\n29,1,3,\"O\\'Dwyer, Miss. Ellen \"\"Nellie\"\"\",0,28.0,0,0,330959,7.8792,2,1,2.0,1,young\\n30,0,3,\"Todoroff, Mr. Lalio\",1,28.0,0,0,349216,7.8958,1,1,1.0,1,young\\n31,0,1,\"Uruchurtu, Don. Manuel E\",1,40.0,0,0,PC 17601,27.7208,1,1,,1,adult\\n32,1,1,\"Spencer, Mrs. William Augustus (Marie Eugenie)\",0,28.0,1,0,PC 17569,146.5208,1,2,0.0,0,young\\n33,1,3,\"Glynn, Miss. Mary Agatha\",0,28.0,0,0,335677,7.75,2,1,2.0,1,young\\n34,0,2,\"Wheadon, Mr. Edward H\",1,66.0,0,0,C.A. 24579,10.5,1,1,1.0,1,old\\n35,0,1,\"Meyer, Mr. Edgar Joseph\",1,28.0,1,0,PC 17604,82.1708,1,2,1.0,0,young\\n36,0,1,\"Holverson, Mr. Alexander Oskar\",1,42.0,1,0,113789,52.0,1,2,1.0,0,adult\\n37,1,3,\"Mamee, Mr. Hanna\",1,28.0,0,0,2677,7.2292,1,1,1.0,1,young\\n38,0,3,\"Cann, Mr. Ernest Charles\",1,21.0,0,0,A./5. 2152,8.05,1,1,1.0,1,young\\n39,0,3,\"Vander Planke, Miss. Augusta Maria\",0,18.0,2,0,345764,18.0,1,3,2.0,0,teenager\\n40,1,3,\"Nicola-Yarred, Miss. Jamila\",0,14.0,1,0,2651,11.2417,1,2,2.0,0,teenager\\n41,0,3,\"Ahlin, Mrs. Johan (Johanna Persdotter Larsson)\",0,40.0,1,0,7546,9.475,1,2,0.0,0,adult\\n42,0,2,\"Turpin, Mrs. William John Robert (Dorothy Ann Wonnacott)\",0,27.0,1,0,11668,21.0,1,2,0.0,0,young\\n43,0,3,\"Kraeff, Mr. Theodor\",1,28.0,0,0,349253,7.8958,1,1,1.0,1,young\\n44,1,2,\"Laroche, Miss. Simonne Marie Anne Andree\",0,3.0,1,2,SC/Paris 2123,41.5792,1,4,2.0,0,child\\n45,1,3,\"Devaney, Miss. Margaret Delia\",0,19.0,0,0,330958,7.8792,2,1,2.0,1,young\\n46,0,3,\"Rogers, Mr. William John\",1,28.0,0,0,S.C./A.4. 23567,8.05,1,1,1.0,1,young\\n47,0,3,\"Lennon, Mr. Denis\",1,28.0,1,0,370371,15.5,2,2,1.0,0,young\\n48,1,3,\"O\\'Driscoll, Miss. Bridget\",0,28.0,0,0,14311,7.75,2,1,2.0,1,young\\n49,0,3,\"Samaan, Mr. Youssef\",1,28.0,2,0,2662,21.6792,1,3,1.0,0,young\\n50,0,3,\"Arnold-Franchi, Mrs. Josef (Josefine Franchi)\",0,18.0,1,0,349237,17.8,1,2,0.0,0,teenager\\n51,0,3,\"Panula, Master. Juha Niilo\",1,7.0,4,1,3101295,39.6875,1,6,,0,child\\n52,0,3,\"Nosworthy, Mr. Richard Cater\",1,21.0,0,0,A/4. 39886,7.8,1,1,1.0,1,young\\n53,1,1,\"Harper, Mrs. Henry Sleeper (Myna Haxtun)\",0,49.0,1,0,PC 17572,76.7292,1,2,0.0,0,adult\\n54,1,2,\"Faunthorpe, Mrs. Lizzie (Elizabeth Anne Wilkinson)\",0,29.0,1,0,2926,26.0,1,2,0.0,0,young\\n55,0,1,\"Ostby, Mr. Engelhart Cornelius\",1,65.0,0,1,113509,61.9792,1,2,1.0,0,old\\n56,1,1,\"Woolner, Mr. Hugh\",1,28.0,0,0,19947,35.5,1,1,1.0,1,young\\n57,1,2,\"Rugg, Miss. Emily\",0,21.0,0,0,C.A. 31026,10.5,1,1,2.0,1,young\\n58,0,3,\"Novel, Mr. Mansouer\",1,28.5,0,0,2697,7.2292,1,1,1.0,1,young\\n59,1,2,\"West, Miss. Constance Mirium\",0,5.0,1,2,C.A. 34651,27.75,1,4,2.0,0,child\\n60,0,3,\"Goodwin, Master. William Frederick\",1,11.0,5,2,CA 2144,46.9,1,8,,0,teenager\\n61,0,3,\"Sirayanian, Mr. Orsen\",1,22.0,0,0,2669,7.2292,1,1,1.0,1,young\\n62,1,1,\"Icard, Miss. Amelie\",0,38.0,0,0,113572,80.0,1,1,2.0,1,adult\\n63,0,1,\"Harris, Mr. Henry Birkhardt\",1,45.0,1,0,36973,83.475,1,2,1.0,0,adult\\n64,0,3,\"Skoog, Master. Harald\",1,4.0,3,2,347088,27.9,1,6,,0,child\\n65,0,1,\"Stewart, Mr. Albert A\",1,28.0,0,0,PC 17605,27.7208,1,1,1.0,1,young\\n66,1,3,\"Moubarek, Master. Gerios\",1,28.0,1,1,2661,15.2458,1,3,,0,young\\n67,1,2,\"Nye, Mrs. (Elizabeth Ramell)\",0,29.0,0,0,C.A. 29395,10.5,1,1,0.0,1,young\\n68,0,3,\"Crease, Mr. Ernest James\",1,19.0,0,0,S.P. 3464,8.1583,1,1,1.0,1,young\\n69,1,3,\"Andersson, Miss. Erna Alexandra\",0,17.0,4,2,3101281,7.925,1,7,2.0,0,teenager\\n70,0,3,\"Kink, Mr. Vincenz\",1,26.0,2,0,315151,8.6625,1,3,1.0,0,young\\n71,0,2,\"Jenkin, Mr. Stephen Curnow\",1,32.0,0,0,C.A. 33111,10.5,1,1,1.0,1,adult\\n72,0,3,\"Goodwin, Miss. Lillian Amy\",0,16.0,5,2,CA 2144,46.9,1,8,2.0,0,teenager\\n73,0,2,\"Hood, Mr. Ambrose Jr\",1,21.0,0,0,S.O.C. 14879,73.5,1,1,1.0,1,young\\n74,0,3,\"Chronopoulos, Mr. Apostolos\",1,26.0,1,0,2680,14.4542,1,2,1.0,0,young\\n75,1,3,\"Bing, Mr. Lee\",1,32.0,0,0,1601,56.4958,1,1,1.0,1,adult\\n76,0,3,\"Moen, Mr. Sigurd Hansen\",1,25.0,0,0,348123,7.65,1,1,1.0,1,young\\n77,0,3,\"Staneff, Mr. Ivan\",1,28.0,0,0,349208,7.8958,1,1,1.0,1,young\\n78,0,3,\"Moutal, Mr. Rahamin Haim\",1,28.0,0,0,374746,8.05,1,1,1.0,1,young\\n79,1,2,\"Caldwell, Master. Alden Gates\",1,0.83,0,2,248738,29.0,1,3,,0,child\\n80,1,3,\"Dowdell, Miss. Elizabeth\",0,30.0,0,0,364516,12.475,1,1,2.0,1,young\\n81,0,3,\"Waelens, Mr. Achille\",1,22.0,0,0,345767,9.0,1,1,1.0,1,young\\n82,1,3,\"Sheerlinck, Mr. Jan Baptist\",1,29.0,0,0,345779,9.5,1,1,1.0,1,young\\n83,1,3,\"McDermott, Miss. Brigdet Delia\",0,28.0,0,0,330932,7.7875,2,1,2.0,1,young\\n84,0,1,\"Carrau, Mr. Francisco M\",1,28.0,0,0,113059,47.1,1,1,1.0,1,young\\n85,1,2,\"Ilett, Miss. Bertha\",0,17.0,0,0,SO/C 14885,10.5,1,1,2.0,1,teenager\\n86,1,3,\"Backstrom, Mrs. Karl Alfred (Maria Mathilda Gustafsson)\",0,33.0,3,0,3101278,15.85,1,4,0.0,0,adult\\n87,0,3,\"Ford, Mr. William Neal\",1,16.0,1,3,W./C. 6608,34.375,1,5,1.0,0,teenager\\n88,0,3,\"Slocovski, Mr. Selman Francis\",1,28.0,0,0,SOTON/OQ 392086,8.05,1,1,1.0,1,young\\n89,1,1,\"Fortune, Miss. Mabel Helen\",0,23.0,3,2,19950,263.0,1,6,2.0,0,young\\n90,0,3,\"Celotti, Mr. Francesco\",1,24.0,0,0,343275,8.05,1,1,1.0,1,young\\n91,0,3,\"Christmann, Mr. Emil\",1,29.0,0,0,343276,8.05,1,1,1.0,1,young\\n92,0,3,\"Andreasson, Mr. Paul Edvin\",1,20.0,0,0,347466,7.8542,1,1,1.0,1,young\\n93,0,1,\"Chaffee, Mr. Herbert Fuller\",1,46.0,1,0,W.E.P. 5734,61.175,1,2,1.0,0,adult\\n94,0,3,\"Dean, Mr. Bertram Frank\",1,26.0,1,2,C.A. 2315,20.575,1,4,1.0,0,young\\n95,0,3,\"Coxon, Mr. Daniel\",1,59.0,0,0,364500,7.25,1,1,1.0,1,old\\n96,0,3,\"Shorney, Mr. Charles Joseph\",1,28.0,0,0,374910,8.05,1,1,1.0,1,young\\n97,0,1,\"Goldschmidt, Mr. George B\",1,71.0,0,0,PC 17754,34.6542,1,1,1.0,1,old\\n98,1,1,\"Greenfield, Mr. William Bertram\",1,23.0,0,1,PC 17759,63.3583,1,2,1.0,0,young\\n99,1,2,\"Doling, Mrs. John T (Ada Julia Bone)\",0,34.0,0,1,231919,23.0,1,2,0.0,0,adult\\n100,0,2,\"Kantor, Mr. Sinai\",1,34.0,1,0,244367,26.0,1,2,1.0,0,adult\\n101,0,3,\"Petranec, Miss. Matilda\",0,28.0,0,0,349245,7.8958,1,1,2.0,1,young\\n102,0,3,\"Petroff, Mr. Pastcho (\"\"Pentcho\"\")\",1,28.0,0,0,349215,7.8958,1,1,1.0,1,young\\n103,0,1,\"White, Mr. Richard Frasar\",1,21.0,0,1,35281,77.2875,1,2,1.0,0,young\\n104,0,3,\"Johansson, Mr. Gustaf Joel\",1,33.0,0,0,7540,8.6542,1,1,1.0,1,adult\\n105,0,3,\"Gustafsson, Mr. Anders Vilhelm\",1,37.0,2,0,3101276,7.925,1,3,1.0,0,adult\\n106,0,3,\"Mionoff, Mr. Stoytcho\",1,28.0,0,0,349207,7.8958,1,1,1.0,1,young\\n107,1,3,\"Salkjelsvik, Miss. Anna Kristine\",0,21.0,0,0,343120,7.65,1,1,2.0,1,young\\n108,1,3,\"Moss, Mr. Albert Johan\",1,28.0,0,0,312991,7.775,1,1,1.0,1,young\\n109,0,3,\"Rekic, Mr. Tido\",1,38.0,0,0,349249,7.8958,1,1,1.0,1,adult\\n110,1,3,\"Moran, Miss. Bertha\",0,28.0,1,0,371110,24.15,2,2,2.0,0,young\\n111,0,1,\"Porter, Mr. Walter Chamberlain\",1,47.0,0,0,110465,52.0,1,1,1.0,1,adult\\n112,0,3,\"Zabour, Miss. Hileni\",0,14.5,1,0,2665,14.4542,1,2,2.0,0,teenager\\n113,0,3,\"Barton, Mr. David John\",1,22.0,0,0,324669,8.05,1,1,1.0,1,young\\n114,0,3,\"Jussila, Miss. Katriina\",0,20.0,1,0,4136,9.825,1,2,2.0,0,young\\n115,0,3,\"Attalah, Miss. Malake\",0,17.0,0,0,2627,14.4583,1,1,2.0,1,teenager\\n116,0,3,\"Pekoniemi, Mr. Edvard\",1,21.0,0,0,STON/O 2. 3101294,7.925,1,1,1.0,1,young\\n117,0,3,\"Connors, Mr. Patrick\",1,70.5,0,0,370369,7.75,2,1,1.0,1,old\\n118,0,2,\"Turpin, Mr. William John Robert\",1,29.0,1,0,11668,21.0,1,2,1.0,0,young\\n119,0,1,\"Baxter, Mr. Quigg Edmond\",1,24.0,0,1,PC 17558,247.5208,1,2,1.0,0,young\\n120,0,3,\"Andersson, Miss. Ellis Anna Maria\",0,2.0,4,2,347082,31.275,1,7,2.0,0,child\\n121,0,2,\"Hickman, Mr. Stanley George\",1,21.0,2,0,S.O.C. 14879,73.5,1,3,1.0,0,young\\n122,0,3,\"Moore, Mr. Leonard Charles\",1,28.0,0,0,A4. 54510,8.05,1,1,1.0,1,young\\n123,0,2,\"Nasser, Mr. Nicholas\",1,32.5,1,0,237736,30.0708,1,2,1.0,0,adult\\n124,1,2,\"Webber, Miss. Susan\",0,32.5,0,0,27267,13.0,1,1,2.0,1,adult\\n125,0,1,\"White, Mr. Percival Wayland\",1,54.0,0,1,35281,77.2875,1,2,1.0,0,old\\n126,1,3,\"Nicola-Yarred, Master. Elias\",1,12.0,1,0,2651,11.2417,1,2,,0,teenager\\n127,0,3,\"McMahon, Mr. Martin\",1,28.0,0,0,370372,7.75,2,1,1.0,1,young\\n128,1,3,\"Madsen, Mr. Fridtjof Arne\",1,24.0,0,0,C 17369,7.1417,1,1,1.0,1,young\\n129,1,3,\"Peter, Miss. Anna\",0,28.0,1,1,2668,22.3583,1,3,2.0,0,young\\n130,0,3,\"Ekstrom, Mr. Johan\",1,45.0,0,0,347061,6.975,1,1,1.0,1,adult\\n131,0,3,\"Drazenoic, Mr. Jozef\",1,33.0,0,0,349241,7.8958,1,1,1.0,1,adult\\n132,0,3,\"Coelho, Mr. Domingos Fernandeo\",1,20.0,0,0,SOTON/O.Q. 3101307,7.05,1,1,1.0,1,young\\n133,0,3,\"Robins, Mrs. Alexander A (Grace Charity Laury)\",0,47.0,1,0,A/5. 3337,14.5,1,2,0.0,0,adult\\n134,1,2,\"Weisz, Mrs. Leopold (Mathilde Francoise Pede)\",0,29.0,1,0,228414,26.0,1,2,0.0,0,young\\n135,0,2,\"Sobey, Mr. Samuel James Hayden\",1,25.0,0,0,C.A. 29178,13.0,1,1,1.0,1,young\\n136,0,2,\"Richard, Mr. Emile\",1,23.0,0,0,SC/PARIS 2133,15.0458,1,1,1.0,1,young\\n137,1,1,\"Newsom, Miss. Helen Monypeny\",0,19.0,0,2,11752,26.2833,1,3,2.0,0,young\\n138,0,1,\"Futrelle, Mr. Jacques Heath\",1,37.0,1,0,113803,53.1,1,2,1.0,0,adult\\n139,0,3,\"Osen, Mr. Olaf Elon\",1,16.0,0,0,7534,9.2167,1,1,1.0,1,teenager\\n140,0,1,\"Giglio, Mr. Victor\",1,24.0,0,0,PC 17593,79.2,1,1,1.0,1,young\\n141,0,3,\"Boulos, Mrs. Joseph (Sultana)\",0,28.0,0,2,2678,15.2458,1,3,0.0,0,young\\n142,1,3,\"Nysten, Miss. Anna Sofia\",0,22.0,0,0,347081,7.75,1,1,2.0,1,young\\n143,1,3,\"Hakkarainen, Mrs. Pekka Pietari (Elin Matilda Dolck)\",0,24.0,1,0,STON/O2. 3101279,15.85,1,2,0.0,0,young\\n144,0,3,\"Burke, Mr. Jeremiah\",1,19.0,0,0,365222,6.75,2,1,1.0,1,young\\n145,0,2,\"Andrew, Mr. Edgardo Samuel\",1,18.0,0,0,231945,11.5,1,1,1.0,1,teenager\\n146,0,2,\"Nicholls, Mr. Joseph Charles\",1,19.0,1,1,C.A. 33112,36.75,1,3,1.0,0,young\\n147,1,3,\"Andersson, Mr. August Edvard (\"\"Wennerstrom\"\")\",1,27.0,0,0,350043,7.7958,1,1,1.0,1,young\\n148,0,3,\"Ford, Miss. Robina Maggie \"\"Ruby\"\"\",0,9.0,2,2,W./C. 6608,34.375,1,5,2.0,0,child\\n149,0,2,\"Navratil, Mr. Michel (\"\"Louis M Hoffman\"\")\",1,36.5,0,2,230080,26.0,1,3,1.0,0,adult\\n150,0,2,\"Byles, Rev. Thomas Roussel Davids\",1,42.0,0,0,244310,13.0,1,1,,1,adult\\n151,0,2,\"Bateman, Rev. Robert James\",1,51.0,0,0,S.O.P. 1166,12.525,1,1,,1,old\\n152,1,1,\"Pears, Mrs. Thomas (Edith Wearne)\",0,22.0,1,0,113776,66.6,1,2,0.0,0,young\\n153,0,3,\"Meo, Mr. Alfonzo\",1,55.5,0,0,A.5. 11206,8.05,1,1,1.0,1,old\\n154,0,3,\"van Billiard, Mr. Austin Blyler\",1,40.5,0,2,A/5. 851,14.5,1,3,1.0,0,adult\\n155,0,3,\"Olsen, Mr. Ole Martin\",1,28.0,0,0,Fa 265302,7.3125,1,1,1.0,1,young\\n156,0,1,\"Williams, Mr. Charles Duane\",1,51.0,0,1,PC 17597,61.3792,1,2,1.0,0,old\\n157,1,3,\"Gilnagh, Miss. Katherine \"\"Katie\"\"\",0,16.0,0,0,35851,7.7333,2,1,2.0,1,teenager\\n158,0,3,\"Corn, Mr. Harry\",1,30.0,0,0,SOTON/OQ 392090,8.05,1,1,1.0,1,young\\n159,0,3,\"Smiljanic, Mr. Mile\",1,28.0,0,0,315037,8.6625,1,1,1.0,1,young\\n160,0,3,\"Sage, Master. Thomas Henry\",1,28.0,8,2,CA. 2343,69.55,1,11,,0,young\\n161,0,3,\"Cribb, Mr. John Hatfield\",1,44.0,0,1,371362,16.1,1,2,1.0,0,adult\\n162,1,2,\"Watt, Mrs. James (Elizabeth \"\"Bessie\"\" Inglis Milne)\",0,40.0,0,0,C.A. 33595,15.75,1,1,0.0,1,adult\\n163,0,3,\"Bengtsson, Mr. John Viktor\",1,26.0,0,0,347068,7.775,1,1,1.0,1,young\\n164,0,3,\"Calic, Mr. Jovo\",1,17.0,0,0,315093,8.6625,1,1,1.0,1,teenager\\n165,0,3,\"Panula, Master. Eino Viljami\",1,1.0,4,1,3101295,39.6875,1,6,,0,child\\n166,1,3,\"Goldsmith, Master. Frank John William \"\"Frankie\"\"\",1,9.0,0,2,363291,20.525,1,3,,0,child\\n167,1,1,\"Chibnall, Mrs. (Edith Martha Bowerman)\",0,28.0,0,1,113505,55.0,1,2,0.0,0,young\\n168,0,3,\"Skoog, Mrs. William (Anna Bernhardina Karlsson)\",0,45.0,1,4,347088,27.9,1,6,0.0,0,adult\\n169,0,1,\"Baumann, Mr. John D\",1,28.0,0,0,PC 17318,25.925,1,1,1.0,1,young\\n170,0,3,\"Ling, Mr. Lee\",1,28.0,0,0,1601,56.4958,1,1,1.0,1,young\\n171,0,1,\"Van der hoef, Mr. Wyckoff\",1,61.0,0,0,111240,33.5,1,1,1.0,1,old\\n172,0,3,\"Rice, Master. Arthur\",1,4.0,4,1,382652,29.125,2,6,,0,child\\n173,1,3,\"Johnson, Miss. Eleanor Ileen\",0,1.0,1,1,347742,11.1333,1,3,2.0,0,child\\n174,0,3,\"Sivola, Mr. Antti Wilhelm\",1,21.0,0,0,STON/O 2. 3101280,7.925,1,1,1.0,1,young\\n175,0,1,\"Smith, Mr. James Clinch\",1,56.0,0,0,17764,30.6958,1,1,1.0,1,old\\n176,0,3,\"Klasen, Mr. Klas Albin\",1,18.0,1,1,350404,7.8542,1,3,1.0,0,teenager\\n177,0,3,\"Lefebre, Master. Henry Forbes\",1,28.0,3,1,4133,25.4667,1,5,,0,young\\n178,0,1,\"Isham, Miss. Ann Elizabeth\",0,50.0,0,0,PC 17595,28.7125,1,1,2.0,1,adult\\n179,0,2,\"Hale, Mr. Reginald\",1,30.0,0,0,250653,13.0,1,1,1.0,1,young\\n180,0,3,\"Leonard, Mr. Lionel\",1,36.0,0,0,LINE,0.0,1,1,1.0,1,adult\\n181,0,3,\"Sage, Miss. Constance Gladys\",0,28.0,8,2,CA. 2343,69.55,1,11,2.0,0,young\\n182,0,2,\"Pernot, Mr. Rene\",1,28.0,0,0,SC/PARIS 2131,15.05,1,1,1.0,1,young\\n183,0,3,\"Asplund, Master. Clarence Gustaf Hugo\",1,9.0,4,2,347077,31.3875,1,7,,0,child\\n184,1,2,\"Becker, Master. Richard F\",1,1.0,2,1,230136,39.0,1,4,,0,child\\n185,1,3,\"Kink-Heilmann, Miss. Luise Gretchen\",0,4.0,0,2,315153,22.025,1,3,2.0,0,child\\n186,0,1,\"Rood, Mr. Hugh Roscoe\",1,28.0,0,0,113767,50.0,1,1,1.0,1,young\\n187,1,3,\"O\\'Brien, Mrs. Thomas (Johanna \"\"Hannah\"\" Godfrey)\",0,28.0,1,0,370365,15.5,2,2,0.0,0,young\\n188,1,1,\"Romaine, Mr. Charles Hallace (\"\"Mr C Rolmane\"\")\",1,45.0,0,0,111428,26.55,1,1,1.0,1,adult\\n189,0,3,\"Bourke, Mr. John\",1,40.0,1,1,364849,15.5,2,3,1.0,0,adult\\n190,0,3,\"Turcin, Mr. Stjepan\",1,36.0,0,0,349247,7.8958,1,1,1.0,1,adult\\n191,1,2,\"Pinsky, Mrs. (Rosa)\",0,32.0,0,0,234604,13.0,1,1,0.0,1,adult\\n192,0,2,\"Carbines, Mr. William\",1,19.0,0,0,28424,13.0,1,1,1.0,1,young\\n193,1,3,\"Andersen-Jensen, Miss. Carla Christine Nielsine\",0,19.0,1,0,350046,7.8542,1,2,2.0,0,young\\n194,1,2,\"Navratil, Master. Michel M\",1,3.0,1,1,230080,26.0,1,3,,0,child\\n195,1,1,\"Brown, Mrs. James Joseph (Margaret Tobin)\",0,44.0,0,0,PC 17610,27.7208,1,1,0.0,1,adult\\n196,1,1,\"Lurette, Miss. Elise\",0,58.0,0,0,PC 17569,146.5208,1,1,2.0,1,old\\n197,0,3,\"Mernagh, Mr. Robert\",1,28.0,0,0,368703,7.75,2,1,1.0,1,young\\n198,0,3,\"Olsen, Mr. Karl Siegwart Andreas\",1,42.0,0,1,4579,8.4042,1,2,1.0,0,adult\\n199,1,3,\"Madigan, Miss. Margaret \"\"Maggie\"\"\",0,28.0,0,0,370370,7.75,2,1,2.0,1,young\\n200,0,2,\"Yrois, Miss. Henriette (\"\"Mrs Harbeck\"\")\",0,24.0,0,0,248747,13.0,1,1,2.0,1,young\\n201,0,3,\"Vande Walle, Mr. Nestor Cyriel\",1,28.0,0,0,345770,9.5,1,1,1.0,1,young\\n202,0,3,\"Sage, Mr. Frederick\",1,28.0,8,2,CA. 2343,69.55,1,11,1.0,0,young\\n203,0,3,\"Johanson, Mr. Jakob Alfred\",1,34.0,0,0,3101264,6.4958,1,1,1.0,1,adult\\n204,0,3,\"Youseff, Mr. Gerious\",1,45.5,0,0,2628,7.225,1,1,1.0,1,adult\\n205,1,3,\"Cohen, Mr. Gurshon \"\"Gus\"\"\",1,18.0,0,0,A/5 3540,8.05,1,1,1.0,1,teenager\\n206,0,3,\"Strom, Miss. Telma Matilda\",0,2.0,0,1,347054,10.4625,1,2,2.0,0,child\\n207,0,3,\"Backstrom, Mr. Karl Alfred\",1,32.0,1,0,3101278,15.85,1,2,1.0,0,adult\\n208,1,3,\"Albimona, Mr. Nassef Cassem\",1,26.0,0,0,2699,18.7875,1,1,1.0,1,young\\n209,1,3,\"Carr, Miss. Helen \"\"Ellen\"\"\",0,16.0,0,0,367231,7.75,2,1,2.0,1,teenager\\n210,1,1,\"Blank, Mr. Henry\",1,40.0,0,0,112277,31.0,1,1,1.0,1,adult\\n211,0,3,\"Ali, Mr. Ahmed\",1,24.0,0,0,SOTON/O.Q. 3101311,7.05,1,1,1.0,1,young\\n212,1,2,\"Cameron, Miss. Clear Annie\",0,35.0,0,0,F.C.C. 13528,21.0,1,1,2.0,1,adult\\n213,0,3,\"Perkin, Mr. John Henry\",1,22.0,0,0,A/5 21174,7.25,1,1,1.0,1,young\\n214,0,2,\"Givard, Mr. Hans Kristensen\",1,30.0,0,0,250646,13.0,1,1,1.0,1,young\\n215,0,3,\"Kiernan, Mr. Philip\",1,28.0,1,0,367229,7.75,2,2,1.0,0,young\\n216,1,1,\"Newell, Miss. Madeleine\",0,31.0,1,0,35273,113.275,1,2,2.0,0,adult\\n217,1,3,\"Honkanen, Miss. Eliina\",0,27.0,0,0,STON/O2. 3101283,7.925,1,1,2.0,1,young\\n218,0,2,\"Jacobsohn, Mr. Sidney Samuel\",1,42.0,1,0,243847,27.0,1,2,1.0,0,adult\\n219,1,1,\"Bazzani, Miss. Albina\",0,32.0,0,0,11813,76.2917,1,1,2.0,1,adult\\n220,0,2,\"Harris, Mr. Walter\",1,30.0,0,0,W/C 14208,10.5,1,1,1.0,1,young\\n221,1,3,\"Sunderland, Mr. Victor Francis\",1,16.0,0,0,SOTON/OQ 392089,8.05,1,1,1.0,1,teenager\\n222,0,2,\"Bracken, Mr. James H\",1,27.0,0,0,220367,13.0,1,1,1.0,1,young\\n223,0,3,\"Green, Mr. George Henry\",1,51.0,0,0,21440,8.05,1,1,1.0,1,old\\n224,0,3,\"Nenkoff, Mr. Christo\",1,28.0,0,0,349234,7.8958,1,1,1.0,1,young\\n225,1,1,\"Hoyt, Mr. Frederick Maxfield\",1,38.0,1,0,19943,90.0,1,2,1.0,0,adult\\n226,0,3,\"Berglund, Mr. Karl Ivar Sven\",1,22.0,0,0,PP 4348,9.35,1,1,1.0,1,young\\n227,1,2,\"Mellors, Mr. William John\",1,19.0,0,0,SW/PP 751,10.5,1,1,1.0,1,young\\n228,0,3,\"Lovell, Mr. John Hall (\"\"Henry\"\")\",1,20.5,0,0,A/5 21173,7.25,1,1,1.0,1,young\\n229,0,2,\"Fahlstrom, Mr. Arne Jonas\",1,18.0,0,0,236171,13.0,1,1,1.0,1,teenager\\n230,0,3,\"Lefebre, Miss. Mathilde\",0,28.0,3,1,4133,25.4667,1,5,2.0,0,young\\n231,1,1,\"Harris, Mrs. Henry Birkhardt (Irene Wallach)\",0,35.0,1,0,36973,83.475,1,2,0.0,0,adult\\n232,0,3,\"Larsson, Mr. Bengt Edvin\",1,29.0,0,0,347067,7.775,1,1,1.0,1,young\\n233,0,2,\"Sjostedt, Mr. Ernst Adolf\",1,59.0,0,0,237442,13.5,1,1,1.0,1,old\\n234,1,3,\"Asplund, Miss. Lillian Gertrud\",0,5.0,4,2,347077,31.3875,1,7,2.0,0,child\\n235,0,2,\"Leyson, Mr. Robert William Norman\",1,24.0,0,0,C.A. 29566,10.5,1,1,1.0,1,young\\n236,0,3,\"Harknett, Miss. Alice Phoebe\",0,28.0,0,0,W./C. 6609,7.55,1,1,2.0,1,young\\n237,0,2,\"Hold, Mr. Stephen\",1,44.0,1,0,26707,26.0,1,2,1.0,0,adult\\n238,1,2,\"Collyer, Miss. Marjorie \"\"Lottie\"\"\",0,8.0,0,2,C.A. 31921,26.25,1,3,2.0,0,child\\n239,0,2,\"Pengelly, Mr. Frederick William\",1,19.0,0,0,28665,10.5,1,1,1.0,1,young\\n240,0,2,\"Hunt, Mr. George Henry\",1,33.0,0,0,SCO/W 1585,12.275,1,1,1.0,1,adult\\n241,0,3,\"Zabour, Miss. Thamine\",0,28.0,1,0,2665,14.4542,1,2,2.0,0,young\\n242,1,3,\"Murphy, Miss. Katherine \"\"Kate\"\"\",0,28.0,1,0,367230,15.5,2,2,2.0,0,young\\n243,0,2,\"Coleridge, Mr. Reginald Charles\",1,29.0,0,0,W./C. 14263,10.5,1,1,1.0,1,young\\n244,0,3,\"Maenpaa, Mr. Matti Alexanteri\",1,22.0,0,0,STON/O 2. 3101275,7.125,1,1,1.0,1,young\\n245,0,3,\"Attalah, Mr. Sleiman\",1,30.0,0,0,2694,7.225,1,1,1.0,1,young\\n246,0,1,\"Minahan, Dr. William Edward\",1,44.0,2,0,19928,90.0,2,3,,0,adult\\n247,0,3,\"Lindahl, Miss. Agda Thorilda Viktoria\",0,25.0,0,0,347071,7.775,1,1,2.0,1,young\\n248,1,2,\"Hamalainen, Mrs. William (Anna)\",0,24.0,0,2,250649,14.5,1,3,0.0,0,young\\n249,1,1,\"Beckwith, Mr. Richard Leonard\",1,37.0,1,1,11751,52.5542,1,3,1.0,0,adult\\n250,0,2,\"Carter, Rev. Ernest Courtenay\",1,54.0,1,0,244252,26.0,1,2,,0,old\\n251,0,3,\"Reed, Mr. James George\",1,28.0,0,0,362316,7.25,1,1,1.0,1,young\\n252,0,3,\"Strom, Mrs. Wilhelm (Elna Matilda Persson)\",0,29.0,1,1,347054,10.4625,1,3,0.0,0,young\\n253,0,1,\"Stead, Mr. William Thomas\",1,62.0,0,0,113514,26.55,1,1,1.0,1,old\\n254,0,3,\"Lobb, Mr. William Arthur\",1,30.0,1,0,A/5. 3336,16.1,1,2,1.0,0,young\\n255,0,3,\"Rosblom, Mrs. Viktor (Helena Wilhelmina)\",0,41.0,0,2,370129,20.2125,1,3,0.0,0,adult\\n256,1,3,\"Touma, Mrs. Darwis (Hanne Youssef Razi)\",0,29.0,0,2,2650,15.2458,1,3,0.0,0,young\\n257,1,1,\"Thorne, Mrs. Gertrude Maybelle\",0,28.0,0,0,PC 17585,79.2,1,1,0.0,1,young\\n258,1,1,\"Cherry, Miss. Gladys\",0,30.0,0,0,110152,86.5,1,1,2.0,1,young\\n259,1,1,\"Ward, Miss. Anna\",0,35.0,0,0,PC 17755,512.3292,1,1,2.0,1,adult\\n260,1,2,\"Parrish, Mrs. (Lutie Davis)\",0,50.0,0,1,230433,26.0,1,2,0.0,0,adult\\n261,0,3,\"Smith, Mr. Thomas\",1,28.0,0,0,384461,7.75,2,1,1.0,1,young\\n262,1,3,\"Asplund, Master. Edvin Rojj Felix\",1,3.0,4,2,347077,31.3875,1,7,,0,child\\n263,0,1,\"Taussig, Mr. Emil\",1,52.0,1,1,110413,79.65,1,3,1.0,0,old\\n264,0,1,\"Harrison, Mr. William\",1,40.0,0,0,112059,0.0,1,1,1.0,1,adult\\n265,0,3,\"Henry, Miss. Delia\",0,28.0,0,0,382649,7.75,2,1,2.0,1,young\\n266,0,2,\"Reeves, Mr. David\",1,36.0,0,0,C.A. 17248,10.5,1,1,1.0,1,adult\\n267,0,3,\"Panula, Mr. Ernesti Arvid\",1,16.0,4,1,3101295,39.6875,1,6,1.0,0,teenager\\n268,1,3,\"Persson, Mr. Ernst Ulrik\",1,25.0,1,0,347083,7.775,1,2,1.0,0,young\\n269,1,1,\"Graham, Mrs. William Thompson (Edith Junkins)\",0,58.0,0,1,PC 17582,153.4625,1,2,0.0,0,old\\n270,1,1,\"Bissette, Miss. Amelia\",0,35.0,0,0,PC 17760,135.6333,1,1,2.0,1,adult\\n271,0,1,\"Cairns, Mr. Alexander\",1,28.0,0,0,113798,31.0,1,1,1.0,1,young\\n272,1,3,\"Tornquist, Mr. William Henry\",1,25.0,0,0,LINE,0.0,1,1,1.0,1,young\\n273,1,2,\"Mellinger, Mrs. (Elizabeth Anne Maidment)\",0,41.0,0,1,250644,19.5,1,2,0.0,0,adult\\n274,0,1,\"Natsch, Mr. Charles H\",1,37.0,0,1,PC 17596,29.7,1,2,1.0,0,adult\\n275,1,3,\"Healy, Miss. Hanora \"\"Nora\"\"\",0,28.0,0,0,370375,7.75,2,1,2.0,1,young\\n276,1,1,\"Andrews, Miss. Kornelia Theodosia\",0,63.0,1,0,13502,77.9583,1,2,2.0,0,old\\n277,0,3,\"Lindblom, Miss. Augusta Charlotta\",0,45.0,0,0,347073,7.75,1,1,2.0,1,adult\\n278,0,2,\"Parkes, Mr. Francis \"\"Frank\"\"\",1,28.0,0,0,239853,0.0,1,1,1.0,1,young\\n279,0,3,\"Rice, Master. Eric\",1,7.0,4,1,382652,29.125,2,6,,0,child\\n280,1,3,\"Abbott, Mrs. Stanton (Rosa Hunt)\",0,35.0,1,1,C.A. 2673,20.25,1,3,0.0,0,adult\\n281,0,3,\"Duane, Mr. Frank\",1,65.0,0,0,336439,7.75,2,1,1.0,1,old\\n282,0,3,\"Olsson, Mr. Nils Johan Goransson\",1,28.0,0,0,347464,7.8542,1,1,1.0,1,young\\n283,0,3,\"de Pelsmaeker, Mr. Alfons\",1,16.0,0,0,345778,9.5,1,1,1.0,1,teenager\\n284,1,3,\"Dorking, Mr. Edward Arthur\",1,19.0,0,0,A/5. 10482,8.05,1,1,1.0,1,young\\n285,0,1,\"Smith, Mr. Richard William\",1,28.0,0,0,113056,26.0,1,1,1.0,1,young\\n286,0,3,\"Stankovic, Mr. Ivan\",1,33.0,0,0,349239,8.6625,1,1,1.0,1,adult\\n287,1,3,\"de Mulder, Mr. Theodore\",1,30.0,0,0,345774,9.5,1,1,1.0,1,young\\n288,0,3,\"Naidenoff, Mr. Penko\",1,22.0,0,0,349206,7.8958,1,1,1.0,1,young\\n289,1,2,\"Hosono, Mr. Masabumi\",1,42.0,0,0,237798,13.0,1,1,1.0,1,adult\\n290,1,3,\"Connolly, Miss. Kate\",0,22.0,0,0,370373,7.75,2,1,2.0,1,young\\n291,1,1,\"Barber, Miss. Ellen \"\"Nellie\"\"\",0,26.0,0,0,19877,78.85,1,1,2.0,1,young\\n292,1,1,\"Bishop, Mrs. Dickinson H (Helen Walton)\",0,19.0,1,0,11967,91.0792,1,2,0.0,0,young\\n293,0,2,\"Levy, Mr. Rene Jacques\",1,36.0,0,0,SC/Paris 2163,12.875,1,1,1.0,1,adult\\n294,0,3,\"Haas, Miss. Aloisia\",0,24.0,0,0,349236,8.85,1,1,2.0,1,young\\n295,0,3,\"Mineff, Mr. Ivan\",1,24.0,0,0,349233,7.8958,1,1,1.0,1,young\\n296,0,1,\"Lewy, Mr. Ervin G\",1,28.0,0,0,PC 17612,27.7208,1,1,1.0,1,young\\n297,0,3,\"Hanna, Mr. Mansour\",1,23.5,0,0,2693,7.2292,1,1,1.0,1,young\\n298,0,1,\"Allison, Miss. Helen Loraine\",0,2.0,1,2,113781,151.55,1,4,2.0,0,child\\n299,1,1,\"Saalfeld, Mr. Adolphe\",1,28.0,0,0,19988,30.5,1,1,1.0,1,young\\n300,1,1,\"Baxter, Mrs. James (Helene DeLaudeniere Chaput)\",0,50.0,0,1,PC 17558,247.5208,1,2,0.0,0,adult\\n301,1,3,\"Kelly, Miss. Anna Katherine \"\"Annie Kate\"\"\",0,28.0,0,0,9234,7.75,2,1,2.0,1,young\\n302,1,3,\"McCoy, Mr. Bernard\",1,28.0,2,0,367226,23.25,2,3,1.0,0,young\\n303,0,3,\"Johnson, Mr. William Cahoone Jr\",1,19.0,0,0,LINE,0.0,1,1,1.0,1,young\\n304,1,2,\"Keane, Miss. Nora A\",0,28.0,0,0,226593,12.35,2,1,2.0,1,young\\n305,0,3,\"Williams, Mr. Howard Hugh \"\"Harry\"\"\",1,28.0,0,0,A/5 2466,8.05,1,1,1.0,1,young\\n306,1,1,\"Allison, Master. Hudson Trevor\",1,0.92,1,2,113781,151.55,1,4,,0,child\\n307,1,1,\"Fleming, Miss. Margaret\",0,28.0,0,0,17421,110.8833,1,1,2.0,1,young\\n308,1,1,\"Penasco y Castellana, Mrs. Victor de Satode (Maria Josefa Perez de Soto y Vallejo)\",0,17.0,1,0,PC 17758,108.9,1,2,0.0,0,teenager\\n309,0,2,\"Abelson, Mr. Samuel\",1,30.0,1,0,P/PP 3381,24.0,1,2,1.0,0,young\\n310,1,1,\"Francatelli, Miss. Laura Mabel\",0,30.0,0,0,PC 17485,56.9292,1,1,2.0,1,young\\n311,1,1,\"Hays, Miss. Margaret Bechstein\",0,24.0,0,0,11767,83.1583,1,1,2.0,1,young\\n312,1,1,\"Ryerson, Miss. Emily Borie\",0,18.0,2,2,PC 17608,262.375,1,5,2.0,0,teenager\\n313,0,2,\"Lahtinen, Mrs. William (Anna Sylfven)\",0,26.0,1,1,250651,26.0,1,3,0.0,0,young\\n314,0,3,\"Hendekovic, Mr. Ignjac\",1,28.0,0,0,349243,7.8958,1,1,1.0,1,young\\n315,0,2,\"Hart, Mr. Benjamin\",1,43.0,1,1,F.C.C. 13529,26.25,1,3,1.0,0,adult\\n316,1,3,\"Nilsson, Miss. Helmina Josefina\",0,26.0,0,0,347470,7.8542,1,1,2.0,1,young\\n317,1,2,\"Kantor, Mrs. Sinai (Miriam Sternin)\",0,24.0,1,0,244367,26.0,1,2,0.0,0,young\\n318,0,2,\"Moraweck, Dr. Ernest\",1,54.0,0,0,29011,14.0,1,1,,1,old\\n319,1,1,\"Wick, Miss. Mary Natalie\",0,31.0,0,2,36928,164.8667,1,3,2.0,0,adult\\n320,1,1,\"Spedden, Mrs. Frederic Oakley (Margaretta Corning Stone)\",0,40.0,1,1,16966,134.5,1,3,0.0,0,adult\\n321,0,3,\"Dennis, Mr. Samuel\",1,22.0,0,0,A/5 21172,7.25,1,1,1.0,1,young\\n322,0,3,\"Danoff, Mr. Yoto\",1,27.0,0,0,349219,7.8958,1,1,1.0,1,young\\n323,1,2,\"Slayter, Miss. Hilda Mary\",0,30.0,0,0,234818,12.35,2,1,2.0,1,young\\n324,1,2,\"Caldwell, Mrs. Albert Francis (Sylvia Mae Harbaugh)\",0,22.0,1,1,248738,29.0,1,3,0.0,0,young\\n325,0,3,\"Sage, Mr. George John Jr\",1,28.0,8,2,CA. 2343,69.55,1,11,1.0,0,young\\n326,1,1,\"Young, Miss. Marie Grice\",0,36.0,0,0,PC 17760,135.6333,1,1,2.0,1,adult\\n327,0,3,\"Nysveen, Mr. Johan Hansen\",1,61.0,0,0,345364,6.2375,1,1,1.0,1,old\\n328,1,2,\"Ball, Mrs. (Ada E Hall)\",0,36.0,0,0,28551,13.0,1,1,0.0,1,adult\\n329,1,3,\"Goldsmith, Mrs. Frank John (Emily Alice Brown)\",0,31.0,1,1,363291,20.525,1,3,0.0,0,adult\\n330,1,1,\"Hippach, Miss. Jean Gertrude\",0,16.0,0,1,111361,57.9792,1,2,2.0,0,teenager\\n331,1,3,\"McCoy, Miss. Agnes\",0,28.0,2,0,367226,23.25,2,3,2.0,0,young\\n332,0,1,\"Partner, Mr. Austen\",1,45.5,0,0,113043,28.5,1,1,1.0,1,adult\\n333,0,1,\"Graham, Mr. George Edward\",1,38.0,0,1,PC 17582,153.4625,1,2,1.0,0,adult\\n334,0,3,\"Vander Planke, Mr. Leo Edmondus\",1,16.0,2,0,345764,18.0,1,3,1.0,0,teenager\\n335,1,1,\"Frauenthal, Mrs. Henry William (Clara Heinsheimer)\",0,28.0,1,0,PC 17611,133.65,1,2,0.0,0,young\\n336,0,3,\"Denkoff, Mr. Mitto\",1,28.0,0,0,349225,7.8958,1,1,1.0,1,young\\n337,0,1,\"Pears, Mr. Thomas Clinton\",1,29.0,1,0,113776,66.6,1,2,1.0,0,young\\n338,1,1,\"Burns, Miss. Elizabeth Margaret\",0,41.0,0,0,16966,134.5,1,1,2.0,1,adult\\n339,1,3,\"Dahl, Mr. Karl Edwart\",1,45.0,0,0,7598,8.05,1,1,1.0,1,adult\\n340,0,1,\"Blackwell, Mr. Stephen Weart\",1,45.0,0,0,113784,35.5,1,1,1.0,1,adult\\n341,1,2,\"Navratil, Master. Edmond Roger\",1,2.0,1,1,230080,26.0,1,3,,0,child\\n342,1,1,\"Fortune, Miss. Alice Elizabeth\",0,24.0,3,2,19950,263.0,1,6,2.0,0,young\\n343,0,2,\"Collander, Mr. Erik Gustaf\",1,28.0,0,0,248740,13.0,1,1,1.0,1,young\\n344,0,2,\"Sedgwick, Mr. Charles Frederick Waddington\",1,25.0,0,0,244361,13.0,1,1,1.0,1,young\\n345,0,2,\"Fox, Mr. Stanley Hubert\",1,36.0,0,0,229236,13.0,1,1,1.0,1,adult\\n346,1,2,\"Brown, Miss. Amelia \"\"Mildred\"\"\",0,24.0,0,0,248733,13.0,1,1,2.0,1,young\\n347,1,2,\"Smith, Miss. Marion Elsie\",0,40.0,0,0,31418,13.0,1,1,2.0,1,adult\\n348,1,3,\"Davison, Mrs. Thomas Henry (Mary E Finck)\",0,28.0,1,0,386525,16.1,1,2,0.0,0,young\\n349,1,3,\"Coutts, Master. William Loch \"\"William\"\"\",1,3.0,1,1,C.A. 37671,15.9,1,3,,0,child\\n350,0,3,\"Dimic, Mr. Jovan\",1,42.0,0,0,315088,8.6625,1,1,1.0,1,adult\\n351,0,3,\"Odahl, Mr. Nils Martin\",1,23.0,0,0,7267,9.225,1,1,1.0,1,young\\n352,0,1,\"Williams-Lambert, Mr. Fletcher Fellows\",1,28.0,0,0,113510,35.0,1,1,1.0,1,young\\n353,0,3,\"Elias, Mr. Tannous\",1,15.0,1,1,2695,7.2292,1,3,1.0,0,teenager\\n354,0,3,\"Arnold-Franchi, Mr. Josef\",1,25.0,1,0,349237,17.8,1,2,1.0,0,young\\n355,0,3,\"Yousif, Mr. Wazli\",1,28.0,0,0,2647,7.225,1,1,1.0,1,young\\n356,0,3,\"Vanden Steen, Mr. Leo Peter\",1,28.0,0,0,345783,9.5,1,1,1.0,1,young\\n357,1,1,\"Bowerman, Miss. Elsie Edith\",0,22.0,0,1,113505,55.0,1,2,2.0,0,young\\n358,0,2,\"Funk, Miss. Annie Clemmer\",0,38.0,0,0,237671,13.0,1,1,2.0,1,adult\\n359,1,3,\"McGovern, Miss. Mary\",0,28.0,0,0,330931,7.8792,2,1,2.0,1,young\\n360,1,3,\"Mockler, Miss. Helen Mary \"\"Ellie\"\"\",0,28.0,0,0,330980,7.8792,2,1,2.0,1,young\\n361,0,3,\"Skoog, Mr. Wilhelm\",1,40.0,1,4,347088,27.9,1,6,1.0,0,adult\\n362,0,2,\"del Carlo, Mr. Sebastiano\",1,29.0,1,0,SC/PARIS 2167,27.7208,1,2,1.0,0,young\\n363,0,3,\"Barbara, Mrs. (Catherine David)\",0,45.0,0,1,2691,14.4542,1,2,0.0,0,adult\\n364,0,3,\"Asim, Mr. Adola\",1,35.0,0,0,SOTON/O.Q. 3101310,7.05,1,1,1.0,1,adult\\n365,0,3,\"O\\'Brien, Mr. Thomas\",1,28.0,1,0,370365,15.5,2,2,1.0,0,young\\n366,0,3,\"Adahl, Mr. Mauritz Nils Martin\",1,30.0,0,0,C 7076,7.25,1,1,1.0,1,young\\n367,1,1,\"Warren, Mrs. Frank Manley (Anna Sophia Atkinson)\",0,60.0,1,0,110813,75.25,1,2,0.0,0,old\\n368,1,3,\"Moussa, Mrs. (Mantoura Boulos)\",0,28.0,0,0,2626,7.2292,1,1,0.0,1,young\\n369,1,3,\"Jermyn, Miss. Annie\",0,28.0,0,0,14313,7.75,2,1,2.0,1,young\\n370,1,1,\"Aubart, Mme. Leontine Pauline\",0,24.0,0,0,PC 17477,69.3,1,1,,1,young\\n371,1,1,\"Harder, Mr. George Achilles\",1,25.0,1,0,11765,55.4417,1,2,1.0,0,young\\n372,0,3,\"Wiklund, Mr. Jakob Alfred\",1,18.0,1,0,3101267,6.4958,1,2,1.0,0,teenager\\n373,0,3,\"Beavan, Mr. William Thomas\",1,19.0,0,0,323951,8.05,1,1,1.0,1,young\\n374,0,1,\"Ringhini, Mr. Sante\",1,22.0,0,0,PC 17760,135.6333,1,1,1.0,1,young\\n375,0,3,\"Palsson, Miss. Stina Viola\",0,3.0,3,1,349909,21.075,1,5,2.0,0,child\\n376,1,1,\"Meyer, Mrs. Edgar Joseph (Leila Saks)\",0,28.0,1,0,PC 17604,82.1708,1,2,0.0,0,young\\n377,1,3,\"Landergren, Miss. Aurora Adelia\",0,22.0,0,0,C 7077,7.25,1,1,2.0,1,young\\n378,0,1,\"Widener, Mr. Harry Elkins\",1,27.0,0,2,113503,211.5,1,3,1.0,0,young\\n379,0,3,\"Betros, Mr. Tannous\",1,20.0,0,0,2648,4.0125,1,1,1.0,1,young\\n380,0,3,\"Gustafsson, Mr. Karl Gideon\",1,19.0,0,0,347069,7.775,1,1,1.0,1,young\\n381,1,1,\"Bidois, Miss. Rosalie\",0,42.0,0,0,PC 17757,227.525,1,1,2.0,1,adult\\n382,1,3,\"Nakid, Miss. Maria (\"\"Mary\"\")\",0,1.0,0,2,2653,15.7417,1,3,2.0,0,child\\n383,0,3,\"Tikkanen, Mr. Juho\",1,32.0,0,0,STON/O 2. 3101293,7.925,1,1,1.0,1,adult\\n384,1,1,\"Holverson, Mrs. Alexander Oskar (Mary Aline Towner)\",0,35.0,1,0,113789,52.0,1,2,0.0,0,adult\\n385,0,3,\"Plotcharsky, Mr. Vasil\",1,28.0,0,0,349227,7.8958,1,1,1.0,1,young\\n386,0,2,\"Davies, Mr. Charles Henry\",1,18.0,0,0,S.O.C. 14879,73.5,1,1,1.0,1,teenager\\n387,0,3,\"Goodwin, Master. Sidney Leonard\",1,1.0,5,2,CA 2144,46.9,1,8,,0,child\\n388,1,2,\"Buss, Miss. Kate\",0,36.0,0,0,27849,13.0,1,1,2.0,1,adult\\n389,0,3,\"Sadlier, Mr. Matthew\",1,28.0,0,0,367655,7.7292,2,1,1.0,1,young\\n390,1,2,\"Lehmann, Miss. Bertha\",0,17.0,0,0,SC 1748,12.0,1,1,2.0,1,teenager\\n391,1,1,\"Carter, Mr. William Ernest\",1,36.0,1,2,113760,120.0,1,4,1.0,0,adult\\n392,1,3,\"Jansson, Mr. Carl Olof\",1,21.0,0,0,350034,7.7958,1,1,1.0,1,young\\n393,0,3,\"Gustafsson, Mr. Johan Birger\",1,28.0,2,0,3101277,7.925,1,3,1.0,0,young\\n394,1,1,\"Newell, Miss. Marjorie\",0,23.0,1,0,35273,113.275,1,2,2.0,0,young\\n395,1,3,\"Sandstrom, Mrs. Hjalmar (Agnes Charlotta Bengtsson)\",0,24.0,0,2,PP 9549,16.7,1,3,0.0,0,young\\n396,0,3,\"Johansson, Mr. Erik\",1,22.0,0,0,350052,7.7958,1,1,1.0,1,young\\n397,0,3,\"Olsson, Miss. Elina\",0,31.0,0,0,350407,7.8542,1,1,2.0,1,adult\\n398,0,2,\"McKane, Mr. Peter David\",1,46.0,0,0,28403,26.0,1,1,1.0,1,adult\\n399,0,2,\"Pain, Dr. Alfred\",1,23.0,0,0,244278,10.5,1,1,,1,young\\n400,1,2,\"Trout, Mrs. William H (Jessie L)\",0,28.0,0,0,240929,12.65,1,1,0.0,1,young\\n401,1,3,\"Niskanen, Mr. Juha\",1,39.0,0,0,STON/O 2. 3101289,7.925,1,1,1.0,1,adult\\n402,0,3,\"Adams, Mr. John\",1,26.0,0,0,341826,8.05,1,1,1.0,1,young\\n403,0,3,\"Jussila, Miss. Mari Aina\",0,21.0,1,0,4137,9.825,1,2,2.0,0,young\\n404,0,3,\"Hakkarainen, Mr. Pekka Pietari\",1,28.0,1,0,STON/O2. 3101279,15.85,1,2,1.0,0,young\\n405,0,3,\"Oreskovic, Miss. Marija\",0,20.0,0,0,315096,8.6625,1,1,2.0,1,young\\n406,0,2,\"Gale, Mr. Shadrach\",1,34.0,1,0,28664,21.0,1,2,1.0,0,adult\\n407,0,3,\"Widegren, Mr. Carl/Charles Peter\",1,51.0,0,0,347064,7.75,1,1,1.0,1,old\\n408,1,2,\"Richards, Master. William Rowe\",1,3.0,1,1,29106,18.75,1,3,,0,child\\n409,0,3,\"Birkeland, Mr. Hans Martin Monsen\",1,21.0,0,0,312992,7.775,1,1,1.0,1,young\\n410,0,3,\"Lefebre, Miss. Ida\",0,28.0,3,1,4133,25.4667,1,5,2.0,0,young\\n411,0,3,\"Sdycoff, Mr. Todor\",1,28.0,0,0,349222,7.8958,1,1,1.0,1,young\\n412,0,3,\"Hart, Mr. Henry\",1,28.0,0,0,394140,6.8583,2,1,1.0,1,young\\n413,1,1,\"Minahan, Miss. Daisy E\",0,33.0,1,0,19928,90.0,2,2,2.0,0,adult\\n414,0,2,\"Cunningham, Mr. Alfred Fleming\",1,28.0,0,0,239853,0.0,1,1,1.0,1,young\\n415,1,3,\"Sundman, Mr. Johan Julian\",1,44.0,0,0,STON/O 2. 3101269,7.925,1,1,1.0,1,adult\\n416,0,3,\"Meek, Mrs. Thomas (Annie Louise Rowley)\",0,28.0,0,0,343095,8.05,1,1,0.0,1,young\\n417,1,2,\"Drew, Mrs. James Vivian (Lulu Thorne Christian)\",0,34.0,1,1,28220,32.5,1,3,0.0,0,adult\\n418,1,2,\"Silven, Miss. Lyyli Karoliina\",0,18.0,0,2,250652,13.0,1,3,2.0,0,teenager\\n419,0,2,\"Matthews, Mr. William John\",1,30.0,0,0,28228,13.0,1,1,1.0,1,young\\n420,0,3,\"Van Impe, Miss. Catharina\",0,10.0,0,2,345773,24.15,1,3,2.0,0,child\\n421,0,3,\"Gheorgheff, Mr. Stanio\",1,28.0,0,0,349254,7.8958,1,1,1.0,1,young\\n422,0,3,\"Charters, Mr. David\",1,21.0,0,0,A/5. 13032,7.7333,2,1,1.0,1,young\\n423,0,3,\"Zimmerman, Mr. Leo\",1,29.0,0,0,315082,7.875,1,1,1.0,1,young\\n424,0,3,\"Danbom, Mrs. Ernst Gilbert (Anna Sigrid Maria Brogren)\",0,28.0,1,1,347080,14.4,1,3,0.0,0,young\\n425,0,3,\"Rosblom, Mr. Viktor Richard\",1,18.0,1,1,370129,20.2125,1,3,1.0,0,teenager\\n426,0,3,\"Wiseman, Mr. Phillippe\",1,28.0,0,0,A/4. 34244,7.25,1,1,1.0,1,young\\n427,1,2,\"Clarke, Mrs. Charles V (Ada Maria Winfield)\",0,28.0,1,0,2003,26.0,1,2,0.0,0,young\\n428,1,2,\"Phillips, Miss. Kate Florence (\"\"Mrs Kate Louise Phillips Marshall\"\")\",0,19.0,0,0,250655,26.0,1,1,2.0,1,young\\n429,0,3,\"Flynn, Mr. James\",1,28.0,0,0,364851,7.75,2,1,1.0,1,young\\n430,1,3,\"Pickard, Mr. Berk (Berk Trembisky)\",1,32.0,0,0,SOTON/O.Q. 392078,8.05,1,1,1.0,1,adult\\n431,1,1,\"Bjornstrom-Steffansson, Mr. Mauritz Hakan\",1,28.0,0,0,110564,26.55,1,1,1.0,1,young\\n432,1,3,\"Thorneycroft, Mrs. Percival (Florence Kate White)\",0,28.0,1,0,376564,16.1,1,2,0.0,0,young\\n433,1,2,\"Louch, Mrs. Charles Alexander (Alice Adelaide Slow)\",0,42.0,1,0,SC/AH 3085,26.0,1,2,0.0,0,adult\\n434,0,3,\"Kallio, Mr. Nikolai Erland\",1,17.0,0,0,STON/O 2. 3101274,7.125,1,1,1.0,1,teenager\\n435,0,1,\"Silvey, Mr. William Baird\",1,50.0,1,0,13507,55.9,1,2,1.0,0,adult\\n436,1,1,\"Carter, Miss. Lucile Polk\",0,14.0,1,2,113760,120.0,1,4,2.0,0,teenager\\n437,0,3,\"Ford, Miss. Doolina Margaret \"\"Daisy\"\"\",0,21.0,2,2,W./C. 6608,34.375,1,5,2.0,0,young\\n438,1,2,\"Richards, Mrs. Sidney (Emily Hocking)\",0,24.0,2,3,29106,18.75,1,6,0.0,0,young\\n439,0,1,\"Fortune, Mr. Mark\",1,64.0,1,4,19950,263.0,1,6,1.0,0,old\\n440,0,2,\"Kvillner, Mr. Johan Henrik Johannesson\",1,31.0,0,0,C.A. 18723,10.5,1,1,1.0,1,adult\\n441,1,2,\"Hart, Mrs. Benjamin (Esther Ada Bloomfield)\",0,45.0,1,1,F.C.C. 13529,26.25,1,3,0.0,0,adult\\n442,0,3,\"Hampe, Mr. Leon\",1,20.0,0,0,345769,9.5,1,1,1.0,1,young\\n443,0,3,\"Petterson, Mr. Johan Emil\",1,25.0,1,0,347076,7.775,1,2,1.0,0,young\\n444,1,2,\"Reynaldo, Ms. Encarnacion\",0,28.0,0,0,230434,13.0,1,1,,1,young\\n445,1,3,\"Johannesen-Bratthammer, Mr. Bernt\",1,28.0,0,0,65306,8.1125,1,1,1.0,1,young\\n446,1,1,\"Dodge, Master. Washington\",1,4.0,0,2,33638,81.8583,1,3,,0,child\\n447,1,2,\"Mellinger, Miss. Madeleine Violet\",0,13.0,0,1,250644,19.5,1,2,2.0,0,teenager\\n448,1,1,\"Seward, Mr. Frederic Kimber\",1,34.0,0,0,113794,26.55,1,1,1.0,1,adult\\n449,1,3,\"Baclini, Miss. Marie Catherine\",0,5.0,2,1,2666,19.2583,1,4,2.0,0,child\\n450,1,1,\"Peuchen, Major. Arthur Godfrey\",1,52.0,0,0,113786,30.5,1,1,,1,old\\n451,0,2,\"West, Mr. Edwy Arthur\",1,36.0,1,2,C.A. 34651,27.75,1,4,1.0,0,adult\\n452,0,3,\"Hagland, Mr. Ingvald Olai Olsen\",1,28.0,1,0,65303,19.9667,1,2,1.0,0,young\\n453,0,1,\"Foreman, Mr. Benjamin Laventall\",1,30.0,0,0,113051,27.75,1,1,1.0,1,young\\n454,1,1,\"Goldenberg, Mr. Samuel L\",1,49.0,1,0,17453,89.1042,1,2,1.0,0,adult\\n455,0,3,\"Peduzzi, Mr. Joseph\",1,28.0,0,0,A/5 2817,8.05,1,1,1.0,1,young\\n456,1,3,\"Jalsevac, Mr. Ivan\",1,29.0,0,0,349240,7.8958,1,1,1.0,1,young\\n457,0,1,\"Millet, Mr. Francis Davis\",1,65.0,0,0,13509,26.55,1,1,1.0,1,old\\n458,1,1,\"Kenyon, Mrs. Frederick R (Marion)\",0,28.0,1,0,17464,51.8625,1,2,0.0,0,young\\n459,1,2,\"Toomey, Miss. Ellen\",0,50.0,0,0,F.C.C. 13531,10.5,1,1,2.0,1,adult\\n460,0,3,\"O\\'Connor, Mr. Maurice\",1,28.0,0,0,371060,7.75,2,1,1.0,1,young\\n461,1,1,\"Anderson, Mr. Harry\",1,48.0,0,0,19952,26.55,1,1,1.0,1,adult\\n462,0,3,\"Morley, Mr. William\",1,34.0,0,0,364506,8.05,1,1,1.0,1,adult\\n463,0,1,\"Gee, Mr. Arthur H\",1,47.0,0,0,111320,38.5,1,1,1.0,1,adult\\n464,0,2,\"Milling, Mr. Jacob Christian\",1,48.0,0,0,234360,13.0,1,1,1.0,1,adult\\n465,0,3,\"Maisner, Mr. Simon\",1,28.0,0,0,A/S 2816,8.05,1,1,1.0,1,young\\n466,0,3,\"Goncalves, Mr. Manuel Estanslas\",1,38.0,0,0,SOTON/O.Q. 3101306,7.05,1,1,1.0,1,adult\\n467,0,2,\"Campbell, Mr. William\",1,28.0,0,0,239853,0.0,1,1,1.0,1,young\\n468,0,1,\"Smart, Mr. John Montgomery\",1,56.0,0,0,113792,26.55,1,1,1.0,1,old\\n469,0,3,\"Scanlan, Mr. James\",1,28.0,0,0,36209,7.725,2,1,1.0,1,young\\n470,1,3,\"Baclini, Miss. Helene Barbara\",0,0.75,2,1,2666,19.2583,1,4,2.0,0,child\\n471,0,3,\"Keefe, Mr. Arthur\",1,28.0,0,0,323592,7.25,1,1,1.0,1,young\\n472,0,3,\"Cacic, Mr. Luka\",1,38.0,0,0,315089,8.6625,1,1,1.0,1,adult\\n473,1,2,\"West, Mrs. Edwy Arthur (Ada Mary Worth)\",0,33.0,1,2,C.A. 34651,27.75,1,4,0.0,0,adult\\n474,1,2,\"Jerwan, Mrs. Amin S (Marie Marthe Thuillard)\",0,23.0,0,0,SC/AH Basle 541,13.7917,1,1,0.0,1,young\\n475,0,3,\"Strandberg, Miss. Ida Sofia\",0,22.0,0,0,7553,9.8375,1,1,2.0,1,young\\n476,0,1,\"Clifford, Mr. George Quincy\",1,28.0,0,0,110465,52.0,1,1,1.0,1,young\\n477,0,2,\"Renouf, Mr. Peter Henry\",1,34.0,1,0,31027,21.0,1,2,1.0,0,adult\\n478,0,3,\"Braund, Mr. Lewis Richard\",1,29.0,1,0,3460,7.0458,1,2,1.0,0,young\\n479,0,3,\"Karlsson, Mr. Nils August\",1,22.0,0,0,350060,7.5208,1,1,1.0,1,young\\n480,1,3,\"Hirvonen, Miss. Hildur E\",0,2.0,0,1,3101298,12.2875,1,2,2.0,0,child\\n481,0,3,\"Goodwin, Master. Harold Victor\",1,9.0,5,2,CA 2144,46.9,1,8,,0,child\\n482,0,2,\"Frost, Mr. Anthony Wood \"\"Archie\"\"\",1,28.0,0,0,239854,0.0,1,1,1.0,1,young\\n483,0,3,\"Rouse, Mr. Richard Henry\",1,50.0,0,0,A/5 3594,8.05,1,1,1.0,1,adult\\n484,1,3,\"Turkula, Mrs. (Hedwig)\",0,63.0,0,0,4134,9.5875,1,1,0.0,1,old\\n485,1,1,\"Bishop, Mr. Dickinson H\",1,25.0,1,0,11967,91.0792,1,2,1.0,0,young\\n486,0,3,\"Lefebre, Miss. Jeannie\",0,28.0,3,1,4133,25.4667,1,5,2.0,0,young\\n487,1,1,\"Hoyt, Mrs. Frederick Maxfield (Jane Anne Forby)\",0,35.0,1,0,19943,90.0,1,2,0.0,0,adult\\n488,0,1,\"Kent, Mr. Edward Austin\",1,58.0,0,0,11771,29.7,1,1,1.0,1,old\\n489,0,3,\"Somerton, Mr. Francis William\",1,30.0,0,0,A.5. 18509,8.05,1,1,1.0,1,young\\n490,1,3,\"Coutts, Master. Eden Leslie \"\"Neville\"\"\",1,9.0,1,1,C.A. 37671,15.9,1,3,,0,child\\n491,0,3,\"Hagland, Mr. Konrad Mathias Reiersen\",1,28.0,1,0,65304,19.9667,1,2,1.0,0,young\\n492,0,3,\"Windelov, Mr. Einar\",1,21.0,0,0,SOTON/OQ 3101317,7.25,1,1,1.0,1,young\\n493,0,1,\"Molson, Mr. Harry Markland\",1,55.0,0,0,113787,30.5,1,1,1.0,1,old\\n494,0,1,\"Artagaveytia, Mr. Ramon\",1,71.0,0,0,PC 17609,49.5042,1,1,1.0,1,old\\n495,0,3,\"Stanley, Mr. Edward Roland\",1,21.0,0,0,A/4 45380,8.05,1,1,1.0,1,young\\n496,0,3,\"Yousseff, Mr. Gerious\",1,28.0,0,0,2627,14.4583,1,1,1.0,1,young\\n497,1,1,\"Eustis, Miss. Elizabeth Mussey\",0,54.0,1,0,36947,78.2667,1,2,2.0,0,old\\n498,0,3,\"Shellard, Mr. Frederick William\",1,28.0,0,0,C.A. 6212,15.1,1,1,1.0,1,young\\n499,0,1,\"Allison, Mrs. Hudson J C (Bessie Waldo Daniels)\",0,25.0,1,2,113781,151.55,1,4,0.0,0,young\\n500,0,3,\"Svensson, Mr. Olof\",1,24.0,0,0,350035,7.7958,1,1,1.0,1,young\\n501,0,3,\"Calic, Mr. Petar\",1,17.0,0,0,315086,8.6625,1,1,1.0,1,teenager\\n502,0,3,\"Canavan, Miss. Mary\",0,21.0,0,0,364846,7.75,2,1,2.0,1,young\\n503,0,3,\"O\\'Sullivan, Miss. Bridget Mary\",0,28.0,0,0,330909,7.6292,2,1,2.0,1,young\\n504,0,3,\"Laitinen, Miss. Kristina Sofia\",0,37.0,0,0,4135,9.5875,1,1,2.0,1,adult\\n505,1,1,\"Maioni, Miss. Roberta\",0,16.0,0,0,110152,86.5,1,1,2.0,1,teenager\\n506,0,1,\"Penasco y Castellana, Mr. Victor de Satode\",1,18.0,1,0,PC 17758,108.9,1,2,1.0,0,teenager\\n507,1,2,\"Quick, Mrs. Frederick Charles (Jane Richards)\",0,33.0,0,2,26360,26.0,1,3,0.0,0,adult\\n508,1,1,\"Bradley, Mr. George (\"\"George Arthur Brayton\"\")\",1,28.0,0,0,111427,26.55,1,1,1.0,1,young\\n509,0,3,\"Olsen, Mr. Henry Margido\",1,28.0,0,0,C 4001,22.525,1,1,1.0,1,young\\n510,1,3,\"Lang, Mr. Fang\",1,26.0,0,0,1601,56.4958,1,1,1.0,1,young\\n511,1,3,\"Daly, Mr. Eugene Patrick\",1,29.0,0,0,382651,7.75,2,1,1.0,1,young\\n512,0,3,\"Webber, Mr. James\",1,28.0,0,0,SOTON/OQ 3101316,8.05,1,1,1.0,1,young\\n513,1,1,\"McGough, Mr. James Robert\",1,36.0,0,0,PC 17473,26.2875,1,1,1.0,1,adult\\n514,1,1,\"Rothschild, Mrs. Martin (Elizabeth L. Barrett)\",0,54.0,1,0,PC 17603,59.4,1,2,0.0,0,old\\n515,0,3,\"Coleff, Mr. Satio\",1,24.0,0,0,349209,7.4958,1,1,1.0,1,young\\n516,0,1,\"Walker, Mr. William Anderson\",1,47.0,0,0,36967,34.0208,1,1,1.0,1,adult\\n517,1,2,\"Lemore, Mrs. (Amelia Milley)\",0,34.0,0,0,C.A. 34260,10.5,1,1,0.0,1,adult\\n518,0,3,\"Ryan, Mr. Patrick\",1,28.0,0,0,371110,24.15,2,1,1.0,1,young\\n519,1,2,\"Angle, Mrs. William A (Florence \"\"Mary\"\" Agnes Hughes)\",0,36.0,1,0,226875,26.0,1,2,0.0,0,adult\\n520,0,3,\"Pavlovic, Mr. Stefo\",1,32.0,0,0,349242,7.8958,1,1,1.0,1,adult\\n521,1,1,\"Perreault, Miss. Anne\",0,30.0,0,0,12749,93.5,1,1,2.0,1,young\\n522,0,3,\"Vovk, Mr. Janko\",1,22.0,0,0,349252,7.8958,1,1,1.0,1,young\\n523,0,3,\"Lahoud, Mr. Sarkis\",1,28.0,0,0,2624,7.225,1,1,1.0,1,young\\n524,1,1,\"Hippach, Mrs. Louis Albert (Ida Sophia Fischer)\",0,44.0,0,1,111361,57.9792,1,2,0.0,0,adult\\n525,0,3,\"Kassem, Mr. Fared\",1,28.0,0,0,2700,7.2292,1,1,1.0,1,young\\n526,0,3,\"Farrell, Mr. James\",1,40.5,0,0,367232,7.75,2,1,1.0,1,adult\\n527,1,2,\"Ridsdale, Miss. Lucy\",0,50.0,0,0,W./C. 14258,10.5,1,1,2.0,1,adult\\n528,0,1,\"Farthing, Mr. John\",1,28.0,0,0,PC 17483,221.7792,1,1,1.0,1,young\\n529,0,3,\"Salonen, Mr. Johan Werner\",1,39.0,0,0,3101296,7.925,1,1,1.0,1,adult\\n530,0,2,\"Hocking, Mr. Richard George\",1,23.0,2,1,29104,11.5,1,4,1.0,0,young\\n531,1,2,\"Quick, Miss. Phyllis May\",0,2.0,1,1,26360,26.0,1,3,2.0,0,child\\n532,0,3,\"Toufik, Mr. Nakli\",1,28.0,0,0,2641,7.2292,1,1,1.0,1,young\\n533,0,3,\"Elias, Mr. Joseph Jr\",1,17.0,1,1,2690,7.2292,1,3,1.0,0,teenager\\n534,1,3,\"Peter, Mrs. Catherine (Catherine Rizk)\",0,28.0,0,2,2668,22.3583,1,3,0.0,0,young\\n535,0,3,\"Cacic, Miss. Marija\",0,30.0,0,0,315084,8.6625,1,1,2.0,1,young\\n536,1,2,\"Hart, Miss. Eva Miriam\",0,7.0,0,2,F.C.C. 13529,26.25,1,3,2.0,0,child\\n537,0,1,\"Butt, Major. Archibald Willingham\",1,45.0,0,0,113050,26.55,1,1,,1,adult\\n538,1,1,\"LeRoy, Miss. Bertha\",0,30.0,0,0,PC 17761,106.425,1,1,2.0,1,young\\n539,0,3,\"Risien, Mr. Samuel Beard\",1,28.0,0,0,364498,14.5,1,1,1.0,1,young\\n540,1,1,\"Frolicher, Miss. Hedwig Margaritha\",0,22.0,0,2,13568,49.5,1,3,2.0,0,young\\n541,1,1,\"Crosby, Miss. Harriet R\",0,36.0,0,2,WE/P 5735,71.0,1,3,2.0,0,adult\\n542,0,3,\"Andersson, Miss. Ingeborg Constanzia\",0,9.0,4,2,347082,31.275,1,7,2.0,0,child\\n543,0,3,\"Andersson, Miss. Sigrid Elisabeth\",0,11.0,4,2,347082,31.275,1,7,2.0,0,teenager\\n544,1,2,\"Beane, Mr. Edward\",1,32.0,1,0,2908,26.0,1,2,1.0,0,adult\\n545,0,1,\"Douglas, Mr. Walter Donald\",1,50.0,1,0,PC 17761,106.425,1,2,1.0,0,adult\\n546,0,1,\"Nicholson, Mr. Arthur Ernest\",1,64.0,0,0,693,26.0,1,1,1.0,1,old\\n547,1,2,\"Beane, Mrs. Edward (Ethel Clarke)\",0,19.0,1,0,2908,26.0,1,2,0.0,0,young\\n548,1,2,\"Padro y Manent, Mr. Julian\",1,28.0,0,0,SC/PARIS 2146,13.8625,1,1,1.0,1,young\\n549,0,3,\"Goldsmith, Mr. Frank John\",1,33.0,1,1,363291,20.525,1,3,1.0,0,adult\\n550,1,2,\"Davies, Master. John Morgan Jr\",1,8.0,1,1,C.A. 33112,36.75,1,3,,0,child\\n551,1,1,\"Thayer, Mr. John Borland Jr\",1,17.0,0,2,17421,110.8833,1,3,1.0,0,teenager\\n552,0,2,\"Sharp, Mr. Percival James R\",1,27.0,0,0,244358,26.0,1,1,1.0,1,young\\n553,0,3,\"O\\'Brien, Mr. Timothy\",1,28.0,0,0,330979,7.8292,2,1,1.0,1,young\\n554,1,3,\"Leeni, Mr. Fahim (\"\"Philip Zenni\"\")\",1,22.0,0,0,2620,7.225,1,1,1.0,1,young\\n555,1,3,\"Ohman, Miss. Velin\",0,22.0,0,0,347085,7.775,1,1,2.0,1,young\\n556,0,1,\"Wright, Mr. George\",1,62.0,0,0,113807,26.55,1,1,1.0,1,old\\n557,1,1,\"Duff Gordon, Lady. (Lucille Christiana Sutherland) (\"\"Mrs Morgan\"\")\",0,48.0,1,0,11755,39.6,1,2,,0,adult\\n558,0,1,\"Robbins, Mr. Victor\",1,28.0,0,0,PC 17757,227.525,1,1,1.0,1,young\\n559,1,1,\"Taussig, Mrs. Emil (Tillie Mandelbaum)\",0,39.0,1,1,110413,79.65,1,3,0.0,0,adult\\n560,1,3,\"de Messemaeker, Mrs. Guillaume Joseph (Emma)\",0,36.0,1,0,345572,17.4,1,2,0.0,0,adult\\n561,0,3,\"Morrow, Mr. Thomas Rowan\",1,28.0,0,0,372622,7.75,2,1,1.0,1,young\\n562,0,3,\"Sivic, Mr. Husein\",1,40.0,0,0,349251,7.8958,1,1,1.0,1,adult\\n563,0,2,\"Norman, Mr. Robert Douglas\",1,28.0,0,0,218629,13.5,1,1,1.0,1,young\\n564,0,3,\"Simmons, Mr. John\",1,28.0,0,0,SOTON/OQ 392082,8.05,1,1,1.0,1,young\\n565,0,3,\"Meanwell, Miss. (Marion Ogden)\",0,28.0,0,0,SOTON/O.Q. 392087,8.05,1,1,2.0,1,young\\n566,0,3,\"Davies, Mr. Alfred J\",1,24.0,2,0,A/4 48871,24.15,1,3,1.0,0,young\\n567,0,3,\"Stoytcheff, Mr. Ilia\",1,19.0,0,0,349205,7.8958,1,1,1.0,1,young\\n568,0,3,\"Palsson, Mrs. Nils (Alma Cornelia Berglund)\",0,29.0,0,4,349909,21.075,1,5,0.0,0,young\\n569,0,3,\"Doharr, Mr. Tannous\",1,28.0,0,0,2686,7.2292,1,1,1.0,1,young\\n570,1,3,\"Jonsson, Mr. Carl\",1,32.0,0,0,350417,7.8542,1,1,1.0,1,adult\\n571,1,2,\"Harris, Mr. George\",1,62.0,0,0,S.W./PP 752,10.5,1,1,1.0,1,old\\n572,1,1,\"Appleton, Mrs. Edward Dale (Charlotte Lamson)\",0,53.0,2,0,11769,51.4792,1,3,0.0,0,old\\n573,1,1,\"Flynn, Mr. John Irwin (\"\"Irving\"\")\",1,36.0,0,0,PC 17474,26.3875,1,1,1.0,1,adult\\n574,1,3,\"Kelly, Miss. Mary\",0,28.0,0,0,14312,7.75,2,1,2.0,1,young\\n575,0,3,\"Rush, Mr. Alfred George John\",1,16.0,0,0,A/4. 20589,8.05,1,1,1.0,1,teenager\\n576,0,3,\"Patchett, Mr. George\",1,19.0,0,0,358585,14.5,1,1,1.0,1,young\\n577,1,2,\"Garside, Miss. Ethel\",0,34.0,0,0,243880,13.0,1,1,2.0,1,adult\\n578,1,1,\"Silvey, Mrs. William Baird (Alice Munger)\",0,39.0,1,0,13507,55.9,1,2,0.0,0,adult\\n579,0,3,\"Caram, Mrs. Joseph (Maria Elias)\",0,28.0,1,0,2689,14.4583,1,2,0.0,0,young\\n580,1,3,\"Jussila, Mr. Eiriik\",1,32.0,0,0,STON/O 2. 3101286,7.925,1,1,1.0,1,adult\\n581,1,2,\"Christy, Miss. Julie Rachel\",0,25.0,1,1,237789,30.0,1,3,2.0,0,young\\n582,1,1,\"Thayer, Mrs. John Borland (Marian Longstreth Morris)\",0,39.0,1,1,17421,110.8833,1,3,0.0,0,adult\\n583,0,2,\"Downton, Mr. William James\",1,54.0,0,0,28403,26.0,1,1,1.0,1,old\\n584,0,1,\"Ross, Mr. John Hugo\",1,36.0,0,0,13049,40.125,1,1,1.0,1,adult\\n585,0,3,\"Paulner, Mr. Uscher\",1,28.0,0,0,3411,8.7125,1,1,1.0,1,young\\n586,1,1,\"Taussig, Miss. Ruth\",0,18.0,0,2,110413,79.65,1,3,2.0,0,teenager\\n587,0,2,\"Jarvis, Mr. John Denzil\",1,47.0,0,0,237565,15.0,1,1,1.0,1,adult\\n588,1,1,\"Frolicher-Stehli, Mr. Maxmillian\",1,60.0,1,1,13567,79.2,1,3,1.0,0,old\\n589,0,3,\"Gilinski, Mr. Eliezer\",1,22.0,0,0,14973,8.05,1,1,1.0,1,young\\n590,0,3,\"Murdlin, Mr. Joseph\",1,28.0,0,0,A./5. 3235,8.05,1,1,1.0,1,young\\n591,0,3,\"Rintamaki, Mr. Matti\",1,35.0,0,0,STON/O 2. 3101273,7.125,1,1,1.0,1,adult\\n592,1,1,\"Stephenson, Mrs. Walter Bertram (Martha Eustis)\",0,52.0,1,0,36947,78.2667,1,2,0.0,0,old\\n593,0,3,\"Elsbury, Mr. William James\",1,47.0,0,0,A/5 3902,7.25,1,1,1.0,1,adult\\n594,0,3,\"Bourke, Miss. Mary\",0,28.0,0,2,364848,7.75,2,3,2.0,0,young\\n595,0,2,\"Chapman, Mr. John Henry\",1,37.0,1,0,SC/AH 29037,26.0,1,2,1.0,0,adult\\n596,0,3,\"Van Impe, Mr. Jean Baptiste\",1,36.0,1,1,345773,24.15,1,3,1.0,0,adult\\n597,1,2,\"Leitch, Miss. Jessie Wills\",0,28.0,0,0,248727,33.0,1,1,2.0,1,young\\n598,0,3,\"Johnson, Mr. Alfred\",1,49.0,0,0,LINE,0.0,1,1,1.0,1,adult\\n599,0,3,\"Boulos, Mr. Hanna\",1,28.0,0,0,2664,7.225,1,1,1.0,1,young\\n600,1,1,\"Duff Gordon, Sir. Cosmo Edmund (\"\"Mr Morgan\"\")\",1,49.0,1,0,PC 17485,56.9292,1,2,,0,adult\\n601,1,2,\"Jacobsohn, Mrs. Sidney Samuel (Amy Frances Christy)\",0,24.0,2,1,243847,27.0,1,4,0.0,0,young\\n602,0,3,\"Slabenoff, Mr. Petco\",1,28.0,0,0,349214,7.8958,1,1,1.0,1,young\\n603,0,1,\"Harrington, Mr. Charles H\",1,28.0,0,0,113796,42.4,1,1,1.0,1,young\\n604,0,3,\"Torber, Mr. Ernst William\",1,44.0,0,0,364511,8.05,1,1,1.0,1,adult\\n605,1,1,\"Homer, Mr. Harry (\"\"Mr E Haven\"\")\",1,35.0,0,0,111426,26.55,1,1,1.0,1,adult\\n606,0,3,\"Lindell, Mr. Edvard Bengtsson\",1,36.0,1,0,349910,15.55,1,2,1.0,0,adult\\n607,0,3,\"Karaic, Mr. Milan\",1,30.0,0,0,349246,7.8958,1,1,1.0,1,young\\n608,1,1,\"Daniel, Mr. Robert Williams\",1,27.0,0,0,113804,30.5,1,1,1.0,1,young\\n609,1,2,\"Laroche, Mrs. Joseph (Juliette Marie Louise Lafargue)\",0,22.0,1,2,SC/Paris 2123,41.5792,1,4,0.0,0,young\\n610,1,1,\"Shutes, Miss. Elizabeth W\",0,40.0,0,0,PC 17582,153.4625,1,1,2.0,1,adult\\n611,0,3,\"Andersson, Mrs. Anders Johan (Alfrida Konstantia Brogren)\",0,39.0,1,5,347082,31.275,1,7,0.0,0,adult\\n612,0,3,\"Jardin, Mr. Jose Neto\",1,28.0,0,0,SOTON/O.Q. 3101305,7.05,1,1,1.0,1,young\\n613,1,3,\"Murphy, Miss. Margaret Jane\",0,28.0,1,0,367230,15.5,2,2,2.0,0,young\\n614,0,3,\"Horgan, Mr. John\",1,28.0,0,0,370377,7.75,2,1,1.0,1,young\\n615,0,3,\"Brocklebank, Mr. William Alfred\",1,35.0,0,0,364512,8.05,1,1,1.0,1,adult\\n616,1,2,\"Herman, Miss. Alice\",0,24.0,1,2,220845,65.0,1,4,2.0,0,young\\n617,0,3,\"Danbom, Mr. Ernst Gilbert\",1,34.0,1,1,347080,14.4,1,3,1.0,0,adult\\n618,0,3,\"Lobb, Mrs. William Arthur (Cordelia K Stanlick)\",0,26.0,1,0,A/5. 3336,16.1,1,2,0.0,0,young\\n619,1,2,\"Becker, Miss. Marion Louise\",0,4.0,2,1,230136,39.0,1,4,2.0,0,child\\n620,0,2,\"Gavey, Mr. Lawrence\",1,26.0,0,0,31028,10.5,1,1,1.0,1,young\\n621,0,3,\"Yasbeck, Mr. Antoni\",1,27.0,1,0,2659,14.4542,1,2,1.0,0,young\\n622,1,1,\"Kimball, Mr. Edwin Nelson Jr\",1,42.0,1,0,11753,52.5542,1,2,1.0,0,adult\\n623,1,3,\"Nakid, Mr. Sahid\",1,20.0,1,1,2653,15.7417,1,3,1.0,0,young\\n624,0,3,\"Hansen, Mr. Henry Damsgaard\",1,21.0,0,0,350029,7.8542,1,1,1.0,1,young\\n625,0,3,\"Bowen, Mr. David John \"\"Dai\"\"\",1,21.0,0,0,54636,16.1,1,1,1.0,1,young\\n626,0,1,\"Sutton, Mr. Frederick\",1,61.0,0,0,36963,32.3208,1,1,1.0,1,old\\n627,0,2,\"Kirkland, Rev. Charles Leonard\",1,57.0,0,0,219533,12.35,2,1,,1,old\\n628,1,1,\"Longley, Miss. Gretchen Fiske\",0,21.0,0,0,13502,77.9583,1,1,2.0,1,young\\n629,0,3,\"Bostandyeff, Mr. Guentcho\",1,26.0,0,0,349224,7.8958,1,1,1.0,1,young\\n630,0,3,\"O\\'Connell, Mr. Patrick D\",1,28.0,0,0,334912,7.7333,2,1,1.0,1,young\\n631,1,1,\"Barkworth, Mr. Algernon Henry Wilson\",1,80.0,0,0,27042,30.0,1,1,1.0,1,old\\n632,0,3,\"Lundahl, Mr. Johan Svensson\",1,51.0,0,0,347743,7.0542,1,1,1.0,1,old\\n633,1,1,\"Stahelin-Maeglin, Dr. Max\",1,32.0,0,0,13214,30.5,1,1,,1,adult\\n634,0,1,\"Parr, Mr. William Henry Marsh\",1,28.0,0,0,112052,0.0,1,1,1.0,1,young\\n635,0,3,\"Skoog, Miss. Mabel\",0,9.0,3,2,347088,27.9,1,6,2.0,0,child\\n636,1,2,\"Davis, Miss. Mary\",0,28.0,0,0,237668,13.0,1,1,2.0,1,young\\n637,0,3,\"Leinonen, Mr. Antti Gustaf\",1,32.0,0,0,STON/O 2. 3101292,7.925,1,1,1.0,1,adult\\n638,0,2,\"Collyer, Mr. Harvey\",1,31.0,1,1,C.A. 31921,26.25,1,3,1.0,0,adult\\n639,0,3,\"Panula, Mrs. Juha (Maria Emilia Ojala)\",0,41.0,0,5,3101295,39.6875,1,6,0.0,0,adult\\n640,0,3,\"Thorneycroft, Mr. Percival\",1,28.0,1,0,376564,16.1,1,2,1.0,0,young\\n641,0,3,\"Jensen, Mr. Hans Peder\",1,20.0,0,0,350050,7.8542,1,1,1.0,1,young\\n642,1,1,\"Sagesser, Mlle. Emma\",0,24.0,0,0,PC 17477,69.3,1,1,,1,young\\n643,0,3,\"Skoog, Miss. Margit Elizabeth\",0,2.0,3,2,347088,27.9,1,6,2.0,0,child\\n644,1,3,\"Foo, Mr. Choong\",1,28.0,0,0,1601,56.4958,1,1,1.0,1,young\\n645,1,3,\"Baclini, Miss. Eugenie\",0,0.75,2,1,2666,19.2583,1,4,2.0,0,child\\n646,1,1,\"Harper, Mr. Henry Sleeper\",1,48.0,1,0,PC 17572,76.7292,1,2,1.0,0,adult\\n647,0,3,\"Cor, Mr. Liudevit\",1,19.0,0,0,349231,7.8958,1,1,1.0,1,young\\n648,1,1,\"Simonius-Blumer, Col. Oberst Alfons\",1,56.0,0,0,13213,35.5,1,1,,1,old\\n649,0,3,\"Willey, Mr. Edward\",1,28.0,0,0,S.O./P.P. 751,7.55,1,1,1.0,1,young\\n650,1,3,\"Stanley, Miss. Amy Zillah Elsie\",0,23.0,0,0,CA. 2314,7.55,1,1,2.0,1,young\\n651,0,3,\"Mitkoff, Mr. Mito\",1,28.0,0,0,349221,7.8958,1,1,1.0,1,young\\n652,1,2,\"Doling, Miss. Elsie\",0,18.0,0,1,231919,23.0,1,2,2.0,0,teenager\\n653,0,3,\"Kalvik, Mr. Johannes Halvorsen\",1,21.0,0,0,8475,8.4333,1,1,1.0,1,young\\n654,1,3,\"O\\'Leary, Miss. Hanora \"\"Norah\"\"\",0,28.0,0,0,330919,7.8292,2,1,2.0,1,young\\n655,0,3,\"Hegarty, Miss. Hanora \"\"Nora\"\"\",0,18.0,0,0,365226,6.75,2,1,2.0,1,teenager\\n656,0,2,\"Hickman, Mr. Leonard Mark\",1,24.0,2,0,S.O.C. 14879,73.5,1,3,1.0,0,young\\n657,0,3,\"Radeff, Mr. Alexander\",1,28.0,0,0,349223,7.8958,1,1,1.0,1,young\\n658,0,3,\"Bourke, Mrs. John (Catherine)\",0,32.0,1,1,364849,15.5,2,3,0.0,0,adult\\n659,0,2,\"Eitemiller, Mr. George Floyd\",1,23.0,0,0,29751,13.0,1,1,1.0,1,young\\n660,0,1,\"Newell, Mr. Arthur Webster\",1,58.0,0,2,35273,113.275,1,3,1.0,0,old\\n661,1,1,\"Frauenthal, Dr. Henry William\",1,50.0,2,0,PC 17611,133.65,1,3,,0,adult\\n662,0,3,\"Badt, Mr. Mohamed\",1,40.0,0,0,2623,7.225,1,1,1.0,1,adult\\n663,0,1,\"Colley, Mr. Edward Pomeroy\",1,47.0,0,0,5727,25.5875,1,1,1.0,1,adult\\n664,0,3,\"Coleff, Mr. Peju\",1,36.0,0,0,349210,7.4958,1,1,1.0,1,adult\\n665,1,3,\"Lindqvist, Mr. Eino William\",1,20.0,1,0,STON/O 2. 3101285,7.925,1,2,1.0,0,young\\n666,0,2,\"Hickman, Mr. Lewis\",1,32.0,2,0,S.O.C. 14879,73.5,1,3,1.0,0,adult\\n667,0,2,\"Butler, Mr. Reginald Fenton\",1,25.0,0,0,234686,13.0,1,1,1.0,1,young\\n668,0,3,\"Rommetvedt, Mr. Knud Paust\",1,28.0,0,0,312993,7.775,1,1,1.0,1,young\\n669,0,3,\"Cook, Mr. Jacob\",1,43.0,0,0,A/5 3536,8.05,1,1,1.0,1,adult\\n670,1,1,\"Taylor, Mrs. Elmer Zebley (Juliet Cummins Wright)\",0,28.0,1,0,19996,52.0,1,2,0.0,0,young\\n671,1,2,\"Brown, Mrs. Thomas William Solomon (Elizabeth Catherine Ford)\",0,40.0,1,1,29750,39.0,1,3,0.0,0,adult\\n672,0,1,\"Davidson, Mr. Thornton\",1,31.0,1,0,F.C. 12750,52.0,1,2,1.0,0,adult\\n673,0,2,\"Mitchell, Mr. Henry Michael\",1,70.0,0,0,C.A. 24580,10.5,1,1,1.0,1,old\\n674,1,2,\"Wilhelms, Mr. Charles\",1,31.0,0,0,244270,13.0,1,1,1.0,1,adult\\n675,0,2,\"Watson, Mr. Ennis Hastings\",1,28.0,0,0,239856,0.0,1,1,1.0,1,young\\n676,0,3,\"Edvardsson, Mr. Gustaf Hjalmar\",1,18.0,0,0,349912,7.775,1,1,1.0,1,teenager\\n677,0,3,\"Sawyer, Mr. Frederick Charles\",1,24.5,0,0,342826,8.05,1,1,1.0,1,young\\n678,1,3,\"Turja, Miss. Anna Sofia\",0,18.0,0,0,4138,9.8417,1,1,2.0,1,teenager\\n679,0,3,\"Goodwin, Mrs. Frederick (Augusta Tyler)\",0,43.0,1,6,CA 2144,46.9,1,8,0.0,0,adult\\n680,1,1,\"Cardeza, Mr. Thomas Drake Martinez\",1,36.0,0,1,PC 17755,512.3292,1,2,1.0,0,adult\\n681,0,3,\"Peters, Miss. Katie\",0,28.0,0,0,330935,8.1375,2,1,2.0,1,young\\n682,1,1,\"Hassab, Mr. Hammad\",1,27.0,0,0,PC 17572,76.7292,1,1,1.0,1,young\\n683,0,3,\"Olsvigen, Mr. Thor Anderson\",1,20.0,0,0,6563,9.225,1,1,1.0,1,young\\n684,0,3,\"Goodwin, Mr. Charles Edward\",1,14.0,5,2,CA 2144,46.9,1,8,1.0,0,teenager\\n685,0,2,\"Brown, Mr. Thomas William Solomon\",1,60.0,1,1,29750,39.0,1,3,1.0,0,old\\n686,0,2,\"Laroche, Mr. Joseph Philippe Lemercier\",1,25.0,1,2,SC/Paris 2123,41.5792,1,4,1.0,0,young\\n687,0,3,\"Panula, Mr. Jaako Arnold\",1,14.0,4,1,3101295,39.6875,1,6,1.0,0,teenager\\n688,0,3,\"Dakic, Mr. Branko\",1,19.0,0,0,349228,10.1708,1,1,1.0,1,young\\n689,0,3,\"Fischer, Mr. Eberhard Thelander\",1,18.0,0,0,350036,7.7958,1,1,1.0,1,teenager\\n690,1,1,\"Madill, Miss. Georgette Alexandra\",0,15.0,0,1,24160,211.3375,1,2,2.0,0,teenager\\n691,1,1,\"Dick, Mr. Albert Adrian\",1,31.0,1,0,17474,57.0,1,2,1.0,0,adult\\n692,1,3,\"Karun, Miss. Manca\",0,4.0,0,1,349256,13.4167,1,2,2.0,0,child\\n693,1,3,\"Lam, Mr. Ali\",1,28.0,0,0,1601,56.4958,1,1,1.0,1,young\\n694,0,3,\"Saad, Mr. Khalil\",1,25.0,0,0,2672,7.225,1,1,1.0,1,young\\n695,0,1,\"Weir, Col. John\",1,60.0,0,0,113800,26.55,1,1,,1,old\\n696,0,2,\"Chapman, Mr. Charles Henry\",1,52.0,0,0,248731,13.5,1,1,1.0,1,old\\n697,0,3,\"Kelly, Mr. James\",1,44.0,0,0,363592,8.05,1,1,1.0,1,adult\\n698,1,3,\"Mullens, Miss. Katherine \"\"Katie\"\"\",0,28.0,0,0,35852,7.7333,2,1,2.0,1,young\\n699,0,1,\"Thayer, Mr. John Borland\",1,49.0,1,1,17421,110.8833,1,3,1.0,0,adult\\n700,0,3,\"Humblen, Mr. Adolf Mathias Nicolai Olsen\",1,42.0,0,0,348121,7.65,1,1,1.0,1,adult\\n701,1,1,\"Astor, Mrs. John Jacob (Madeleine Talmadge Force)\",0,18.0,1,0,PC 17757,227.525,1,2,0.0,0,teenager\\n702,1,1,\"Silverthorne, Mr. Spencer Victor\",1,35.0,0,0,PC 17475,26.2875,1,1,1.0,1,adult\\n703,0,3,\"Barbara, Miss. Saiide\",0,18.0,0,1,2691,14.4542,1,2,2.0,0,teenager\\n704,0,3,\"Gallagher, Mr. Martin\",1,25.0,0,0,36864,7.7417,2,1,1.0,1,young\\n705,0,3,\"Hansen, Mr. Henrik Juul\",1,26.0,1,0,350025,7.8542,1,2,1.0,0,young\\n706,0,2,\"Morley, Mr. Henry Samuel (\"\"Mr Henry Marshall\"\")\",1,39.0,0,0,250655,26.0,1,1,1.0,1,adult\\n707,1,2,\"Kelly, Mrs. Florence \"\"Fannie\"\"\",0,45.0,0,0,223596,13.5,1,1,0.0,1,adult\\n708,1,1,\"Calderhead, Mr. Edward Pennington\",1,42.0,0,0,PC 17476,26.2875,1,1,1.0,1,adult\\n709,1,1,\"Cleaver, Miss. Alice\",0,22.0,0,0,113781,151.55,1,1,2.0,1,young\\n710,1,3,\"Moubarek, Master. Halim Gonios (\"\"William George\"\")\",1,28.0,1,1,2661,15.2458,1,3,,0,young\\n711,1,1,\"Mayne, Mlle. Berthe Antonine (\"\"Mrs de Villiers\"\")\",0,24.0,0,0,PC 17482,49.5042,1,1,,1,young\\n712,0,1,\"Klaber, Mr. Herman\",1,28.0,0,0,113028,26.55,1,1,1.0,1,young\\n713,1,1,\"Taylor, Mr. Elmer Zebley\",1,48.0,1,0,19996,52.0,1,2,1.0,0,adult\\n714,0,3,\"Larsson, Mr. August Viktor\",1,29.0,0,0,7545,9.4833,1,1,1.0,1,young\\n715,0,2,\"Greenberg, Mr. Samuel\",1,52.0,0,0,250647,13.0,1,1,1.0,1,old\\n716,0,3,\"Soholt, Mr. Peter Andreas Lauritz Andersen\",1,19.0,0,0,348124,7.65,1,1,1.0,1,young\\n717,1,1,\"Endres, Miss. Caroline Louise\",0,38.0,0,0,PC 17757,227.525,1,1,2.0,1,adult\\n718,1,2,\"Troutt, Miss. Edwina Celia \"\"Winnie\"\"\",0,27.0,0,0,34218,10.5,1,1,2.0,1,young\\n719,0,3,\"McEvoy, Mr. Michael\",1,28.0,0,0,36568,15.5,2,1,1.0,1,young\\n720,0,3,\"Johnson, Mr. Malkolm Joackim\",1,33.0,0,0,347062,7.775,1,1,1.0,1,adult\\n721,1,2,\"Harper, Miss. Annie Jessie \"\"Nina\"\"\",0,6.0,0,1,248727,33.0,1,2,2.0,0,child\\n722,0,3,\"Jensen, Mr. Svend Lauritz\",1,17.0,1,0,350048,7.0542,1,2,1.0,0,teenager\\n723,0,2,\"Gillespie, Mr. William Henry\",1,34.0,0,0,12233,13.0,1,1,1.0,1,adult\\n724,0,2,\"Hodges, Mr. Henry Price\",1,50.0,0,0,250643,13.0,1,1,1.0,1,adult\\n725,1,1,\"Chambers, Mr. Norman Campbell\",1,27.0,1,0,113806,53.1,1,2,1.0,0,young\\n726,0,3,\"Oreskovic, Mr. Luka\",1,20.0,0,0,315094,8.6625,1,1,1.0,1,young\\n727,1,2,\"Renouf, Mrs. Peter Henry (Lillian Jefferys)\",0,30.0,3,0,31027,21.0,1,4,0.0,0,young\\n728,1,3,\"Mannion, Miss. Margareth\",0,28.0,0,0,36866,7.7375,2,1,2.0,1,young\\n729,0,2,\"Bryhl, Mr. Kurt Arnold Gottfrid\",1,25.0,1,0,236853,26.0,1,2,1.0,0,young\\n730,0,3,\"Ilmakangas, Miss. Pieta Sofia\",0,25.0,1,0,STON/O2. 3101271,7.925,1,2,2.0,0,young\\n731,1,1,\"Allen, Miss. Elisabeth Walton\",0,29.0,0,0,24160,211.3375,1,1,2.0,1,young\\n732,0,3,\"Hassan, Mr. Houssein G N\",1,11.0,0,0,2699,18.7875,1,1,1.0,1,teenager\\n733,0,2,\"Knight, Mr. Robert J\",1,28.0,0,0,239855,0.0,1,1,1.0,1,young\\n734,0,2,\"Berriman, Mr. William John\",1,23.0,0,0,28425,13.0,1,1,1.0,1,young\\n735,0,2,\"Troupiansky, Mr. Moses Aaron\",1,23.0,0,0,233639,13.0,1,1,1.0,1,young\\n736,0,3,\"Williams, Mr. Leslie\",1,28.5,0,0,54636,16.1,1,1,1.0,1,young\\n737,0,3,\"Ford, Mrs. Edward (Margaret Ann Watson)\",0,48.0,1,3,W./C. 6608,34.375,1,5,0.0,0,adult\\n738,1,1,\"Lesurer, Mr. Gustave J\",1,35.0,0,0,PC 17755,512.3292,1,1,1.0,1,adult\\n739,0,3,\"Ivanoff, Mr. Kanio\",1,28.0,0,0,349201,7.8958,1,1,1.0,1,young\\n740,0,3,\"Nankoff, Mr. Minko\",1,28.0,0,0,349218,7.8958,1,1,1.0,1,young\\n741,1,1,\"Hawksford, Mr. Walter James\",1,28.0,0,0,16988,30.0,1,1,1.0,1,young\\n742,0,1,\"Cavendish, Mr. Tyrell William\",1,36.0,1,0,19877,78.85,1,2,1.0,0,adult\\n743,1,1,\"Ryerson, Miss. Susan Parker \"\"Suzette\"\"\",0,21.0,2,2,PC 17608,262.375,1,5,2.0,0,young\\n744,0,3,\"McNamee, Mr. Neal\",1,24.0,1,0,376566,16.1,1,2,1.0,0,young\\n745,1,3,\"Stranden, Mr. Juho\",1,31.0,0,0,STON/O 2. 3101288,7.925,1,1,1.0,1,adult\\n746,0,1,\"Crosby, Capt. Edward Gifford\",1,70.0,1,1,WE/P 5735,71.0,1,3,,0,old\\n747,0,3,\"Abbott, Mr. Rossmore Edward\",1,16.0,1,1,C.A. 2673,20.25,1,3,1.0,0,teenager\\n748,1,2,\"Sinkkonen, Miss. Anna\",0,30.0,0,0,250648,13.0,1,1,2.0,1,young\\n749,0,1,\"Marvin, Mr. Daniel Warner\",1,19.0,1,0,113773,53.1,1,2,1.0,0,young\\n750,0,3,\"Connaghton, Mr. Michael\",1,31.0,0,0,335097,7.75,2,1,1.0,1,adult\\n751,1,2,\"Wells, Miss. Joan\",0,4.0,1,1,29103,23.0,1,3,2.0,0,child\\n752,1,3,\"Moor, Master. Meier\",1,6.0,0,1,392096,12.475,1,2,,0,child\\n753,0,3,\"Vande Velde, Mr. Johannes Joseph\",1,33.0,0,0,345780,9.5,1,1,1.0,1,adult\\n754,0,3,\"Jonkoff, Mr. Lalio\",1,23.0,0,0,349204,7.8958,1,1,1.0,1,young\\n755,1,2,\"Herman, Mrs. Samuel (Jane Laver)\",0,48.0,1,2,220845,65.0,1,4,0.0,0,adult\\n756,1,2,\"Hamalainen, Master. Viljo\",1,0.67,1,1,250649,14.5,1,3,,0,child\\n757,0,3,\"Carlsson, Mr. August Sigfrid\",1,28.0,0,0,350042,7.7958,1,1,1.0,1,young\\n758,0,2,\"Bailey, Mr. Percy Andrew\",1,18.0,0,0,29108,11.5,1,1,1.0,1,teenager\\n759,0,3,\"Theobald, Mr. Thomas Leonard\",1,34.0,0,0,363294,8.05,1,1,1.0,1,adult\\n760,1,1,\"Rothes, the Countess. of (Lucy Noel Martha Dyer-Edwards)\",0,33.0,0,0,110152,86.5,1,1,,1,adult\\n761,0,3,\"Garfirth, Mr. John\",1,28.0,0,0,358585,14.5,1,1,1.0,1,young\\n762,0,3,\"Nirva, Mr. Iisakki Antino Aijo\",1,41.0,0,0,SOTON/O2 3101272,7.125,1,1,1.0,1,adult\\n763,1,3,\"Barah, Mr. Hanna Assi\",1,20.0,0,0,2663,7.2292,1,1,1.0,1,young\\n764,1,1,\"Carter, Mrs. William Ernest (Lucile Polk)\",0,36.0,1,2,113760,120.0,1,4,0.0,0,adult\\n765,0,3,\"Eklund, Mr. Hans Linus\",1,16.0,0,0,347074,7.775,1,1,1.0,1,teenager\\n766,1,1,\"Hogeboom, Mrs. John C (Anna Andrews)\",0,51.0,1,0,13502,77.9583,1,2,0.0,0,old\\n767,0,1,\"Brewe, Dr. Arthur Jackson\",1,28.0,0,0,112379,39.6,1,1,,1,young\\n768,0,3,\"Mangan, Miss. Mary\",0,30.5,0,0,364850,7.75,2,1,2.0,1,adult\\n769,0,3,\"Moran, Mr. Daniel J\",1,28.0,1,0,371110,24.15,2,2,1.0,0,young\\n770,0,3,\"Gronnestad, Mr. Daniel Danielsen\",1,32.0,0,0,8471,8.3625,1,1,1.0,1,adult\\n771,0,3,\"Lievens, Mr. Rene Aime\",1,24.0,0,0,345781,9.5,1,1,1.0,1,young\\n772,0,3,\"Jensen, Mr. Niels Peder\",1,48.0,0,0,350047,7.8542,1,1,1.0,1,adult\\n773,0,2,\"Mack, Mrs. (Mary)\",0,57.0,0,0,S.O./P.P. 3,10.5,1,1,0.0,1,old\\n774,0,3,\"Elias, Mr. Dibo\",1,28.0,0,0,2674,7.225,1,1,1.0,1,young\\n775,1,2,\"Hocking, Mrs. Elizabeth (Eliza Needs)\",0,54.0,1,3,29105,23.0,1,5,0.0,0,old\\n776,0,3,\"Myhrman, Mr. Pehr Fabian Oliver Malkolm\",1,18.0,0,0,347078,7.75,1,1,1.0,1,teenager\\n777,0,3,\"Tobin, Mr. Roger\",1,28.0,0,0,383121,7.75,2,1,1.0,1,young\\n778,1,3,\"Emanuel, Miss. Virginia Ethel\",0,5.0,0,0,364516,12.475,1,1,2.0,1,child\\n779,0,3,\"Kilgannon, Mr. Thomas J\",1,28.0,0,0,36865,7.7375,2,1,1.0,1,young\\n780,1,1,\"Robert, Mrs. Edward Scott (Elisabeth Walton McMillan)\",0,43.0,0,1,24160,211.3375,1,2,0.0,0,adult\\n781,1,3,\"Ayoub, Miss. Banoura\",0,13.0,0,0,2687,7.2292,1,1,2.0,1,teenager\\n782,1,1,\"Dick, Mrs. Albert Adrian (Vera Gillespie)\",0,17.0,1,0,17474,57.0,1,2,0.0,0,teenager\\n783,0,1,\"Long, Mr. Milton Clyde\",1,29.0,0,0,113501,30.0,1,1,1.0,1,young\\n784,0,3,\"Johnston, Mr. Andrew G\",1,28.0,1,2,W./C. 6607,23.45,1,4,1.0,0,young\\n785,0,3,\"Ali, Mr. William\",1,25.0,0,0,SOTON/O.Q. 3101312,7.05,1,1,1.0,1,young\\n786,0,3,\"Harmer, Mr. Abraham (David Lishin)\",1,25.0,0,0,374887,7.25,1,1,1.0,1,young\\n787,1,3,\"Sjoblom, Miss. Anna Sofia\",0,18.0,0,0,3101265,7.4958,1,1,2.0,1,teenager\\n788,0,3,\"Rice, Master. George Hugh\",1,8.0,4,1,382652,29.125,2,6,,0,child\\n789,1,3,\"Dean, Master. Bertram Vere\",1,1.0,1,2,C.A. 2315,20.575,1,4,,0,child\\n790,0,1,\"Guggenheim, Mr. Benjamin\",1,46.0,0,0,PC 17593,79.2,1,1,1.0,1,adult\\n791,0,3,\"Keane, Mr. Andrew \"\"Andy\"\"\",1,28.0,0,0,12460,7.75,2,1,1.0,1,young\\n792,0,2,\"Gaskell, Mr. Alfred\",1,16.0,0,0,239865,26.0,1,1,1.0,1,teenager\\n793,0,3,\"Sage, Miss. Stella Anna\",0,28.0,8,2,CA. 2343,69.55,1,11,2.0,0,young\\n794,0,1,\"Hoyt, Mr. William Fisher\",1,28.0,0,0,PC 17600,30.6958,1,1,1.0,1,young\\n795,0,3,\"Dantcheff, Mr. Ristiu\",1,25.0,0,0,349203,7.8958,1,1,1.0,1,young\\n796,0,2,\"Otter, Mr. Richard\",1,39.0,0,0,28213,13.0,1,1,1.0,1,adult\\n797,1,1,\"Leader, Dr. Alice (Farnham)\",0,49.0,0,0,17465,25.9292,1,1,,1,adult\\n798,1,3,\"Osman, Mrs. Mara\",0,31.0,0,0,349244,8.6833,1,1,0.0,1,adult\\n799,0,3,\"Ibrahim Shawah, Mr. Yousseff\",1,30.0,0,0,2685,7.2292,1,1,1.0,1,young\\n800,0,3,\"Van Impe, Mrs. Jean Baptiste (Rosalie Paula Govaert)\",0,30.0,1,1,345773,24.15,1,3,0.0,0,young\\n801,0,2,\"Ponesell, Mr. Martin\",1,34.0,0,0,250647,13.0,1,1,1.0,1,adult\\n802,1,2,\"Collyer, Mrs. Harvey (Charlotte Annie Tate)\",0,31.0,1,1,C.A. 31921,26.25,1,3,0.0,0,adult\\n803,1,1,\"Carter, Master. William Thornton II\",1,11.0,1,2,113760,120.0,1,4,,0,teenager\\n804,1,3,\"Thomas, Master. Assad Alexander\",1,0.42,0,1,2625,8.5167,1,2,,0,child\\n805,1,3,\"Hedman, Mr. Oskar Arvid\",1,27.0,0,0,347089,6.975,1,1,1.0,1,young\\n806,0,3,\"Johansson, Mr. Karl Johan\",1,31.0,0,0,347063,7.775,1,1,1.0,1,adult\\n807,0,1,\"Andrews, Mr. Thomas Jr\",1,39.0,0,0,112050,0.0,1,1,1.0,1,adult\\n808,0,3,\"Pettersson, Miss. Ellen Natalia\",0,18.0,0,0,347087,7.775,1,1,2.0,1,teenager\\n809,0,2,\"Meyer, Mr. August\",1,39.0,0,0,248723,13.0,1,1,1.0,1,adult\\n810,1,1,\"Chambers, Mrs. Norman Campbell (Bertha Griggs)\",0,33.0,1,0,113806,53.1,1,2,0.0,0,adult\\n811,0,3,\"Alexander, Mr. William\",1,26.0,0,0,3474,7.8875,1,1,1.0,1,young\\n812,0,3,\"Lester, Mr. James\",1,39.0,0,0,A/4 48871,24.15,1,1,1.0,1,adult\\n813,0,2,\"Slemen, Mr. Richard James\",1,35.0,0,0,28206,10.5,1,1,1.0,1,adult\\n814,0,3,\"Andersson, Miss. Ebba Iris Alfrida\",0,6.0,4,2,347082,31.275,1,7,2.0,0,child\\n815,0,3,\"Tomlin, Mr. Ernest Portage\",1,30.5,0,0,364499,8.05,1,1,1.0,1,adult\\n816,0,1,\"Fry, Mr. Richard\",1,28.0,0,0,112058,0.0,1,1,1.0,1,young\\n817,0,3,\"Heininen, Miss. Wendla Maria\",0,23.0,0,0,STON/O2. 3101290,7.925,1,1,2.0,1,young\\n818,0,2,\"Mallet, Mr. Albert\",1,31.0,1,1,S.C./PARIS 2079,37.0042,1,3,1.0,0,adult\\n819,0,3,\"Holm, Mr. John Fredrik Alexander\",1,43.0,0,0,C 7075,6.45,1,1,1.0,1,adult\\n820,0,3,\"Skoog, Master. Karl Thorsten\",1,10.0,3,2,347088,27.9,1,6,,0,child\\n821,1,1,\"Hays, Mrs. Charles Melville (Clara Jennings Gregg)\",0,52.0,1,1,12749,93.5,1,3,0.0,0,old\\n822,1,3,\"Lulic, Mr. Nikola\",1,27.0,0,0,315098,8.6625,1,1,1.0,1,young\\n823,0,1,\"Reuchlin, Jonkheer. John George\",1,38.0,0,0,19972,0.0,1,1,,1,adult\\n824,1,3,\"Moor, Mrs. (Beila)\",0,27.0,0,1,392096,12.475,1,2,0.0,0,young\\n825,0,3,\"Panula, Master. Urho Abraham\",1,2.0,4,1,3101295,39.6875,1,6,,0,child\\n826,0,3,\"Flynn, Mr. John\",1,28.0,0,0,368323,6.95,2,1,1.0,1,young\\n827,0,3,\"Lam, Mr. Len\",1,28.0,0,0,1601,56.4958,1,1,1.0,1,young\\n828,1,2,\"Mallet, Master. Andre\",1,1.0,0,2,S.C./PARIS 2079,37.0042,1,3,,0,child\\n829,1,3,\"McCormack, Mr. Thomas Joseph\",1,28.0,0,0,367228,7.75,2,1,1.0,1,young\\n830,1,1,\"Stone, Mrs. George Nelson (Martha Evelyn)\",0,62.0,0,0,113572,80.0,1,1,0.0,1,old\\n831,1,3,\"Yasbeck, Mrs. Antoni (Selini Alexander)\",0,15.0,1,0,2659,14.4542,1,2,0.0,0,teenager\\n832,1,2,\"Richards, Master. George Sibley\",1,0.83,1,1,29106,18.75,1,3,,0,child\\n833,0,3,\"Saad, Mr. Amin\",1,28.0,0,0,2671,7.2292,1,1,1.0,1,young\\n834,0,3,\"Augustsson, Mr. Albert\",1,23.0,0,0,347468,7.8542,1,1,1.0,1,young\\n835,0,3,\"Allum, Mr. Owen George\",1,18.0,0,0,2223,8.3,1,1,1.0,1,teenager\\n836,1,1,\"Compton, Miss. Sara Rebecca\",0,39.0,1,1,PC 17756,83.1583,1,3,2.0,0,adult\\n837,0,3,\"Pasic, Mr. Jakob\",1,21.0,0,0,315097,8.6625,1,1,1.0,1,young\\n838,0,3,\"Sirota, Mr. Maurice\",1,28.0,0,0,392092,8.05,1,1,1.0,1,young\\n839,1,3,\"Chip, Mr. Chang\",1,32.0,0,0,1601,56.4958,1,1,1.0,1,adult\\n840,1,1,\"Marechal, Mr. Pierre\",1,28.0,0,0,11774,29.7,1,1,1.0,1,young\\n841,0,3,\"Alhomaki, Mr. Ilmari Rudolf\",1,20.0,0,0,SOTON/O2 3101287,7.925,1,1,1.0,1,young\\n842,0,2,\"Mudd, Mr. Thomas Charles\",1,16.0,0,0,S.O./P.P. 3,10.5,1,1,1.0,1,teenager\\n843,1,1,\"Serepeca, Miss. Augusta\",0,30.0,0,0,113798,31.0,1,1,2.0,1,young\\n844,0,3,\"Lemberopolous, Mr. Peter L\",1,34.5,0,0,2683,6.4375,1,1,1.0,1,adult\\n845,0,3,\"Culumovic, Mr. Jeso\",1,17.0,0,0,315090,8.6625,1,1,1.0,1,teenager\\n846,0,3,\"Abbing, Mr. Anthony\",1,42.0,0,0,C.A. 5547,7.55,1,1,1.0,1,adult\\n847,0,3,\"Sage, Mr. Douglas Bullen\",1,28.0,8,2,CA. 2343,69.55,1,11,1.0,0,young\\n848,0,3,\"Markoff, Mr. Marin\",1,35.0,0,0,349213,7.8958,1,1,1.0,1,adult\\n849,0,2,\"Harper, Rev. John\",1,28.0,0,1,248727,33.0,1,2,,0,young\\n850,1,1,\"Goldenberg, Mrs. Samuel L (Edwiga Grabowska)\",0,28.0,1,0,17453,89.1042,1,2,0.0,0,young\\n851,0,3,\"Andersson, Master. Sigvard Harald Elias\",1,4.0,4,2,347082,31.275,1,7,,0,child\\n852,0,3,\"Svensson, Mr. Johan\",1,74.0,0,0,347060,7.775,1,1,1.0,1,old\\n853,0,3,\"Boulos, Miss. Nourelain\",0,9.0,1,1,2678,15.2458,1,3,2.0,0,child\\n854,1,1,\"Lines, Miss. Mary Conover\",0,16.0,0,1,PC 17592,39.4,1,2,2.0,0,teenager\\n855,0,2,\"Carter, Mrs. Ernest Courtenay (Lilian Hughes)\",0,44.0,1,0,244252,26.0,1,2,0.0,0,adult\\n856,1,3,\"Aks, Mrs. Sam (Leah Rosen)\",0,18.0,0,1,392091,9.35,1,2,0.0,0,teenager\\n857,1,1,\"Wick, Mrs. George Dennick (Mary Hitchcock)\",0,45.0,1,1,36928,164.8667,1,3,0.0,0,adult\\n858,1,1,\"Daly, Mr. Peter Denis \",1,51.0,0,0,113055,26.55,1,1,1.0,1,old\\n859,1,3,\"Baclini, Mrs. Solomon (Latifa Qurban)\",0,24.0,0,3,2666,19.2583,1,4,0.0,0,young\\n860,0,3,\"Razi, Mr. Raihed\",1,28.0,0,0,2629,7.2292,1,1,1.0,1,young\\n861,0,3,\"Hansen, Mr. Claus Peter\",1,41.0,2,0,350026,14.1083,1,3,1.0,0,adult\\n862,0,2,\"Giles, Mr. Frederick Edward\",1,21.0,1,0,28134,11.5,1,2,1.0,0,young\\n863,1,1,\"Swift, Mrs. Frederick Joel (Margaret Welles Barron)\",0,48.0,0,0,17466,25.9292,1,1,0.0,1,adult\\n864,0,3,\"Sage, Miss. Dorothy Edith \"\"Dolly\"\"\",0,28.0,8,2,CA. 2343,69.55,1,11,2.0,0,young\\n865,0,2,\"Gill, Mr. John William\",1,24.0,0,0,233866,13.0,1,1,1.0,1,young\\n866,1,2,\"Bystrom, Mrs. (Karolina)\",0,42.0,0,0,236852,13.0,1,1,0.0,1,adult\\n867,1,2,\"Duran y More, Miss. Asuncion\",0,27.0,1,0,SC/PARIS 2149,13.8583,1,2,2.0,0,young\\n868,0,1,\"Roebling, Mr. Washington Augustus II\",1,31.0,0,0,PC 17590,50.4958,1,1,1.0,1,adult\\n869,0,3,\"van Melkebeke, Mr. Philemon\",1,28.0,0,0,345777,9.5,1,1,1.0,1,young\\n870,1,3,\"Johnson, Master. Harold Theodor\",1,4.0,1,1,347742,11.1333,1,3,,0,child\\n871,0,3,\"Balkic, Mr. Cerin\",1,26.0,0,0,349248,7.8958,1,1,1.0,1,young\\n872,1,1,\"Beckwith, Mrs. Richard Leonard (Sallie Monypeny)\",0,47.0,1,1,11751,52.5542,1,3,0.0,0,adult\\n873,0,1,\"Carlsson, Mr. Frans Olof\",1,33.0,0,0,695,5.0,1,1,1.0,1,adult\\n874,0,3,\"Vander Cruyssen, Mr. Victor\",1,47.0,0,0,345765,9.0,1,1,1.0,1,adult\\n875,1,2,\"Abelson, Mrs. Samuel (Hannah Wizosky)\",0,28.0,1,0,P/PP 3381,24.0,1,2,0.0,0,young\\n876,1,3,\"Najib, Miss. Adele Kiamie \"\"Jane\"\"\",0,15.0,0,0,2667,7.225,1,1,2.0,1,teenager\\n877,0,3,\"Gustafsson, Mr. Alfred Ossian\",1,20.0,0,0,7534,9.8458,1,1,1.0,1,young\\n878,0,3,\"Petroff, Mr. Nedelio\",1,19.0,0,0,349212,7.8958,1,1,1.0,1,young\\n879,0,3,\"Laleff, Mr. Kristo\",1,28.0,0,0,349217,7.8958,1,1,1.0,1,young\\n880,1,1,\"Potter, Mrs. Thomas Jr (Lily Alexenia Wilson)\",0,56.0,0,1,11767,83.1583,1,2,0.0,0,old\\n881,1,2,\"Shelley, Mrs. William (Imanita Parrish Hall)\",0,25.0,0,1,230433,26.0,1,2,0.0,0,young\\n882,0,3,\"Markun, Mr. Johann\",1,33.0,0,0,349257,7.8958,1,1,1.0,1,adult\\n883,0,3,\"Dahlberg, Miss. Gerda Ulrika\",0,22.0,0,0,7552,10.5167,1,1,2.0,1,young\\n884,0,2,\"Banfield, Mr. Frederick James\",1,28.0,0,0,C.A./SOTON 34068,10.5,1,1,1.0,1,young\\n885,0,3,\"Sutehall, Mr. Henry Jr\",1,25.0,0,0,SOTON/OQ 392076,7.05,1,1,1.0,1,young\\n886,0,3,\"Rice, Mrs. William (Margaret Norton)\",0,39.0,0,5,382652,29.125,2,6,0.0,0,adult\\n887,0,2,\"Montvila, Rev. Juozas\",1,27.0,0,0,211536,13.0,1,1,,1,young\\n888,1,1,\"Graham, Miss. Margaret Edith\",0,19.0,0,0,112053,30.0,1,1,2.0,1,young\\n889,0,3,\"Johnston, Miss. Catherine Helen \"\"Carrie\"\"\",0,28.0,1,2,W./C. 6607,23.45,1,4,2.0,0,young\\n890,1,1,\"Behr, Mr. Karl Howell\",1,26.0,0,0,111369,30.0,1,1,1.0,1,young\\n891,0,3,\"Dooley, Mr. Patrick\",1,32.0,0,0,370376,7.75,2,1,1.0,1,adult\\n'}"
            ]
          },
          "metadata": {},
          "execution_count": 18
        }
      ]
    },
    {
      "cell_type": "code",
      "source": [
        "df=pd.read_csv(\"/content/cleaned_titanic.csv\")\n"
      ],
      "metadata": {
        "id": "u943h1VACiWH"
      },
      "execution_count": 19,
      "outputs": []
    },
    {
      "cell_type": "code",
      "source": [
        "print(df.head())"
      ],
      "metadata": {
        "colab": {
          "base_uri": "https://localhost:8080/"
        },
        "id": "gntm4je8Cd_P",
        "outputId": "d42f41bf-c9c5-4e04-ac00-002f810b7242"
      },
      "execution_count": 20,
      "outputs": [
        {
          "output_type": "stream",
          "name": "stdout",
          "text": [
            "   PassengerId  Survived  Pclass  \\\n",
            "0            1         0       3   \n",
            "1            2         1       1   \n",
            "2            3         1       3   \n",
            "3            4         1       1   \n",
            "4            5         0       3   \n",
            "\n",
            "                                                Name  Sex   Age  SibSp  Parch  \\\n",
            "0                            Braund, Mr. Owen Harris    1  22.0      1      0   \n",
            "1  Cumings, Mrs. John Bradley (Florence Briggs Th...    0  38.0      1      0   \n",
            "2                             Heikkinen, Miss. Laina    0  26.0      0      0   \n",
            "3       Futrelle, Mrs. Jacques Heath (Lily May Peel)    0  35.0      1      0   \n",
            "4                           Allen, Mr. William Henry    1  35.0      0      0   \n",
            "\n",
            "             Ticket     Fare  Embarked  FamilySize  Title  IsAlone AgeGroup  \n",
            "0         A/5 21171   7.2500         1           2    1.0        0    young  \n",
            "1          PC 17599  71.2833         1           2    0.0        0    adult  \n",
            "2  STON/O2. 3101282   7.9250         1           1    2.0        1    young  \n",
            "3            113803  53.1000         1           2    0.0        0    adult  \n",
            "4            373450   8.0500         1           1    1.0        1    adult  \n"
          ]
        }
      ]
    },
    {
      "cell_type": "code",
      "source": [
        "print(df.isnull().sum())"
      ],
      "metadata": {
        "colab": {
          "base_uri": "https://localhost:8080/"
        },
        "id": "8kMu8jXUCwOC",
        "outputId": "b1e9ae31-bb3d-427f-d296-098e4447ba79"
      },
      "execution_count": 21,
      "outputs": [
        {
          "output_type": "stream",
          "name": "stdout",
          "text": [
            "PassengerId     0\n",
            "Survived        0\n",
            "Pclass          0\n",
            "Name            0\n",
            "Sex             0\n",
            "Age             0\n",
            "SibSp           0\n",
            "Parch           0\n",
            "Ticket          0\n",
            "Fare            0\n",
            "Embarked        0\n",
            "FamilySize      0\n",
            "Title          67\n",
            "IsAlone         0\n",
            "AgeGroup        0\n",
            "dtype: int64\n"
          ]
        }
      ]
    },
    {
      "cell_type": "code",
      "source": [
        "df['Title'].fillna(df['Title'].mean(),inplace=True)"
      ],
      "metadata": {
        "colab": {
          "base_uri": "https://localhost:8080/"
        },
        "id": "LX3MAavVC1Ny",
        "outputId": "0e9e8646-aab1-43f7-eb18-e6e36cddd2e5"
      },
      "execution_count": 22,
      "outputs": [
        {
          "output_type": "stream",
          "name": "stderr",
          "text": [
            "/tmp/ipython-input-2966863800.py:1: FutureWarning: A value is trying to be set on a copy of a DataFrame or Series through chained assignment using an inplace method.\n",
            "The behavior will change in pandas 3.0. This inplace method will never work because the intermediate object on which we are setting values always behaves as a copy.\n",
            "\n",
            "For example, when doing 'df[col].method(value, inplace=True)', try using 'df.method({col: value}, inplace=True)' or df[col] = df[col].method(value) instead, to perform the operation inplace on the original object.\n",
            "\n",
            "\n",
            "  df['Title'].fillna(df['Title'].mean(),inplace=True)\n"
          ]
        }
      ]
    },
    {
      "cell_type": "code",
      "source": [
        "print(df.isnull().sum())"
      ],
      "metadata": {
        "colab": {
          "base_uri": "https://localhost:8080/"
        },
        "id": "NzQFmj26DTtR",
        "outputId": "610bb454-dd5f-477a-bae4-3088bf4e6d6c"
      },
      "execution_count": 23,
      "outputs": [
        {
          "output_type": "stream",
          "name": "stdout",
          "text": [
            "PassengerId    0\n",
            "Survived       0\n",
            "Pclass         0\n",
            "Name           0\n",
            "Sex            0\n",
            "Age            0\n",
            "SibSp          0\n",
            "Parch          0\n",
            "Ticket         0\n",
            "Fare           0\n",
            "Embarked       0\n",
            "FamilySize     0\n",
            "Title          0\n",
            "IsAlone        0\n",
            "AgeGroup       0\n",
            "dtype: int64\n"
          ]
        }
      ]
    },
    {
      "cell_type": "markdown",
      "source": [
        "#feature Scaling"
      ],
      "metadata": {
        "id": "IE_x6Oi3DiC0"
      }
    },
    {
      "cell_type": "code",
      "source": [
        "from sklearn.preprocessing import StandardScaler\n",
        "from sklearn.preprocessing import MinMaxScaler"
      ],
      "metadata": {
        "id": "cDS-7JMoDgIi"
      },
      "execution_count": 24,
      "outputs": []
    },
    {
      "cell_type": "code",
      "source": [
        "scaler=StandardScaler()\n",
        "df['Age_Scaled']=scaler.fit_transform(df[['Age']])"
      ],
      "metadata": {
        "id": "sE7YPbC9DfIj"
      },
      "execution_count": 26,
      "outputs": []
    },
    {
      "cell_type": "code",
      "source": [
        "scaler=MinMaxScaler()\n",
        "df['Fare_Scaled']=scaler.fit_transform(df[['Fare']])"
      ],
      "metadata": {
        "id": "mqO7GTfLEqiA"
      },
      "execution_count": 28,
      "outputs": []
    },
    {
      "cell_type": "code",
      "source": [
        "print(df.head())"
      ],
      "metadata": {
        "colab": {
          "base_uri": "https://localhost:8080/"
        },
        "id": "ytM20aJyE2EV",
        "outputId": "8ec3165f-a4a3-4bd3-fe71-6b31d6f1c94a"
      },
      "execution_count": 29,
      "outputs": [
        {
          "output_type": "stream",
          "name": "stdout",
          "text": [
            "   PassengerId  Survived  Pclass  \\\n",
            "0            1         0       3   \n",
            "1            2         1       1   \n",
            "2            3         1       3   \n",
            "3            4         1       1   \n",
            "4            5         0       3   \n",
            "\n",
            "                                                Name  Sex   Age  SibSp  Parch  \\\n",
            "0                            Braund, Mr. Owen Harris    1  22.0      1      0   \n",
            "1  Cumings, Mrs. John Bradley (Florence Briggs Th...    0  38.0      1      0   \n",
            "2                             Heikkinen, Miss. Laina    0  26.0      0      0   \n",
            "3       Futrelle, Mrs. Jacques Heath (Lily May Peel)    0  35.0      1      0   \n",
            "4                           Allen, Mr. William Henry    1  35.0      0      0   \n",
            "\n",
            "             Ticket     Fare  Embarked  FamilySize  Title  IsAlone AgeGroup  \\\n",
            "0         A/5 21171   7.2500         1           2    1.0        0    young   \n",
            "1          PC 17599  71.2833         1           2    0.0        0    adult   \n",
            "2  STON/O2. 3101282   7.9250         1           1    2.0        1    young   \n",
            "3            113803  53.1000         1           2    0.0        0    adult   \n",
            "4            373450   8.0500         1           1    1.0        1    adult   \n",
            "\n",
            "   Age_Scaled  Fare_Scaled  \n",
            "0   -0.565736     0.014151  \n",
            "1    0.663861     0.139136  \n",
            "2   -0.258337     0.015469  \n",
            "3    0.433312     0.103644  \n",
            "4    0.433312     0.015713  \n"
          ]
        }
      ]
    },
    {
      "cell_type": "code",
      "source": [
        "print(df.columns)"
      ],
      "metadata": {
        "colab": {
          "base_uri": "https://localhost:8080/"
        },
        "id": "Zmcy09RAUNMO",
        "outputId": "85f1912e-fb9f-4019-c2c1-c11ceca33ce3"
      },
      "execution_count": 46,
      "outputs": [
        {
          "output_type": "stream",
          "name": "stdout",
          "text": [
            "Index(['PassengerId', 'Survived', 'Pclass', 'Name', 'Sex', 'Age', 'SibSp',\n",
            "       'Parch', 'Ticket', 'Fare', 'Embarked', 'FamilySize', 'Title', 'IsAlone',\n",
            "       'Age_Scaled', 'Fare_Scaled', 'AgeGroup_child', 'AgeGroup_old',\n",
            "       'AgeGroup_teenager', 'AgeGroup_young'],\n",
            "      dtype='object')\n"
          ]
        }
      ]
    },
    {
      "cell_type": "code",
      "source": [
        "df=pd.get_dummies(df,columns=['AgeGroup'],drop_first=True)"
      ],
      "metadata": {
        "colab": {
          "base_uri": "https://localhost:8080/",
          "height": 391
        },
        "id": "OR_he4lZPBkf",
        "outputId": "95b00e75-7895-445c-91d2-da410816b375"
      },
      "execution_count": 45,
      "outputs": [
        {
          "output_type": "error",
          "ename": "KeyError",
          "evalue": "\"None of [Index(['AgeGroup'], dtype='object')] are in the [columns]\"",
          "traceback": [
            "\u001b[0;31m---------------------------------------------------------------------------\u001b[0m",
            "\u001b[0;31mKeyError\u001b[0m                                  Traceback (most recent call last)",
            "\u001b[0;32m/tmp/ipython-input-1690201736.py\u001b[0m in \u001b[0;36m<cell line: 0>\u001b[0;34m()\u001b[0m\n\u001b[0;32m----> 1\u001b[0;31m \u001b[0mdf\u001b[0m\u001b[0;34m=\u001b[0m\u001b[0mpd\u001b[0m\u001b[0;34m.\u001b[0m\u001b[0mget_dummies\u001b[0m\u001b[0;34m(\u001b[0m\u001b[0mdf\u001b[0m\u001b[0;34m,\u001b[0m\u001b[0mcolumns\u001b[0m\u001b[0;34m=\u001b[0m\u001b[0;34m[\u001b[0m\u001b[0;34m'AgeGroup'\u001b[0m\u001b[0;34m]\u001b[0m\u001b[0;34m,\u001b[0m\u001b[0mdrop_first\u001b[0m\u001b[0;34m=\u001b[0m\u001b[0;32mTrue\u001b[0m\u001b[0;34m)\u001b[0m\u001b[0;34m\u001b[0m\u001b[0;34m\u001b[0m\u001b[0m\n\u001b[0m",
            "\u001b[0;32m/usr/local/lib/python3.12/dist-packages/pandas/core/reshape/encoding.py\u001b[0m in \u001b[0;36mget_dummies\u001b[0;34m(data, prefix, prefix_sep, dummy_na, columns, sparse, drop_first, dtype)\u001b[0m\n\u001b[1;32m    167\u001b[0m             \u001b[0;32mraise\u001b[0m \u001b[0mTypeError\u001b[0m\u001b[0;34m(\u001b[0m\u001b[0;34m\"Input must be a list-like for parameter `columns`\"\u001b[0m\u001b[0;34m)\u001b[0m\u001b[0;34m\u001b[0m\u001b[0;34m\u001b[0m\u001b[0m\n\u001b[1;32m    168\u001b[0m         \u001b[0;32melse\u001b[0m\u001b[0;34m:\u001b[0m\u001b[0;34m\u001b[0m\u001b[0;34m\u001b[0m\u001b[0m\n\u001b[0;32m--> 169\u001b[0;31m             \u001b[0mdata_to_encode\u001b[0m \u001b[0;34m=\u001b[0m \u001b[0mdata\u001b[0m\u001b[0;34m[\u001b[0m\u001b[0mcolumns\u001b[0m\u001b[0;34m]\u001b[0m\u001b[0;34m\u001b[0m\u001b[0;34m\u001b[0m\u001b[0m\n\u001b[0m\u001b[1;32m    170\u001b[0m \u001b[0;34m\u001b[0m\u001b[0m\n\u001b[1;32m    171\u001b[0m         \u001b[0;31m# validate prefixes and separator to avoid silently dropping cols\u001b[0m\u001b[0;34m\u001b[0m\u001b[0;34m\u001b[0m\u001b[0m\n",
            "\u001b[0;32m/usr/local/lib/python3.12/dist-packages/pandas/core/frame.py\u001b[0m in \u001b[0;36m__getitem__\u001b[0;34m(self, key)\u001b[0m\n\u001b[1;32m   4106\u001b[0m             \u001b[0;32mif\u001b[0m \u001b[0mis_iterator\u001b[0m\u001b[0;34m(\u001b[0m\u001b[0mkey\u001b[0m\u001b[0;34m)\u001b[0m\u001b[0;34m:\u001b[0m\u001b[0;34m\u001b[0m\u001b[0;34m\u001b[0m\u001b[0m\n\u001b[1;32m   4107\u001b[0m                 \u001b[0mkey\u001b[0m \u001b[0;34m=\u001b[0m \u001b[0mlist\u001b[0m\u001b[0;34m(\u001b[0m\u001b[0mkey\u001b[0m\u001b[0;34m)\u001b[0m\u001b[0;34m\u001b[0m\u001b[0;34m\u001b[0m\u001b[0m\n\u001b[0;32m-> 4108\u001b[0;31m             \u001b[0mindexer\u001b[0m \u001b[0;34m=\u001b[0m \u001b[0mself\u001b[0m\u001b[0;34m.\u001b[0m\u001b[0mcolumns\u001b[0m\u001b[0;34m.\u001b[0m\u001b[0m_get_indexer_strict\u001b[0m\u001b[0;34m(\u001b[0m\u001b[0mkey\u001b[0m\u001b[0;34m,\u001b[0m \u001b[0;34m\"columns\"\u001b[0m\u001b[0;34m)\u001b[0m\u001b[0;34m[\u001b[0m\u001b[0;36m1\u001b[0m\u001b[0;34m]\u001b[0m\u001b[0;34m\u001b[0m\u001b[0;34m\u001b[0m\u001b[0m\n\u001b[0m\u001b[1;32m   4109\u001b[0m \u001b[0;34m\u001b[0m\u001b[0m\n\u001b[1;32m   4110\u001b[0m         \u001b[0;31m# take() does not accept boolean indexers\u001b[0m\u001b[0;34m\u001b[0m\u001b[0;34m\u001b[0m\u001b[0m\n",
            "\u001b[0;32m/usr/local/lib/python3.12/dist-packages/pandas/core/indexes/base.py\u001b[0m in \u001b[0;36m_get_indexer_strict\u001b[0;34m(self, key, axis_name)\u001b[0m\n\u001b[1;32m   6198\u001b[0m             \u001b[0mkeyarr\u001b[0m\u001b[0;34m,\u001b[0m \u001b[0mindexer\u001b[0m\u001b[0;34m,\u001b[0m \u001b[0mnew_indexer\u001b[0m \u001b[0;34m=\u001b[0m \u001b[0mself\u001b[0m\u001b[0;34m.\u001b[0m\u001b[0m_reindex_non_unique\u001b[0m\u001b[0;34m(\u001b[0m\u001b[0mkeyarr\u001b[0m\u001b[0;34m)\u001b[0m\u001b[0;34m\u001b[0m\u001b[0;34m\u001b[0m\u001b[0m\n\u001b[1;32m   6199\u001b[0m \u001b[0;34m\u001b[0m\u001b[0m\n\u001b[0;32m-> 6200\u001b[0;31m         \u001b[0mself\u001b[0m\u001b[0;34m.\u001b[0m\u001b[0m_raise_if_missing\u001b[0m\u001b[0;34m(\u001b[0m\u001b[0mkeyarr\u001b[0m\u001b[0;34m,\u001b[0m \u001b[0mindexer\u001b[0m\u001b[0;34m,\u001b[0m \u001b[0maxis_name\u001b[0m\u001b[0;34m)\u001b[0m\u001b[0;34m\u001b[0m\u001b[0;34m\u001b[0m\u001b[0m\n\u001b[0m\u001b[1;32m   6201\u001b[0m \u001b[0;34m\u001b[0m\u001b[0m\n\u001b[1;32m   6202\u001b[0m         \u001b[0mkeyarr\u001b[0m \u001b[0;34m=\u001b[0m \u001b[0mself\u001b[0m\u001b[0;34m.\u001b[0m\u001b[0mtake\u001b[0m\u001b[0;34m(\u001b[0m\u001b[0mindexer\u001b[0m\u001b[0;34m)\u001b[0m\u001b[0;34m\u001b[0m\u001b[0;34m\u001b[0m\u001b[0m\n",
            "\u001b[0;32m/usr/local/lib/python3.12/dist-packages/pandas/core/indexes/base.py\u001b[0m in \u001b[0;36m_raise_if_missing\u001b[0;34m(self, key, indexer, axis_name)\u001b[0m\n\u001b[1;32m   6247\u001b[0m         \u001b[0;32mif\u001b[0m \u001b[0mnmissing\u001b[0m\u001b[0;34m:\u001b[0m\u001b[0;34m\u001b[0m\u001b[0;34m\u001b[0m\u001b[0m\n\u001b[1;32m   6248\u001b[0m             \u001b[0;32mif\u001b[0m \u001b[0mnmissing\u001b[0m \u001b[0;34m==\u001b[0m \u001b[0mlen\u001b[0m\u001b[0;34m(\u001b[0m\u001b[0mindexer\u001b[0m\u001b[0;34m)\u001b[0m\u001b[0;34m:\u001b[0m\u001b[0;34m\u001b[0m\u001b[0;34m\u001b[0m\u001b[0m\n\u001b[0;32m-> 6249\u001b[0;31m                 \u001b[0;32mraise\u001b[0m \u001b[0mKeyError\u001b[0m\u001b[0;34m(\u001b[0m\u001b[0;34mf\"None of [{key}] are in the [{axis_name}]\"\u001b[0m\u001b[0;34m)\u001b[0m\u001b[0;34m\u001b[0m\u001b[0;34m\u001b[0m\u001b[0m\n\u001b[0m\u001b[1;32m   6250\u001b[0m \u001b[0;34m\u001b[0m\u001b[0m\n\u001b[1;32m   6251\u001b[0m             \u001b[0mnot_found\u001b[0m \u001b[0;34m=\u001b[0m \u001b[0mlist\u001b[0m\u001b[0;34m(\u001b[0m\u001b[0mensure_index\u001b[0m\u001b[0;34m(\u001b[0m\u001b[0mkey\u001b[0m\u001b[0;34m)\u001b[0m\u001b[0;34m[\u001b[0m\u001b[0mmissing_mask\u001b[0m\u001b[0;34m.\u001b[0m\u001b[0mnonzero\u001b[0m\u001b[0;34m(\u001b[0m\u001b[0;34m)\u001b[0m\u001b[0;34m[\u001b[0m\u001b[0;36m0\u001b[0m\u001b[0;34m]\u001b[0m\u001b[0;34m]\u001b[0m\u001b[0;34m.\u001b[0m\u001b[0munique\u001b[0m\u001b[0;34m(\u001b[0m\u001b[0;34m)\u001b[0m\u001b[0;34m)\u001b[0m\u001b[0;34m\u001b[0m\u001b[0;34m\u001b[0m\u001b[0m\n",
            "\u001b[0;31mKeyError\u001b[0m: \"None of [Index(['AgeGroup'], dtype='object')] are in the [columns]\""
          ]
        }
      ]
    },
    {
      "cell_type": "code",
      "source": [
        "print(df.head())\n"
      ],
      "metadata": {
        "id": "sydkakUvE6ZI",
        "colab": {
          "base_uri": "https://localhost:8080/"
        },
        "outputId": "fde91b03-aba4-4be9-e5a5-565cd2c2b2e6"
      },
      "execution_count": 47,
      "outputs": [
        {
          "output_type": "stream",
          "name": "stdout",
          "text": [
            "   PassengerId  Survived  Pclass  \\\n",
            "0            1         0       3   \n",
            "1            2         1       1   \n",
            "2            3         1       3   \n",
            "3            4         1       1   \n",
            "4            5         0       3   \n",
            "\n",
            "                                                Name  Sex   Age  SibSp  Parch  \\\n",
            "0                            Braund, Mr. Owen Harris    1  22.0      1      0   \n",
            "1  Cumings, Mrs. John Bradley (Florence Briggs Th...    0  38.0      1      0   \n",
            "2                             Heikkinen, Miss. Laina    0  26.0      0      0   \n",
            "3       Futrelle, Mrs. Jacques Heath (Lily May Peel)    0  35.0      1      0   \n",
            "4                           Allen, Mr. William Henry    1  35.0      0      0   \n",
            "\n",
            "             Ticket     Fare  Embarked  FamilySize  Title  IsAlone  \\\n",
            "0         A/5 21171   7.2500         1           2    1.0        0   \n",
            "1          PC 17599  71.2833         1           2    0.0        0   \n",
            "2  STON/O2. 3101282   7.9250         1           1    2.0        1   \n",
            "3            113803  53.1000         1           2    0.0        0   \n",
            "4            373450   8.0500         1           1    1.0        1   \n",
            "\n",
            "   Age_Scaled  Fare_Scaled  AgeGroup_child  AgeGroup_old  AgeGroup_teenager  \\\n",
            "0   -0.565736     0.014151               0             0                  0   \n",
            "1    0.663861     0.139136               0             0                  0   \n",
            "2   -0.258337     0.015469               0             0                  0   \n",
            "3    0.433312     0.103644               0             0                  0   \n",
            "4    0.433312     0.015713               0             0                  0   \n",
            "\n",
            "   AgeGroup_young  \n",
            "0               1  \n",
            "1               0  \n",
            "2               1  \n",
            "3               0  \n",
            "4               0  \n"
          ]
        }
      ]
    },
    {
      "cell_type": "code",
      "source": [
        "from sklearn.model_selection import train_test_split\n",
        "from sklearn.linear_model import LogisticRegression\n",
        "from sklearn.metrics import confusion_matrix,accuracy_score,classification_report"
      ],
      "metadata": {
        "id": "_1MSgbvKQrWE"
      },
      "execution_count": 37,
      "outputs": []
    },
    {
      "cell_type": "code",
      "source": [
        "print(df.head())\n"
      ],
      "metadata": {
        "colab": {
          "base_uri": "https://localhost:8080/"
        },
        "id": "dt3iG9pnR1Bc",
        "outputId": "38291516-5bbf-4c34-adb9-c72e789ee594"
      },
      "execution_count": 48,
      "outputs": [
        {
          "output_type": "stream",
          "name": "stdout",
          "text": [
            "   PassengerId  Survived  Pclass  \\\n",
            "0            1         0       3   \n",
            "1            2         1       1   \n",
            "2            3         1       3   \n",
            "3            4         1       1   \n",
            "4            5         0       3   \n",
            "\n",
            "                                                Name  Sex   Age  SibSp  Parch  \\\n",
            "0                            Braund, Mr. Owen Harris    1  22.0      1      0   \n",
            "1  Cumings, Mrs. John Bradley (Florence Briggs Th...    0  38.0      1      0   \n",
            "2                             Heikkinen, Miss. Laina    0  26.0      0      0   \n",
            "3       Futrelle, Mrs. Jacques Heath (Lily May Peel)    0  35.0      1      0   \n",
            "4                           Allen, Mr. William Henry    1  35.0      0      0   \n",
            "\n",
            "             Ticket     Fare  Embarked  FamilySize  Title  IsAlone  \\\n",
            "0         A/5 21171   7.2500         1           2    1.0        0   \n",
            "1          PC 17599  71.2833         1           2    0.0        0   \n",
            "2  STON/O2. 3101282   7.9250         1           1    2.0        1   \n",
            "3            113803  53.1000         1           2    0.0        0   \n",
            "4            373450   8.0500         1           1    1.0        1   \n",
            "\n",
            "   Age_Scaled  Fare_Scaled  AgeGroup_child  AgeGroup_old  AgeGroup_teenager  \\\n",
            "0   -0.565736     0.014151               0             0                  0   \n",
            "1    0.663861     0.139136               0             0                  0   \n",
            "2   -0.258337     0.015469               0             0                  0   \n",
            "3    0.433312     0.103644               0             0                  0   \n",
            "4    0.433312     0.015713               0             0                  0   \n",
            "\n",
            "   AgeGroup_young  \n",
            "0               1  \n",
            "1               0  \n",
            "2               1  \n",
            "3               0  \n",
            "4               0  \n"
          ]
        }
      ]
    },
    {
      "cell_type": "code",
      "source": [
        "x=df[['Pclass',\"Sex\",'SibSp','Parch','Age_Scaled','Fare_Scaled','AgeGroup_child','AgeGroup_old','AgeGroup_teenager','AgeGroup_young','FamilySize','IsAlone','Title']]\n",
        "y=df['Survived']"
      ],
      "metadata": {
        "id": "V39AAInXRcLn"
      },
      "execution_count": 49,
      "outputs": []
    },
    {
      "cell_type": "code",
      "source": [
        "x_train,x_test,y_train,y_test=train_test_split(x,y,test_size=0.2,random_state=42)"
      ],
      "metadata": {
        "id": "9tHeMjOhUmps"
      },
      "execution_count": 50,
      "outputs": []
    },
    {
      "cell_type": "code",
      "source": [
        "model=LogisticRegression()\n",
        "model.fit(x_train,y_train)"
      ],
      "metadata": {
        "colab": {
          "base_uri": "https://localhost:8080/",
          "height": 80
        },
        "id": "-twjqOvVU6kH",
        "outputId": "019e48a3-34e1-4586-8c95-f509b6d3bcd8"
      },
      "execution_count": 51,
      "outputs": [
        {
          "output_type": "execute_result",
          "data": {
            "text/plain": [
              "LogisticRegression()"
            ],
            "text/html": [
              "<style>#sk-container-id-1 {\n",
              "  /* Definition of color scheme common for light and dark mode */\n",
              "  --sklearn-color-text: #000;\n",
              "  --sklearn-color-text-muted: #666;\n",
              "  --sklearn-color-line: gray;\n",
              "  /* Definition of color scheme for unfitted estimators */\n",
              "  --sklearn-color-unfitted-level-0: #fff5e6;\n",
              "  --sklearn-color-unfitted-level-1: #f6e4d2;\n",
              "  --sklearn-color-unfitted-level-2: #ffe0b3;\n",
              "  --sklearn-color-unfitted-level-3: chocolate;\n",
              "  /* Definition of color scheme for fitted estimators */\n",
              "  --sklearn-color-fitted-level-0: #f0f8ff;\n",
              "  --sklearn-color-fitted-level-1: #d4ebff;\n",
              "  --sklearn-color-fitted-level-2: #b3dbfd;\n",
              "  --sklearn-color-fitted-level-3: cornflowerblue;\n",
              "\n",
              "  /* Specific color for light theme */\n",
              "  --sklearn-color-text-on-default-background: var(--sg-text-color, var(--theme-code-foreground, var(--jp-content-font-color1, black)));\n",
              "  --sklearn-color-background: var(--sg-background-color, var(--theme-background, var(--jp-layout-color0, white)));\n",
              "  --sklearn-color-border-box: var(--sg-text-color, var(--theme-code-foreground, var(--jp-content-font-color1, black)));\n",
              "  --sklearn-color-icon: #696969;\n",
              "\n",
              "  @media (prefers-color-scheme: dark) {\n",
              "    /* Redefinition of color scheme for dark theme */\n",
              "    --sklearn-color-text-on-default-background: var(--sg-text-color, var(--theme-code-foreground, var(--jp-content-font-color1, white)));\n",
              "    --sklearn-color-background: var(--sg-background-color, var(--theme-background, var(--jp-layout-color0, #111)));\n",
              "    --sklearn-color-border-box: var(--sg-text-color, var(--theme-code-foreground, var(--jp-content-font-color1, white)));\n",
              "    --sklearn-color-icon: #878787;\n",
              "  }\n",
              "}\n",
              "\n",
              "#sk-container-id-1 {\n",
              "  color: var(--sklearn-color-text);\n",
              "}\n",
              "\n",
              "#sk-container-id-1 pre {\n",
              "  padding: 0;\n",
              "}\n",
              "\n",
              "#sk-container-id-1 input.sk-hidden--visually {\n",
              "  border: 0;\n",
              "  clip: rect(1px 1px 1px 1px);\n",
              "  clip: rect(1px, 1px, 1px, 1px);\n",
              "  height: 1px;\n",
              "  margin: -1px;\n",
              "  overflow: hidden;\n",
              "  padding: 0;\n",
              "  position: absolute;\n",
              "  width: 1px;\n",
              "}\n",
              "\n",
              "#sk-container-id-1 div.sk-dashed-wrapped {\n",
              "  border: 1px dashed var(--sklearn-color-line);\n",
              "  margin: 0 0.4em 0.5em 0.4em;\n",
              "  box-sizing: border-box;\n",
              "  padding-bottom: 0.4em;\n",
              "  background-color: var(--sklearn-color-background);\n",
              "}\n",
              "\n",
              "#sk-container-id-1 div.sk-container {\n",
              "  /* jupyter's `normalize.less` sets `[hidden] { display: none; }`\n",
              "     but bootstrap.min.css set `[hidden] { display: none !important; }`\n",
              "     so we also need the `!important` here to be able to override the\n",
              "     default hidden behavior on the sphinx rendered scikit-learn.org.\n",
              "     See: https://github.com/scikit-learn/scikit-learn/issues/21755 */\n",
              "  display: inline-block !important;\n",
              "  position: relative;\n",
              "}\n",
              "\n",
              "#sk-container-id-1 div.sk-text-repr-fallback {\n",
              "  display: none;\n",
              "}\n",
              "\n",
              "div.sk-parallel-item,\n",
              "div.sk-serial,\n",
              "div.sk-item {\n",
              "  /* draw centered vertical line to link estimators */\n",
              "  background-image: linear-gradient(var(--sklearn-color-text-on-default-background), var(--sklearn-color-text-on-default-background));\n",
              "  background-size: 2px 100%;\n",
              "  background-repeat: no-repeat;\n",
              "  background-position: center center;\n",
              "}\n",
              "\n",
              "/* Parallel-specific style estimator block */\n",
              "\n",
              "#sk-container-id-1 div.sk-parallel-item::after {\n",
              "  content: \"\";\n",
              "  width: 100%;\n",
              "  border-bottom: 2px solid var(--sklearn-color-text-on-default-background);\n",
              "  flex-grow: 1;\n",
              "}\n",
              "\n",
              "#sk-container-id-1 div.sk-parallel {\n",
              "  display: flex;\n",
              "  align-items: stretch;\n",
              "  justify-content: center;\n",
              "  background-color: var(--sklearn-color-background);\n",
              "  position: relative;\n",
              "}\n",
              "\n",
              "#sk-container-id-1 div.sk-parallel-item {\n",
              "  display: flex;\n",
              "  flex-direction: column;\n",
              "}\n",
              "\n",
              "#sk-container-id-1 div.sk-parallel-item:first-child::after {\n",
              "  align-self: flex-end;\n",
              "  width: 50%;\n",
              "}\n",
              "\n",
              "#sk-container-id-1 div.sk-parallel-item:last-child::after {\n",
              "  align-self: flex-start;\n",
              "  width: 50%;\n",
              "}\n",
              "\n",
              "#sk-container-id-1 div.sk-parallel-item:only-child::after {\n",
              "  width: 0;\n",
              "}\n",
              "\n",
              "/* Serial-specific style estimator block */\n",
              "\n",
              "#sk-container-id-1 div.sk-serial {\n",
              "  display: flex;\n",
              "  flex-direction: column;\n",
              "  align-items: center;\n",
              "  background-color: var(--sklearn-color-background);\n",
              "  padding-right: 1em;\n",
              "  padding-left: 1em;\n",
              "}\n",
              "\n",
              "\n",
              "/* Toggleable style: style used for estimator/Pipeline/ColumnTransformer box that is\n",
              "clickable and can be expanded/collapsed.\n",
              "- Pipeline and ColumnTransformer use this feature and define the default style\n",
              "- Estimators will overwrite some part of the style using the `sk-estimator` class\n",
              "*/\n",
              "\n",
              "/* Pipeline and ColumnTransformer style (default) */\n",
              "\n",
              "#sk-container-id-1 div.sk-toggleable {\n",
              "  /* Default theme specific background. It is overwritten whether we have a\n",
              "  specific estimator or a Pipeline/ColumnTransformer */\n",
              "  background-color: var(--sklearn-color-background);\n",
              "}\n",
              "\n",
              "/* Toggleable label */\n",
              "#sk-container-id-1 label.sk-toggleable__label {\n",
              "  cursor: pointer;\n",
              "  display: flex;\n",
              "  width: 100%;\n",
              "  margin-bottom: 0;\n",
              "  padding: 0.5em;\n",
              "  box-sizing: border-box;\n",
              "  text-align: center;\n",
              "  align-items: start;\n",
              "  justify-content: space-between;\n",
              "  gap: 0.5em;\n",
              "}\n",
              "\n",
              "#sk-container-id-1 label.sk-toggleable__label .caption {\n",
              "  font-size: 0.6rem;\n",
              "  font-weight: lighter;\n",
              "  color: var(--sklearn-color-text-muted);\n",
              "}\n",
              "\n",
              "#sk-container-id-1 label.sk-toggleable__label-arrow:before {\n",
              "  /* Arrow on the left of the label */\n",
              "  content: \"▸\";\n",
              "  float: left;\n",
              "  margin-right: 0.25em;\n",
              "  color: var(--sklearn-color-icon);\n",
              "}\n",
              "\n",
              "#sk-container-id-1 label.sk-toggleable__label-arrow:hover:before {\n",
              "  color: var(--sklearn-color-text);\n",
              "}\n",
              "\n",
              "/* Toggleable content - dropdown */\n",
              "\n",
              "#sk-container-id-1 div.sk-toggleable__content {\n",
              "  max-height: 0;\n",
              "  max-width: 0;\n",
              "  overflow: hidden;\n",
              "  text-align: left;\n",
              "  /* unfitted */\n",
              "  background-color: var(--sklearn-color-unfitted-level-0);\n",
              "}\n",
              "\n",
              "#sk-container-id-1 div.sk-toggleable__content.fitted {\n",
              "  /* fitted */\n",
              "  background-color: var(--sklearn-color-fitted-level-0);\n",
              "}\n",
              "\n",
              "#sk-container-id-1 div.sk-toggleable__content pre {\n",
              "  margin: 0.2em;\n",
              "  border-radius: 0.25em;\n",
              "  color: var(--sklearn-color-text);\n",
              "  /* unfitted */\n",
              "  background-color: var(--sklearn-color-unfitted-level-0);\n",
              "}\n",
              "\n",
              "#sk-container-id-1 div.sk-toggleable__content.fitted pre {\n",
              "  /* unfitted */\n",
              "  background-color: var(--sklearn-color-fitted-level-0);\n",
              "}\n",
              "\n",
              "#sk-container-id-1 input.sk-toggleable__control:checked~div.sk-toggleable__content {\n",
              "  /* Expand drop-down */\n",
              "  max-height: 200px;\n",
              "  max-width: 100%;\n",
              "  overflow: auto;\n",
              "}\n",
              "\n",
              "#sk-container-id-1 input.sk-toggleable__control:checked~label.sk-toggleable__label-arrow:before {\n",
              "  content: \"▾\";\n",
              "}\n",
              "\n",
              "/* Pipeline/ColumnTransformer-specific style */\n",
              "\n",
              "#sk-container-id-1 div.sk-label input.sk-toggleable__control:checked~label.sk-toggleable__label {\n",
              "  color: var(--sklearn-color-text);\n",
              "  background-color: var(--sklearn-color-unfitted-level-2);\n",
              "}\n",
              "\n",
              "#sk-container-id-1 div.sk-label.fitted input.sk-toggleable__control:checked~label.sk-toggleable__label {\n",
              "  background-color: var(--sklearn-color-fitted-level-2);\n",
              "}\n",
              "\n",
              "/* Estimator-specific style */\n",
              "\n",
              "/* Colorize estimator box */\n",
              "#sk-container-id-1 div.sk-estimator input.sk-toggleable__control:checked~label.sk-toggleable__label {\n",
              "  /* unfitted */\n",
              "  background-color: var(--sklearn-color-unfitted-level-2);\n",
              "}\n",
              "\n",
              "#sk-container-id-1 div.sk-estimator.fitted input.sk-toggleable__control:checked~label.sk-toggleable__label {\n",
              "  /* fitted */\n",
              "  background-color: var(--sklearn-color-fitted-level-2);\n",
              "}\n",
              "\n",
              "#sk-container-id-1 div.sk-label label.sk-toggleable__label,\n",
              "#sk-container-id-1 div.sk-label label {\n",
              "  /* The background is the default theme color */\n",
              "  color: var(--sklearn-color-text-on-default-background);\n",
              "}\n",
              "\n",
              "/* On hover, darken the color of the background */\n",
              "#sk-container-id-1 div.sk-label:hover label.sk-toggleable__label {\n",
              "  color: var(--sklearn-color-text);\n",
              "  background-color: var(--sklearn-color-unfitted-level-2);\n",
              "}\n",
              "\n",
              "/* Label box, darken color on hover, fitted */\n",
              "#sk-container-id-1 div.sk-label.fitted:hover label.sk-toggleable__label.fitted {\n",
              "  color: var(--sklearn-color-text);\n",
              "  background-color: var(--sklearn-color-fitted-level-2);\n",
              "}\n",
              "\n",
              "/* Estimator label */\n",
              "\n",
              "#sk-container-id-1 div.sk-label label {\n",
              "  font-family: monospace;\n",
              "  font-weight: bold;\n",
              "  display: inline-block;\n",
              "  line-height: 1.2em;\n",
              "}\n",
              "\n",
              "#sk-container-id-1 div.sk-label-container {\n",
              "  text-align: center;\n",
              "}\n",
              "\n",
              "/* Estimator-specific */\n",
              "#sk-container-id-1 div.sk-estimator {\n",
              "  font-family: monospace;\n",
              "  border: 1px dotted var(--sklearn-color-border-box);\n",
              "  border-radius: 0.25em;\n",
              "  box-sizing: border-box;\n",
              "  margin-bottom: 0.5em;\n",
              "  /* unfitted */\n",
              "  background-color: var(--sklearn-color-unfitted-level-0);\n",
              "}\n",
              "\n",
              "#sk-container-id-1 div.sk-estimator.fitted {\n",
              "  /* fitted */\n",
              "  background-color: var(--sklearn-color-fitted-level-0);\n",
              "}\n",
              "\n",
              "/* on hover */\n",
              "#sk-container-id-1 div.sk-estimator:hover {\n",
              "  /* unfitted */\n",
              "  background-color: var(--sklearn-color-unfitted-level-2);\n",
              "}\n",
              "\n",
              "#sk-container-id-1 div.sk-estimator.fitted:hover {\n",
              "  /* fitted */\n",
              "  background-color: var(--sklearn-color-fitted-level-2);\n",
              "}\n",
              "\n",
              "/* Specification for estimator info (e.g. \"i\" and \"?\") */\n",
              "\n",
              "/* Common style for \"i\" and \"?\" */\n",
              "\n",
              ".sk-estimator-doc-link,\n",
              "a:link.sk-estimator-doc-link,\n",
              "a:visited.sk-estimator-doc-link {\n",
              "  float: right;\n",
              "  font-size: smaller;\n",
              "  line-height: 1em;\n",
              "  font-family: monospace;\n",
              "  background-color: var(--sklearn-color-background);\n",
              "  border-radius: 1em;\n",
              "  height: 1em;\n",
              "  width: 1em;\n",
              "  text-decoration: none !important;\n",
              "  margin-left: 0.5em;\n",
              "  text-align: center;\n",
              "  /* unfitted */\n",
              "  border: var(--sklearn-color-unfitted-level-1) 1pt solid;\n",
              "  color: var(--sklearn-color-unfitted-level-1);\n",
              "}\n",
              "\n",
              ".sk-estimator-doc-link.fitted,\n",
              "a:link.sk-estimator-doc-link.fitted,\n",
              "a:visited.sk-estimator-doc-link.fitted {\n",
              "  /* fitted */\n",
              "  border: var(--sklearn-color-fitted-level-1) 1pt solid;\n",
              "  color: var(--sklearn-color-fitted-level-1);\n",
              "}\n",
              "\n",
              "/* On hover */\n",
              "div.sk-estimator:hover .sk-estimator-doc-link:hover,\n",
              ".sk-estimator-doc-link:hover,\n",
              "div.sk-label-container:hover .sk-estimator-doc-link:hover,\n",
              ".sk-estimator-doc-link:hover {\n",
              "  /* unfitted */\n",
              "  background-color: var(--sklearn-color-unfitted-level-3);\n",
              "  color: var(--sklearn-color-background);\n",
              "  text-decoration: none;\n",
              "}\n",
              "\n",
              "div.sk-estimator.fitted:hover .sk-estimator-doc-link.fitted:hover,\n",
              ".sk-estimator-doc-link.fitted:hover,\n",
              "div.sk-label-container:hover .sk-estimator-doc-link.fitted:hover,\n",
              ".sk-estimator-doc-link.fitted:hover {\n",
              "  /* fitted */\n",
              "  background-color: var(--sklearn-color-fitted-level-3);\n",
              "  color: var(--sklearn-color-background);\n",
              "  text-decoration: none;\n",
              "}\n",
              "\n",
              "/* Span, style for the box shown on hovering the info icon */\n",
              ".sk-estimator-doc-link span {\n",
              "  display: none;\n",
              "  z-index: 9999;\n",
              "  position: relative;\n",
              "  font-weight: normal;\n",
              "  right: .2ex;\n",
              "  padding: .5ex;\n",
              "  margin: .5ex;\n",
              "  width: min-content;\n",
              "  min-width: 20ex;\n",
              "  max-width: 50ex;\n",
              "  color: var(--sklearn-color-text);\n",
              "  box-shadow: 2pt 2pt 4pt #999;\n",
              "  /* unfitted */\n",
              "  background: var(--sklearn-color-unfitted-level-0);\n",
              "  border: .5pt solid var(--sklearn-color-unfitted-level-3);\n",
              "}\n",
              "\n",
              ".sk-estimator-doc-link.fitted span {\n",
              "  /* fitted */\n",
              "  background: var(--sklearn-color-fitted-level-0);\n",
              "  border: var(--sklearn-color-fitted-level-3);\n",
              "}\n",
              "\n",
              ".sk-estimator-doc-link:hover span {\n",
              "  display: block;\n",
              "}\n",
              "\n",
              "/* \"?\"-specific style due to the `<a>` HTML tag */\n",
              "\n",
              "#sk-container-id-1 a.estimator_doc_link {\n",
              "  float: right;\n",
              "  font-size: 1rem;\n",
              "  line-height: 1em;\n",
              "  font-family: monospace;\n",
              "  background-color: var(--sklearn-color-background);\n",
              "  border-radius: 1rem;\n",
              "  height: 1rem;\n",
              "  width: 1rem;\n",
              "  text-decoration: none;\n",
              "  /* unfitted */\n",
              "  color: var(--sklearn-color-unfitted-level-1);\n",
              "  border: var(--sklearn-color-unfitted-level-1) 1pt solid;\n",
              "}\n",
              "\n",
              "#sk-container-id-1 a.estimator_doc_link.fitted {\n",
              "  /* fitted */\n",
              "  border: var(--sklearn-color-fitted-level-1) 1pt solid;\n",
              "  color: var(--sklearn-color-fitted-level-1);\n",
              "}\n",
              "\n",
              "/* On hover */\n",
              "#sk-container-id-1 a.estimator_doc_link:hover {\n",
              "  /* unfitted */\n",
              "  background-color: var(--sklearn-color-unfitted-level-3);\n",
              "  color: var(--sklearn-color-background);\n",
              "  text-decoration: none;\n",
              "}\n",
              "\n",
              "#sk-container-id-1 a.estimator_doc_link.fitted:hover {\n",
              "  /* fitted */\n",
              "  background-color: var(--sklearn-color-fitted-level-3);\n",
              "}\n",
              "</style><div id=\"sk-container-id-1\" class=\"sk-top-container\"><div class=\"sk-text-repr-fallback\"><pre>LogisticRegression()</pre><b>In a Jupyter environment, please rerun this cell to show the HTML representation or trust the notebook. <br />On GitHub, the HTML representation is unable to render, please try loading this page with nbviewer.org.</b></div><div class=\"sk-container\" hidden><div class=\"sk-item\"><div class=\"sk-estimator fitted sk-toggleable\"><input class=\"sk-toggleable__control sk-hidden--visually\" id=\"sk-estimator-id-1\" type=\"checkbox\" checked><label for=\"sk-estimator-id-1\" class=\"sk-toggleable__label fitted sk-toggleable__label-arrow\"><div><div>LogisticRegression</div></div><div><a class=\"sk-estimator-doc-link fitted\" rel=\"noreferrer\" target=\"_blank\" href=\"https://scikit-learn.org/1.6/modules/generated/sklearn.linear_model.LogisticRegression.html\">?<span>Documentation for LogisticRegression</span></a><span class=\"sk-estimator-doc-link fitted\">i<span>Fitted</span></span></div></label><div class=\"sk-toggleable__content fitted\"><pre>LogisticRegression()</pre></div> </div></div></div></div>"
            ]
          },
          "metadata": {},
          "execution_count": 51
        }
      ]
    },
    {
      "cell_type": "code",
      "source": [
        "y_pred=model.predict(x_test)"
      ],
      "metadata": {
        "id": "4sws2GLgVC-Z"
      },
      "execution_count": 52,
      "outputs": []
    },
    {
      "cell_type": "code",
      "source": [
        "print(f\"Accuracy_Score: {accuracy_score(y_test,y_pred)}\")\n",
        "print(f\"confusion Matrix: {confusion_matrix(y_test,y_pred)}\")\n",
        "print(f\"Classification Report: {classification_report(y_test,y_pred)}\")"
      ],
      "metadata": {
        "colab": {
          "base_uri": "https://localhost:8080/"
        },
        "id": "SPOJDY8eVLOg",
        "outputId": "bbe34265-5621-4cf8-cbee-e507648e8350"
      },
      "execution_count": 53,
      "outputs": [
        {
          "output_type": "stream",
          "name": "stdout",
          "text": [
            "Accuracy_Score: 0.8044692737430168\n",
            "confusion Matrix: [[92 13]\n",
            " [22 52]]\n",
            "Classification Report:               precision    recall  f1-score   support\n",
            "\n",
            "           0       0.81      0.88      0.84       105\n",
            "           1       0.80      0.70      0.75        74\n",
            "\n",
            "    accuracy                           0.80       179\n",
            "   macro avg       0.80      0.79      0.79       179\n",
            "weighted avg       0.80      0.80      0.80       179\n",
            "\n"
          ]
        }
      ]
    }
  ]
}